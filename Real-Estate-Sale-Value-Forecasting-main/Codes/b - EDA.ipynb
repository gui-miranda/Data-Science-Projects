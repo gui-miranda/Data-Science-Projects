{
 "cells": [
  {
   "cell_type": "markdown",
   "metadata": {},
   "source": [
    "  "
   ]
  },
  {
   "cell_type": "code",
   "execution_count": 6,
   "metadata": {},
   "outputs": [],
   "source": [
    "# Buscando os N zipcodes onde houveram o maior número de vendas\n",
    "N = 15\n",
    "\n",
    "df_sales    = pd.DataFrame(df['zipcode'].value_counts())\n",
    "df_sales    = df_sales.nlargest(N,'zipcode')\n",
    "zipcodes_sales = df_sales.index\n"
   ]
  },
  {
   "cell_type": "code",
   "execution_count": 7,
   "metadata": {},
   "outputs": [
    {
     "data": {
      "text/plain": [
       "<BarContainer object of 15 artists>"
      ]
     },
     "execution_count": 7,
     "metadata": {},
     "output_type": "execute_result"
    },
    {
     "data": {
      "image/png": "[encoded data removed]",
      "text/plain": [
       "<Figure size 720x360 with 1 Axes>"
      ]
     },
     "metadata": {
      "needs_background": "light"
     },
     "output_type": "display_data"
    }
   ],
   "source": [
    "classes_grafico =[]\n",
    "for i in zipcodes_sales:\n",
    "    i =str(i)\n",
    "    classes_grafico.append(i)\n",
    "\n",
    "plt.figure(figsize=(10,5))\n",
    "plt.xlabel('ZipCodes')\n",
    "plt.ylabel('N° de Vendas')\n",
    "plt.title('ZipCodes com mais vendas')\n",
    "plt.bar(classes_grafico,df_sales['zipcode'])"
   ]
  },
  {
   "cell_type": "markdown",
   "metadata": {},
   "source": []
  },
  {
   "cell_type": "code",
   "execution_count": 132,
   "metadata": {},
   "outputs": [],
   "source": [
    "# Buscando os N zipcodes onde o sqft_living é mais valorizado\n",
    "zipcodes = df['zipcode'].unique()\n",
    "sqft_living = []\n",
    "sqft_price =[]\n",
    "codes =[]\n",
    "\n",
    "for i in zipcodes:\n",
    "    data = df['price'][df['zipcode'] == i].sum()\n",
    "    sqft_living = df['sqft_living'][df['zipcode'] == i].sum()\n",
    "    k = (data/sqft_living)\n",
    "    codes.append(i)\n",
    "    sqft_price.append(k)"
   ]
  },
  {
   "cell_type": "code",
   "execution_count": 133,
   "metadata": {},
   "outputs": [],
   "source": [
    "sqft_price = pd.DataFrame(sqft_price,columns =['Sqft_Price'])\n",
    "codes = pd.DataFrame(codes,columns = ['ZipCodes'])\n",
    "\n",
    "frame = [sqft_price,codes]\n",
    "df_sqft = pd.concat(frame,axis=1).nlargest(N,'Sqft_Price').set_index('ZipCodes')\n",
    "zipcodes_sqft = df_sqft.index"
   ]
  },
  {
   "cell_type": "code",
   "execution_count": 135,
   "metadata": {},
   "outputs": [
    {
     "data": {
      "text/plain": [
       "<BarContainer object of 15 artists>"
      ]
     },
     "execution_count": 135,
     "metadata": {},
     "output_type": "execute_result"
    },
    {
     "data": {
      "image/png": "[encoded data removed]",
      "text/plain": [
       "<Figure size 720x360 with 1 Axes>"
      ]
     },
     "metadata": {
      "needs_background": "light"
     },
     "output_type": "display_data"
    }
   ],
   "source": [
    "classes_grafico =[]\n",
    "for i in zipcodes_sqft:\n",
    "    i = str(i)\n",
    "    classes_grafico.append(i)\n",
    "    \n",
    "plt.figure(figsize=(10,5))\n",
    "plt.xlabel('ZipCodes')\n",
    "plt.ylabel('Dollars/m^2')\n",
    "plt.title('ZipCodes com m^2 mais valorizado')\n",
    "plt.bar(classes_grafico,df_sqft['Sqft_Price'])\n",
    "plt.show()"
   ]
  },
  {
   "cell_type": "code",
   "execution_count": 138,
   "metadata": {},
   "outputs": [],
   "source": [
    "# Buscando as regiões de interseção entre as duas classficações levantadas\n",
    "zipcodes_cruzados =[]\n",
    "\n",
    "for i in range(N):\n",
    "    if zipcodes_sales[i] in zipcodes_sqft:\n",
    "        zipcodes_cruzados.append(zipcodes_sales[i])\n",
    "\n",
    "total_sales =[]\n",
    "sqft_prices = []\n",
    "\n",
    "for i in zipcodes_cruzados:\n",
    "    k =int(df_sales.loc[i])\n",
    "    total_sales.append(k) \n",
    "    \n",
    "    j =int(df_sqft.loc[i])\n",
    "    sqft_prices.append(j) "
   ]
  },
  {
   "cell_type": "code",
   "execution_count": 139,
   "metadata": {},
   "outputs": [
    {
     "name": "stdout",
     "output_type": "stream",
     "text": [
      "Melhores Locais para se investir\n"
     ]
    },
    {
     "data": {
      "text/html": [
       "<div>\n",
       "<style scoped>\n",
       "    .dataframe tbody tr th:only-of-type {\n",
       "        vertical-align: middle;\n",
       "    }\n",
       "\n",
       "    .dataframe tbody tr th {\n",
       "        vertical-align: top;\n",
       "    }\n",
       "\n",
       "    .dataframe thead th {\n",
       "        text-align: right;\n",
       "    }\n",
       "</style>\n",
       "<table border=\"1\" class=\"dataframe\">\n",
       "  <thead>\n",
       "    <tr style=\"text-align: right;\">\n",
       "      <th></th>\n",
       "      <th>ZipCodes</th>\n",
       "      <th>Total Sales</th>\n",
       "      <th>Sqft_Price</th>\n",
       "    </tr>\n",
       "  </thead>\n",
       "  <tbody>\n",
       "    <tr>\n",
       "      <th>0</th>\n",
       "      <td>98103</td>\n",
       "      <td>602</td>\n",
       "      <td>354</td>\n",
       "    </tr>\n",
       "    <tr>\n",
       "      <th>1</th>\n",
       "      <td>98115</td>\n",
       "      <td>583</td>\n",
       "      <td>337</td>\n",
       "    </tr>\n",
       "    <tr>\n",
       "      <th>2</th>\n",
       "      <td>98117</td>\n",
       "      <td>553</td>\n",
       "      <td>340</td>\n",
       "    </tr>\n",
       "  </tbody>\n",
       "</table>\n",
       "</div>"
      ],
      "text/plain": [
       "   ZipCodes  Total Sales  Sqft_Price\n",
       "0     98103          602         354\n",
       "1     98115          583         337\n",
       "2     98117          553         340"
      ]
     },
     "execution_count": 139,
     "metadata": {},
     "output_type": "execute_result"
    }
   ],
   "source": [
    "# Melhores Locais para se investir (Vende muito e bem valorizado)\n",
    "total_sales = pd.DataFrame(total_sales,columns = ['Total Sales'])    \n",
    "sqft_prices = pd.DataFrame(sqft_prices,columns =['Sqft_Price'])\n",
    "zipcodes_cruzados = pd.DataFrame(zipcodes_cruzados,columns =['ZipCodes'])\n",
    "\n",
    "frame = (zipcodes_cruzados,total_sales,sqft_prices)\n",
    "df_gRegion = pd.concat(frame,axis =1)\n",
    "print('Melhores Locais para se investir')\n",
    "df_gRegion"
   ]
  },
  {
   "cell_type": "markdown",
   "metadata": {},
   "source": []
  },
  {
   "cell_type": "code",
   "execution_count": 140,
   "metadata": {},
   "outputs": [
    {
     "data": {
      "text/html": [
       "<div>\n",
       "<style scoped>\n",
       "    .dataframe tbody tr th:only-of-type {\n",
       "        vertical-align: middle;\n",
       "    }\n",
       "\n",
       "    .dataframe tbody tr th {\n",
       "        vertical-align: top;\n",
       "    }\n",
       "\n",
       "    .dataframe thead th {\n",
       "        text-align: right;\n",
       "    }\n",
       "</style>\n",
       "<table border=\"1\" class=\"dataframe\">\n",
       "  <thead>\n",
       "    <tr style=\"text-align: right;\">\n",
       "      <th></th>\n",
       "      <th>id</th>\n",
       "      <th>date</th>\n",
       "      <th>price</th>\n",
       "      <th>bedrooms</th>\n",
       "      <th>bathrooms</th>\n",
       "      <th>sqft_living</th>\n",
       "      <th>sqft_lot</th>\n",
       "      <th>floors</th>\n",
       "      <th>waterfront</th>\n",
       "      <th>view</th>\n",
       "      <th>...</th>\n",
       "      <th>grade</th>\n",
       "      <th>sqft_above</th>\n",
       "      <th>sqft_basement</th>\n",
       "      <th>yr_built</th>\n",
       "      <th>yr_renovated</th>\n",
       "      <th>zipcode</th>\n",
       "      <th>lat</th>\n",
       "      <th>long</th>\n",
       "      <th>sqft_living15</th>\n",
       "      <th>sqft_lot15</th>\n",
       "    </tr>\n",
       "  </thead>\n",
       "  <tbody>\n",
       "    <tr>\n",
       "      <th>32</th>\n",
       "      <td>461000390</td>\n",
       "      <td>20140624T000000</td>\n",
       "      <td>687500.0</td>\n",
       "      <td>4</td>\n",
       "      <td>1.75</td>\n",
       "      <td>2330</td>\n",
       "      <td>5000</td>\n",
       "      <td>1.5</td>\n",
       "      <td>0</td>\n",
       "      <td>0</td>\n",
       "      <td>...</td>\n",
       "      <td>7</td>\n",
       "      <td>1510</td>\n",
       "      <td>820</td>\n",
       "      <td>1929</td>\n",
       "      <td>0</td>\n",
       "      <td>98117</td>\n",
       "      <td>47.6823</td>\n",
       "      <td>-122.368</td>\n",
       "      <td>1460</td>\n",
       "      <td>5000</td>\n",
       "    </tr>\n",
       "    <tr>\n",
       "      <th>33</th>\n",
       "      <td>7589200193</td>\n",
       "      <td>20141110T000000</td>\n",
       "      <td>535000.0</td>\n",
       "      <td>3</td>\n",
       "      <td>1.00</td>\n",
       "      <td>1090</td>\n",
       "      <td>3000</td>\n",
       "      <td>1.5</td>\n",
       "      <td>0</td>\n",
       "      <td>0</td>\n",
       "      <td>...</td>\n",
       "      <td>8</td>\n",
       "      <td>1090</td>\n",
       "      <td>0</td>\n",
       "      <td>1929</td>\n",
       "      <td>0</td>\n",
       "      <td>98117</td>\n",
       "      <td>47.6889</td>\n",
       "      <td>-122.375</td>\n",
       "      <td>1570</td>\n",
       "      <td>5080</td>\n",
       "    </tr>\n",
       "    <tr>\n",
       "      <th>52</th>\n",
       "      <td>7518505990</td>\n",
       "      <td>20141231T000000</td>\n",
       "      <td>600000.0</td>\n",
       "      <td>3</td>\n",
       "      <td>1.75</td>\n",
       "      <td>1410</td>\n",
       "      <td>4080</td>\n",
       "      <td>1.0</td>\n",
       "      <td>0</td>\n",
       "      <td>0</td>\n",
       "      <td>...</td>\n",
       "      <td>7</td>\n",
       "      <td>1000</td>\n",
       "      <td>410</td>\n",
       "      <td>1950</td>\n",
       "      <td>0</td>\n",
       "      <td>98117</td>\n",
       "      <td>47.6808</td>\n",
       "      <td>-122.384</td>\n",
       "      <td>1410</td>\n",
       "      <td>4080</td>\n",
       "    </tr>\n",
       "    <tr>\n",
       "      <th>53</th>\n",
       "      <td>3626039271</td>\n",
       "      <td>20150205T000000</td>\n",
       "      <td>585000.0</td>\n",
       "      <td>2</td>\n",
       "      <td>1.75</td>\n",
       "      <td>1980</td>\n",
       "      <td>8550</td>\n",
       "      <td>1.0</td>\n",
       "      <td>0</td>\n",
       "      <td>0</td>\n",
       "      <td>...</td>\n",
       "      <td>7</td>\n",
       "      <td>990</td>\n",
       "      <td>990</td>\n",
       "      <td>1981</td>\n",
       "      <td>0</td>\n",
       "      <td>98117</td>\n",
       "      <td>47.6989</td>\n",
       "      <td>-122.369</td>\n",
       "      <td>1480</td>\n",
       "      <td>6738</td>\n",
       "    </tr>\n",
       "    <tr>\n",
       "      <th>93</th>\n",
       "      <td>6021501535</td>\n",
       "      <td>20140725T000000</td>\n",
       "      <td>430000.0</td>\n",
       "      <td>3</td>\n",
       "      <td>1.50</td>\n",
       "      <td>1580</td>\n",
       "      <td>5000</td>\n",
       "      <td>1.0</td>\n",
       "      <td>0</td>\n",
       "      <td>0</td>\n",
       "      <td>...</td>\n",
       "      <td>8</td>\n",
       "      <td>1290</td>\n",
       "      <td>290</td>\n",
       "      <td>1939</td>\n",
       "      <td>0</td>\n",
       "      <td>98117</td>\n",
       "      <td>47.6870</td>\n",
       "      <td>-122.386</td>\n",
       "      <td>1570</td>\n",
       "      <td>4500</td>\n",
       "    </tr>\n",
       "    <tr>\n",
       "      <th>...</th>\n",
       "      <td>...</td>\n",
       "      <td>...</td>\n",
       "      <td>...</td>\n",
       "      <td>...</td>\n",
       "      <td>...</td>\n",
       "      <td>...</td>\n",
       "      <td>...</td>\n",
       "      <td>...</td>\n",
       "      <td>...</td>\n",
       "      <td>...</td>\n",
       "      <td>...</td>\n",
       "      <td>...</td>\n",
       "      <td>...</td>\n",
       "      <td>...</td>\n",
       "      <td>...</td>\n",
       "      <td>...</td>\n",
       "      <td>...</td>\n",
       "      <td>...</td>\n",
       "      <td>...</td>\n",
       "      <td>...</td>\n",
       "      <td>...</td>\n",
       "    </tr>\n",
       "    <tr>\n",
       "      <th>21489</th>\n",
       "      <td>6021503707</td>\n",
       "      <td>20150120T000000</td>\n",
       "      <td>352500.0</td>\n",
       "      <td>2</td>\n",
       "      <td>2.50</td>\n",
       "      <td>980</td>\n",
       "      <td>1010</td>\n",
       "      <td>3.0</td>\n",
       "      <td>0</td>\n",
       "      <td>0</td>\n",
       "      <td>...</td>\n",
       "      <td>8</td>\n",
       "      <td>980</td>\n",
       "      <td>0</td>\n",
       "      <td>2008</td>\n",
       "      <td>0</td>\n",
       "      <td>98117</td>\n",
       "      <td>47.6844</td>\n",
       "      <td>-122.387</td>\n",
       "      <td>980</td>\n",
       "      <td>1023</td>\n",
       "    </tr>\n",
       "    <tr>\n",
       "      <th>21538</th>\n",
       "      <td>1865400076</td>\n",
       "      <td>20140509T000000</td>\n",
       "      <td>324000.0</td>\n",
       "      <td>3</td>\n",
       "      <td>2.25</td>\n",
       "      <td>998</td>\n",
       "      <td>904</td>\n",
       "      <td>2.0</td>\n",
       "      <td>0</td>\n",
       "      <td>0</td>\n",
       "      <td>...</td>\n",
       "      <td>7</td>\n",
       "      <td>798</td>\n",
       "      <td>200</td>\n",
       "      <td>2007</td>\n",
       "      <td>0</td>\n",
       "      <td>98117</td>\n",
       "      <td>47.6983</td>\n",
       "      <td>-122.367</td>\n",
       "      <td>998</td>\n",
       "      <td>1110</td>\n",
       "    </tr>\n",
       "    <tr>\n",
       "      <th>21569</th>\n",
       "      <td>6021503705</td>\n",
       "      <td>20141015T000000</td>\n",
       "      <td>329000.0</td>\n",
       "      <td>2</td>\n",
       "      <td>2.50</td>\n",
       "      <td>980</td>\n",
       "      <td>1020</td>\n",
       "      <td>3.0</td>\n",
       "      <td>0</td>\n",
       "      <td>0</td>\n",
       "      <td>...</td>\n",
       "      <td>8</td>\n",
       "      <td>980</td>\n",
       "      <td>0</td>\n",
       "      <td>2008</td>\n",
       "      <td>0</td>\n",
       "      <td>98117</td>\n",
       "      <td>47.6844</td>\n",
       "      <td>-122.387</td>\n",
       "      <td>980</td>\n",
       "      <td>1023</td>\n",
       "    </tr>\n",
       "    <tr>\n",
       "      <th>21582</th>\n",
       "      <td>3052700432</td>\n",
       "      <td>20141112T000000</td>\n",
       "      <td>490000.0</td>\n",
       "      <td>3</td>\n",
       "      <td>2.25</td>\n",
       "      <td>1500</td>\n",
       "      <td>1290</td>\n",
       "      <td>2.0</td>\n",
       "      <td>0</td>\n",
       "      <td>0</td>\n",
       "      <td>...</td>\n",
       "      <td>8</td>\n",
       "      <td>1220</td>\n",
       "      <td>280</td>\n",
       "      <td>2006</td>\n",
       "      <td>0</td>\n",
       "      <td>98117</td>\n",
       "      <td>47.6785</td>\n",
       "      <td>-122.375</td>\n",
       "      <td>1460</td>\n",
       "      <td>1375</td>\n",
       "    </tr>\n",
       "    <tr>\n",
       "      <th>21588</th>\n",
       "      <td>2767600688</td>\n",
       "      <td>20141113T000000</td>\n",
       "      <td>414500.0</td>\n",
       "      <td>2</td>\n",
       "      <td>1.50</td>\n",
       "      <td>1210</td>\n",
       "      <td>1278</td>\n",
       "      <td>2.0</td>\n",
       "      <td>0</td>\n",
       "      <td>0</td>\n",
       "      <td>...</td>\n",
       "      <td>8</td>\n",
       "      <td>1020</td>\n",
       "      <td>190</td>\n",
       "      <td>2007</td>\n",
       "      <td>0</td>\n",
       "      <td>98117</td>\n",
       "      <td>47.6756</td>\n",
       "      <td>-122.375</td>\n",
       "      <td>1210</td>\n",
       "      <td>1118</td>\n",
       "    </tr>\n",
       "  </tbody>\n",
       "</table>\n",
       "<p>553 rows × 21 columns</p>\n",
       "</div>"
      ],
      "text/plain": [
       "               id             date     price  bedrooms  bathrooms  \\\n",
       "32      461000390  20140624T000000  687500.0         4       1.75   \n",
       "33     7589200193  20141110T000000  535000.0         3       1.00   \n",
       "52     7518505990  20141231T000000  600000.0         3       1.75   \n",
       "53     3626039271  20150205T000000  585000.0         2       1.75   \n",
       "93     6021501535  20140725T000000  430000.0         3       1.50   \n",
       "...           ...              ...       ...       ...        ...   \n",
       "21489  6021503707  20150120T000000  352500.0         2       2.50   \n",
       "21538  1865400076  20140509T000000  324000.0         3       2.25   \n",
       "21569  6021503705  20141015T000000  329000.0         2       2.50   \n",
       "21582  3052700432  20141112T000000  490000.0         3       2.25   \n",
       "21588  2767600688  20141113T000000  414500.0         2       1.50   \n",
       "\n",
       "       sqft_living  sqft_lot  floors  waterfront  view  ...  grade  \\\n",
       "32            2330      5000     1.5           0     0  ...      7   \n",
       "33            1090      3000     1.5           0     0  ...      8   \n",
       "52            1410      4080     1.0           0     0  ...      7   \n",
       "53            1980      8550     1.0           0     0  ...      7   \n",
       "93            1580      5000     1.0           0     0  ...      8   \n",
       "...            ...       ...     ...         ...   ...  ...    ...   \n",
       "21489          980      1010     3.0           0     0  ...      8   \n",
       "21538          998       904     2.0           0     0  ...      7   \n",
       "21569          980      1020     3.0           0     0  ...      8   \n",
       "21582         1500      1290     2.0           0     0  ...      8   \n",
       "21588         1210      1278     2.0           0     0  ...      8   \n",
       "\n",
       "       sqft_above  sqft_basement  yr_built  yr_renovated  zipcode      lat  \\\n",
       "32           1510            820      1929             0    98117  47.6823   \n",
       "33           1090              0      1929             0    98117  47.6889   \n",
       "52           1000            410      1950             0    98117  47.6808   \n",
       "53            990            990      1981             0    98117  47.6989   \n",
       "93           1290            290      1939             0    98117  47.6870   \n",
       "...           ...            ...       ...           ...      ...      ...   \n",
       "21489         980              0      2008             0    98117  47.6844   \n",
       "21538         798            200      2007             0    98117  47.6983   \n",
       "21569         980              0      2008             0    98117  47.6844   \n",
       "21582        1220            280      2006             0    98117  47.6785   \n",
       "21588        1020            190      2007             0    98117  47.6756   \n",
       "\n",
       "          long  sqft_living15  sqft_lot15  \n",
       "32    -122.368           1460        5000  \n",
       "33    -122.375           1570        5080  \n",
       "52    -122.384           1410        4080  \n",
       "53    -122.369           1480        6738  \n",
       "93    -122.386           1570        4500  \n",
       "...        ...            ...         ...  \n",
       "21489 -122.387            980        1023  \n",
       "21538 -122.367            998        1110  \n",
       "21569 -122.387            980        1023  \n",
       "21582 -122.375           1460        1375  \n",
       "21588 -122.375           1210        1118  \n",
       "\n",
       "[553 rows x 21 columns]"
      ]
     },
     "execution_count": 140,
     "metadata": {},
     "output_type": "execute_result"
    }
   ],
   "source": [
    "# Filtrando o dataset para apenas as regiões escolhidas\n",
    "for i in df_gRegion['ZipCodes']:\n",
    "    ndf = df[df['zipcode'] == i]\n",
    "ndf   "
   ]
  },
  {
   "cell_type": "markdown",
   "metadata": {},
   "source": []
  },
  {
   "cell_type": "code",
   "execution_count": 141,
   "metadata": {},
   "outputs": [
    {
     "data": {
      "text/plain": [
       "<BarContainer object of 7 artists>"
      ]
     },
     "execution_count": 141,
     "metadata": {},
     "output_type": "execute_result"
    },
    {
     "data": {
      "image/png": "[encoded data removed]",
      "text/plain": [
       "<Figure size 720x360 with 1 Axes>"
      ]
     },
     "metadata": {
      "needs_background": "light"
     },
     "output_type": "display_data"
    }
   ],
   "source": [
    "# Levantando o número de quartos dos imoveis\n",
    "values = ndf['bedrooms'].value_counts().reset_index()\n",
    "values =values.sort_values('index')\n",
    "\n",
    "plt.figure(figsize=(10,5))\n",
    "plt.title('N° de quartos por imóvel')\n",
    "plt.xticks(range(10))\n",
    "plt.xlabel('N°de Quartos')\n",
    "plt.bar(values['index'],values['bedrooms'])\n"
   ]
  },
  {
   "cell_type": "code",
   "execution_count": 143,
   "metadata": {},
   "outputs": [
    {
     "data": {
      "text/plain": [
       "<BarContainer object of 13 artists>"
      ]
     },
     "execution_count": 143,
     "metadata": {},
     "output_type": "execute_result"
    },
    {
     "data": {
      "image/png": "[encoded data removed]",
      "text/plain": [
       "<Figure size 720x360 with 1 Axes>"
      ]
     },
     "metadata": {
      "needs_background": "light"
     },
     "output_type": "display_data"
    }
   ],
   "source": [
    "# Levantando o número de banheiros dos imoveis\n",
    "values = ndf['bathrooms'].value_counts().reset_index()\n",
    "values = values.sort_values('index')\n",
    "clas = []\n",
    "\n",
    "for i in values['index']:\n",
    "    \n",
    "    k = int(i)\n",
    "    \n",
    "    if k == 0:\n",
    "        clas.append('1')\n",
    "    else:\n",
    "        clas.append(str(k))\n",
    "      \n",
    "plt.figure(figsize=(10,5))\n",
    "plt.title('N° de Banheiros por Imóvel')\n",
    "plt.xlabel('N°de Banheiros')\n",
    "plt.bar(clas,values['bathrooms'])\n",
    "plt.show()\n"
   ]
  },
  {
   "cell_type": "markdown",
   "metadata": {},
   "source": []
  },
  {
   "cell_type": "code",
   "execution_count": 146,
   "metadata": {},
   "outputs": [
    {
     "data": {
      "text/plain": [
       "<BarContainer object of 5 artists>"
      ]
     },
     "execution_count": 146,
     "metadata": {},
     "output_type": "execute_result"
    },
    {
     "data": {
      "image/png": "[encoded data removed]",
      "text/plain": [
       "<Figure size 720x360 with 1 Axes>"
      ]
     },
     "metadata": {
      "needs_background": "light"
     },
     "output_type": "display_data"
    }
   ],
   "source": [
    "# Levantando o número de andares dos imoveis\n",
    "values = ndf['floors'].value_counts().reset_index().sort_values('index')\n",
    "clas = []\n",
    "for i in values['index']:\n",
    "    k = str(int(i))\n",
    "    clas.append(k)\n",
    "    \n",
    "plt.figure(figsize=(10,5))\n",
    "plt.title('N° de Pisos por imóveis')\n",
    "plt.xlabel('N° de Pisos')\n",
    "plt.bar(clas,values['floors'])"
   ]
  },
  {
   "cell_type": "markdown",
   "metadata": {},
   "source": []
  },
  {
   "cell_type": "code",
   "execution_count": 149,
   "metadata": {},
   "outputs": [],
   "source": [
    "# Construindo um histograma dos valores de vendas dos imóveis\n",
    "temp = pd.DataFrame(list(ndf['price'].values),columns =['Values'])\n",
    "temp = temp.sort_values('Values',ascending = False)\n",
    "df_temp = temp.reset_index()\n",
    "valores =df_temp['Values']\n",
    "\n",
    "clas = valores.index\n",
    "nclas = []\n",
    "for i in clas:\n",
    "    i =str(i)\n",
    "    nclas.append(i)"
   ]
  },
  {
   "cell_type": "markdown",
   "metadata": {},
   "source": []
  },
  {
   "cell_type": "code",
   "execution_count": 150,
   "metadata": {},
   "outputs": [
    {
     "data": {
      "text/plain": [
       "<matplotlib.legend.Legend at 0x2141a768e80>"
      ]
     },
     "execution_count": 150,
     "metadata": {},
     "output_type": "execute_result"
    },
    {
     "data": {
      "image/png": "[encoded data removed]",
      "text/plain": [
       "<Figure size 1080x576 with 1 Axes>"
      ]
     },
     "metadata": {
      "needs_background": "light"
     },
     "output_type": "display_data"
    }
   ],
   "source": [
    "# Gerando o gráfico da média\n",
    "df_mean = pd.DataFrame(range(553),columns=['clas'])\n",
    "df_mean['Values'] = range(553)\n",
    "\n",
    "for i in range(553):\n",
    "    df_mean['Values'].loc[i] = valores.mean()\n",
    "\n",
    "\n",
    "plt.figure(figsize=(15,8))\n",
    "plt.title('House Sales Prices in the Golden Region')\n",
    "plt.ylabel('Million Dollars')\n",
    "plt.xlabel('Index')\n",
    "plt.bar(nclas,valores,color = 'Red')\n",
    "plt.plot(range(553),df_mean['Values'],color='Black',label='Valor Médio = 0.576')\n",
    "plt.legend()\n",
    "plt.show()"
   ]
  }
 ],
 "metadata": {
  "kernelspec": {
   "display_name": "Python 3",
   "language": "python",
   "name": "python3"
  },
  "language_info": {
   "codemirror_mode": {
    "name": "ipython",
    "version": 3
   },
   "file_extension": ".py",
   "mimetype": "text/x-python",
   "name": "python",
   "nbconvert_exporter": "python",
   "pygments_lexer": "ipython3",
   "version": "3.8.5"
  }
 },
 "nbformat": 4,
 "nbformat_minor": 4
}
