{
 "cells": [
  {
   "cell_type": "code",
   "execution_count": 2,
   "metadata": {},
   "outputs": [
    {
     "data": {
      "text/html": [
       "        <script type=\"text/javascript\">\n",
       "        window.PlotlyConfig = {MathJaxConfig: 'local'};\n",
       "        if (window.MathJax) {MathJax.Hub.Config({SVG: {font: \"STIX-Web\"}});}\n",
       "        if (typeof require !== 'undefined') {\n",
       "        require.undef(\"plotly\");\n",
       "        requirejs.config({\n",
       "            paths: {\n",
       "                'plotly': ['https://cdn.plot.ly/plotly-latest.min']\n",
       "            }\n",
       "        });\n",
       "        require(['plotly'], function(Plotly) {\n",
       "            window._Plotly = Plotly;\n",
       "        });\n",
       "        }\n",
       "        </script>\n",
       "        "
      ]
     },
     "metadata": {},
     "output_type": "display_data"
    },
    {
     "data": {
      "text/html": [
       "        <script type=\"text/javascript\">\n",
       "        window.PlotlyConfig = {MathJaxConfig: 'local'};\n",
       "        if (window.MathJax) {MathJax.Hub.Config({SVG: {font: \"STIX-Web\"}});}\n",
       "        if (typeof require !== 'undefined') {\n",
       "        require.undef(\"plotly\");\n",
       "        requirejs.config({\n",
       "            paths: {\n",
       "                'plotly': ['https://cdn.plot.ly/plotly-latest.min']\n",
       "            }\n",
       "        });\n",
       "        require(['plotly'], function(Plotly) {\n",
       "            window._Plotly = Plotly;\n",
       "        });\n",
       "        }\n",
       "        </script>\n",
       "        "
      ]
     },
     "metadata": {},
     "output_type": "display_data"
    }
   ],
   "source": [
    "import numpy as np\n",
    "import pandas as pd\n",
    "\n",
    "import seaborn as sns\n",
    "import matplotlib.pyplot as plt\n",
    "import plotly \n",
    "from plotly.offline   import iplot,init_notebook_mode\n",
    "import plotly.graph_objs as go\n",
    "import plotly.express as px\n",
    "import cufflinks as cf\n",
    "from cufflinks.offline import go_offline\n",
    "import folium\n",
    "from folium.plugins import HeatMap\n",
    "\n",
    "from sklearn.linear_model import LinearRegression\n",
    "from sklearn.model_selection import train_test_split\n",
    "from sklearn.metrics import max_error,mean_absolute_error,median_absolute_error,r2_score,mean_squared_log_error\n",
    "\n",
    "import warnings\n",
    "\n",
    "warnings.filterwarnings('ignore')\n",
    "init_notebook_mode(connected = True)\n",
    "go_offline(connected=True)\n",
    "basemap=folium.Map()\n",
    "colors = px.colors.qualitative.Prism\n",
    "\n"
   ]
  },
  {
   "cell_type": "code",
   "execution_count": 3,
   "metadata": {},
   "outputs": [
    {
     "data": {
      "text/plain": [
       "(553, 19)"
      ]
     },
     "execution_count": 3,
     "metadata": {},
     "output_type": "execute_result"
    }
   ],
   "source": [
    "# Importando os dados\n",
    "df = pd.read_csv('best_region.csv').reset_index().drop(['id','date','index','Unnamed: 0'],axis=1)\n",
    "y = df['price'].values\n",
    "\n",
    "df.shape"
   ]
  },
  {
   "cell_type": "code",
   "execution_count": 7,
   "metadata": {},
   "outputs": [],
   "source": [
    "# Convertando features para o tipo correto(de float para int)\n",
    "df['bathrooms'] = pd.DataFrame(df['bathrooms'],columns=['bathrooms']).astype(int)\n",
    "df['floors'] = pd.DataFrame(df['floors'],columns=['floors']).astype(int)"
   ]
  },
  {
   "cell_type": "code",
   "execution_count": 8,
   "metadata": {},
   "outputs": [
    {
     "data": {
      "application/vnd.plotly.v1+json": {
       "config": {
        "linkText": "Export to plot.ly",
        "plotlyServerURL": "https://plot.ly",
        "showLink": true
       },
       "data": [
        {
         "colorscale": [
          [
           0,
           "rgb(247,251,255)"
          ],
          [
           0.125,
           "rgb(222,235,247)"
          ],
          [
           0.25,
           "rgb(198,219,239)"
          ],
          [
           0.375,
           "rgb(158,202,225)"
          ],
          [
           0.5,
           "rgb(107,174,214)"
          ],
          [
           0.625,
           "rgb(66,146,198)"
          ],
          [
           0.75,
           "rgb(33,113,181)"
          ],
          [
           0.875,
           "rgb(8,81,156)"
          ],
          [
           1,
           "rgb(8,48,107)"
          ]
         ],
         "type": "heatmap",
         "x": [
          "price",
          "bedrooms",
          "bathrooms",
          "sqft_living",
          "sqft_lot",
          "floors",
          "waterfront",
          "view",
          "condition",
          "grade",
          "sqft_above",
          "sqft_basement",
          "yr_built",
          "yr_renovated",
          "zipcode",
          "lat",
          "long",
          "sqft_living15",
          "sqft_lot15"
         ],
         "y": [
          "price",
          "bedrooms",
          "bathrooms",
          "sqft_living",
          "sqft_lot",
          "floors",
          "waterfront",
          "view",
          "condition",
          "grade",
          "sqft_above",
          "sqft_basement",
          "yr_built",
          "yr_renovated",
          "zipcode",
          "lat",
          "long",
          "sqft_living15",
          "sqft_lot15"
         ],
         "z": [
          [
           1,
           0.5419166520935336,
           0.46076891052616253,
           0.7852232968489117,
           0.3965737653744893,
           0.13019665736891894,
           null,
           0.45069581433273803,
           0.15852199613959034,
           0.6525936619379927,
           0.7015857271591613,
           0.4452045369673695,
           0.11994815996577479,
           0.1758881780893806,
           null,
           -0.12210871346799858,
           -0.2313863076242264,
           0.5131879594789093,
           0.29859869874878775
          ],
          [
           0.5419166520935336,
           1,
           0.4702503998181564,
           0.6720831188282,
           0.12008154497475763,
           0.16586249915971119,
           null,
           0.17953627107721126,
           0.10339361858536304,
           0.37996435175872095,
           0.6062837806644883,
           0.37378962283145367,
           0.10316346223485932,
           0.10602653390734224,
           null,
           -0.0852672565792526,
           -0.061410309148200094,
           0.27798012642246667,
           0.07076654844519191
          ],
          [
           0.46076891052616253,
           0.4702503998181564,
           1,
           0.576369223718255,
           -0.058623115298258546,
           0.5771571886234029,
           null,
           0.10495267716165697,
           -0.06811654905896485,
           0.546426752401894,
           0.5889472077142712,
           0.2339060174115841,
           0.50627011769026,
           0.14341975639638008,
           null,
           -0.0027353377516016347,
           -0.07779623757265391,
           0.2337673551124285,
           -0.13471771814545086
          ],
          [
           0.7852232968489117,
           0.6720831188282,
           0.576369223718255,
           1,
           0.35491716426360964,
           0.23349780661796776,
           null,
           0.3357053725305873,
           0.08474922478580223,
           0.6303709666749182,
           0.808485200756057,
           0.6737123512865362,
           0.20857834521821625,
           0.18450954279819054,
           null,
           0.008060565104079463,
           -0.17094407944622783,
           0.5095412447012226,
           0.2782542256829057
          ],
          [
           0.3965737653744893,
           0.12008154497475763,
           -0.058623115298258546,
           0.35491716426360964,
           1,
           -0.36838150087328636,
           null,
           0.377415309005068,
           0.14777678171813763,
           0.11939256590412721,
           0.20401792744960892,
           0.3432430323644164,
           -0.2176095458568848,
           0.08896358257902838,
           null,
           0.3128585179501142,
           -0.18608224406675825,
           0.48165294732951114,
           0.7645035642190602
          ],
          [
           0.13019665736891894,
           0.16586249915971119,
           0.5771571886234029,
           0.23349780661796776,
           -0.36838150087328636,
           1,
           null,
           0.0004857167429638512,
           -0.2569981155454566,
           0.47804877393668005,
           0.47976259987776176,
           -0.20807388528322224,
           0.7128637076790959,
           0.03797227662316308,
           null,
           0.052911584018209036,
           -0.06697869894830356,
           -0.019904146399068984,
           -0.39772170508955423
          ],
          [
           null,
           null,
           null,
           null,
           null,
           null,
           null,
           null,
           null,
           null,
           null,
           null,
           null,
           null,
           null,
           null,
           null,
           null,
           null
          ],
          [
           0.45069581433273803,
           0.17953627107721126,
           0.10495267716165697,
           0.3357053725305873,
           0.377415309005068,
           0.0004857167429638512,
           null,
           1,
           0.04731440949485185,
           0.32002321696809416,
           0.23367549979991992,
           0.2735551993922005,
           0.03742565471845842,
           0.04706104155806781,
           null,
           0.15222274323208196,
           -0.2570056930594233,
           0.5714012118897286,
           0.337968723237803
          ],
          [
           0.15852199613959034,
           0.10339361858536304,
           -0.06811654905896485,
           0.08474922478580223,
           0.14777678171813763,
           -0.2569981155454566,
           null,
           0.04731440949485185,
           1,
           -0.11775575721820107,
           -0.0689255143309763,
           0.2296835243340438,
           -0.4155832793630259,
           -0.11247592122564117,
           null,
           -0.08370079923450524,
           -0.0629349168058951,
           0.10463437337162979,
           0.17551274671220707
          ],
          [
           0.6525936619379927,
           0.37996435175872095,
           0.546426752401894,
           0.6303709666749182,
           0.11939256590412721,
           0.47804877393668005,
           null,
           0.32002321696809416,
           -0.11775575721820107,
           1,
           0.6600011999461878,
           0.23588883510566286,
           0.5348079939464002,
           0.07062191445493654,
           null,
           0.0019446989216414313,
           -0.25873035248451254,
           0.44246744857046205,
           0.05287284770041768
          ],
          [
           0.7015857271591613,
           0.6062837806644883,
           0.5889472077142712,
           0.808485200756057,
           0.20401792744960892,
           0.47976259987776176,
           null,
           0.23367549979991992,
           -0.0689255143309763,
           0.6600011999461878,
           1,
           0.10977648217099996,
           0.3657894434447018,
           0.15901597321289745,
           null,
           0.01672311858049076,
           -0.16066865523647558,
           0.387550966047515,
           0.14911116800135668
          ],
          [
           0.4452045369673695,
           0.37378962283145367,
           0.2339060174115841,
           0.6737123512865362,
           0.3432430323644164,
           -0.20807388528322224,
           null,
           0.2735551993922005,
           0.2296835243340438,
           0.23588883510566286,
           0.10977648217099996,
           1,
           -0.10704598456480345,
           0.11194693982308292,
           null,
           -0.007385399598044961,
           -0.08696072596846474,
           0.3739300594688735,
           0.2827114046820916
          ],
          [
           0.11994815996577479,
           0.10316346223485932,
           0.50627011769026,
           0.20857834521821625,
           -0.2176095458568848,
           0.7128637076790959,
           null,
           0.03742565471845842,
           -0.4155832793630259,
           0.5348079939464002,
           0.3657894434447018,
           -0.10704598456480345,
           1,
           -0.1556130414605966,
           null,
           0.2235315269682659,
           -0.09102978565774532,
           0.05396948007807683,
           -0.24927094930036017
          ],
          [
           0.1758881780893806,
           0.10602653390734224,
           0.14341975639638008,
           0.18450954279819054,
           0.08896358257902838,
           0.03797227662316308,
           null,
           0.04706104155806781,
           -0.11247592122564117,
           0.07062191445493654,
           0.15901597321289745,
           0.11194693982308292,
           -0.1556130414605966,
           1,
           null,
           0.004344966724988856,
           0.07322249102442975,
           0.007361600175821498,
           0.08507150743130569
          ],
          [
           null,
           null,
           null,
           null,
           null,
           null,
           null,
           null,
           null,
           null,
           null,
           null,
           null,
           null,
           null,
           null,
           null,
           null,
           null
          ],
          [
           -0.12210871346799858,
           -0.0852672565792526,
           -0.0027353377516016347,
           0.008060565104079463,
           0.3128585179501142,
           0.052911584018209036,
           null,
           0.15222274323208196,
           -0.08370079923450524,
           0.0019446989216414313,
           0.01672311858049076,
           -0.007385399598044961,
           0.2235315269682659,
           0.004344966724988856,
           null,
           1,
           0.05441741152741659,
           0.20950873462409078,
           0.31888704437082627
          ],
          [
           -0.2313863076242264,
           -0.061410309148200094,
           -0.07779623757265391,
           -0.17094407944622783,
           -0.18608224406675825,
           -0.06697869894830356,
           null,
           -0.2570056930594233,
           -0.0629349168058951,
           -0.25873035248451254,
           -0.16066865523647558,
           -0.08696072596846474,
           -0.09102978565774532,
           0.07322249102442975,
           null,
           0.05441741152741659,
           1,
           -0.3488834796014437,
           -0.15934218679377593
          ],
          [
           0.5131879594789093,
           0.27798012642246667,
           0.2337673551124285,
           0.5095412447012226,
           0.48165294732951114,
           -0.019904146399068984,
           null,
           0.5714012118897286,
           0.10463437337162979,
           0.44246744857046205,
           0.387550966047515,
           0.3739300594688735,
           0.05396948007807683,
           0.007361600175821498,
           null,
           0.20950873462409078,
           -0.3488834796014437,
           1,
           0.47962773882828275
          ],
          [
           0.29859869874878775,
           0.07076654844519191,
           -0.13471771814545086,
           0.2782542256829057,
           0.7645035642190602,
           -0.39772170508955423,
           null,
           0.337968723237803,
           0.17551274671220707,
           0.05287284770041768,
           0.14911116800135668,
           0.2827114046820916,
           -0.24927094930036017,
           0.08507150743130569,
           null,
           0.31888704437082627,
           -0.15934218679377593,
           0.47962773882828275,
           1
          ]
         ],
         "zmax": null,
         "zmin": null
        }
       ],
       "layout": {
        "autosize": false,
        "height": 500,
        "template": {
         "data": {
          "bar": [
           {
            "error_x": {
             "color": "#2a3f5f"
            },
            "error_y": {
             "color": "#2a3f5f"
            },
            "marker": {
             "line": {
              "color": "#E5ECF6",
              "width": 0.5
             }
            },
            "type": "bar"
           }
          ],
          "barpolar": [
           {
            "marker": {
             "line": {
              "color": "#E5ECF6",
              "width": 0.5
             }
            },
            "type": "barpolar"
           }
          ],
          "carpet": [
           {
            "aaxis": {
             "endlinecolor": "#2a3f5f",
             "gridcolor": "white",
             "linecolor": "white",
             "minorgridcolor": "white",
             "startlinecolor": "#2a3f5f"
            },
            "baxis": {
             "endlinecolor": "#2a3f5f",
             "gridcolor": "white",
             "linecolor": "white",
             "minorgridcolor": "white",
             "startlinecolor": "#2a3f5f"
            },
            "type": "carpet"
           }
          ],
          "choropleth": [
           {
            "colorbar": {
             "outlinewidth": 0,
             "ticks": ""
            },
            "type": "choropleth"
           }
          ],
          "contour": [
           {
            "colorbar": {
             "outlinewidth": 0,
             "ticks": ""
            },
            "colorscale": [
             [
              0,
              "#0d0887"
             ],
             [
              0.1111111111111111,
              "#46039f"
             ],
             [
              0.2222222222222222,
              "#7201a8"
             ],
             [
              0.3333333333333333,
              "#9c179e"
             ],
             [
              0.4444444444444444,
              "#bd3786"
             ],
             [
              0.5555555555555556,
              "#d8576b"
             ],
             [
              0.6666666666666666,
              "#ed7953"
             ],
             [
              0.7777777777777778,
              "#fb9f3a"
             ],
             [
              0.8888888888888888,
              "#fdca26"
             ],
             [
              1,
              "#f0f921"
             ]
            ],
            "type": "contour"
           }
          ],
          "contourcarpet": [
           {
            "colorbar": {
             "outlinewidth": 0,
             "ticks": ""
            },
            "type": "contourcarpet"
           }
          ],
          "heatmap": [
           {
            "colorbar": {
             "outlinewidth": 0,
             "ticks": ""
            },
            "colorscale": [
             [
              0,
              "#0d0887"
             ],
             [
              0.1111111111111111,
              "#46039f"
             ],
             [
              0.2222222222222222,
              "#7201a8"
             ],
             [
              0.3333333333333333,
              "#9c179e"
             ],
             [
              0.4444444444444444,
              "#bd3786"
             ],
             [
              0.5555555555555556,
              "#d8576b"
             ],
             [
              0.6666666666666666,
              "#ed7953"
             ],
             [
              0.7777777777777778,
              "#fb9f3a"
             ],
             [
              0.8888888888888888,
              "#fdca26"
             ],
             [
              1,
              "#f0f921"
             ]
            ],
            "type": "heatmap"
           }
          ],
          "heatmapgl": [
           {
            "colorbar": {
             "outlinewidth": 0,
             "ticks": ""
            },
            "colorscale": [
             [
              0,
              "#0d0887"
             ],
             [
              0.1111111111111111,
              "#46039f"
             ],
             [
              0.2222222222222222,
              "#7201a8"
             ],
             [
              0.3333333333333333,
              "#9c179e"
             ],
             [
              0.4444444444444444,
              "#bd3786"
             ],
             [
              0.5555555555555556,
              "#d8576b"
             ],
             [
              0.6666666666666666,
              "#ed7953"
             ],
             [
              0.7777777777777778,
              "#fb9f3a"
             ],
             [
              0.8888888888888888,
              "#fdca26"
             ],
             [
              1,
              "#f0f921"
             ]
            ],
            "type": "heatmapgl"
           }
          ],
          "histogram": [
           {
            "marker": {
             "colorbar": {
              "outlinewidth": 0,
              "ticks": ""
             }
            },
            "type": "histogram"
           }
          ],
          "histogram2d": [
           {
            "colorbar": {
             "outlinewidth": 0,
             "ticks": ""
            },
            "colorscale": [
             [
              0,
              "#0d0887"
             ],
             [
              0.1111111111111111,
              "#46039f"
             ],
             [
              0.2222222222222222,
              "#7201a8"
             ],
             [
              0.3333333333333333,
              "#9c179e"
             ],
             [
              0.4444444444444444,
              "#bd3786"
             ],
             [
              0.5555555555555556,
              "#d8576b"
             ],
             [
              0.6666666666666666,
              "#ed7953"
             ],
             [
              0.7777777777777778,
              "#fb9f3a"
             ],
             [
              0.8888888888888888,
              "#fdca26"
             ],
             [
              1,
              "#f0f921"
             ]
            ],
            "type": "histogram2d"
           }
          ],
          "histogram2dcontour": [
           {
            "colorbar": {
             "outlinewidth": 0,
             "ticks": ""
            },
            "colorscale": [
             [
              0,
              "#0d0887"
             ],
             [
              0.1111111111111111,
              "#46039f"
             ],
             [
              0.2222222222222222,
              "#7201a8"
             ],
             [
              0.3333333333333333,
              "#9c179e"
             ],
             [
              0.4444444444444444,
              "#bd3786"
             ],
             [
              0.5555555555555556,
              "#d8576b"
             ],
             [
              0.6666666666666666,
              "#ed7953"
             ],
             [
              0.7777777777777778,
              "#fb9f3a"
             ],
             [
              0.8888888888888888,
              "#fdca26"
             ],
             [
              1,
              "#f0f921"
             ]
            ],
            "type": "histogram2dcontour"
           }
          ],
          "mesh3d": [
           {
            "colorbar": {
             "outlinewidth": 0,
             "ticks": ""
            },
            "type": "mesh3d"
           }
          ],
          "parcoords": [
           {
            "line": {
             "colorbar": {
              "outlinewidth": 0,
              "ticks": ""
             }
            },
            "type": "parcoords"
           }
          ],
          "pie": [
           {
            "automargin": true,
            "type": "pie"
           }
          ],
          "scatter": [
           {
            "marker": {
             "colorbar": {
              "outlinewidth": 0,
              "ticks": ""
             }
            },
            "type": "scatter"
           }
          ],
          "scatter3d": [
           {
            "line": {
             "colorbar": {
              "outlinewidth": 0,
              "ticks": ""
             }
            },
            "marker": {
             "colorbar": {
              "outlinewidth": 0,
              "ticks": ""
             }
            },
            "type": "scatter3d"
           }
          ],
          "scattercarpet": [
           {
            "marker": {
             "colorbar": {
              "outlinewidth": 0,
              "ticks": ""
             }
            },
            "type": "scattercarpet"
           }
          ],
          "scattergeo": [
           {
            "marker": {
             "colorbar": {
              "outlinewidth": 0,
              "ticks": ""
             }
            },
            "type": "scattergeo"
           }
          ],
          "scattergl": [
           {
            "marker": {
             "colorbar": {
              "outlinewidth": 0,
              "ticks": ""
             }
            },
            "type": "scattergl"
           }
          ],
          "scattermapbox": [
           {
            "marker": {
             "colorbar": {
              "outlinewidth": 0,
              "ticks": ""
             }
            },
            "type": "scattermapbox"
           }
          ],
          "scatterpolar": [
           {
            "marker": {
             "colorbar": {
              "outlinewidth": 0,
              "ticks": ""
             }
            },
            "type": "scatterpolar"
           }
          ],
          "scatterpolargl": [
           {
            "marker": {
             "colorbar": {
              "outlinewidth": 0,
              "ticks": ""
             }
            },
            "type": "scatterpolargl"
           }
          ],
          "scatterternary": [
           {
            "marker": {
             "colorbar": {
              "outlinewidth": 0,
              "ticks": ""
             }
            },
            "type": "scatterternary"
           }
          ],
          "surface": [
           {
            "colorbar": {
             "outlinewidth": 0,
             "ticks": ""
            },
            "colorscale": [
             [
              0,
              "#0d0887"
             ],
             [
              0.1111111111111111,
              "#46039f"
             ],
             [
              0.2222222222222222,
              "#7201a8"
             ],
             [
              0.3333333333333333,
              "#9c179e"
             ],
             [
              0.4444444444444444,
              "#bd3786"
             ],
             [
              0.5555555555555556,
              "#d8576b"
             ],
             [
              0.6666666666666666,
              "#ed7953"
             ],
             [
              0.7777777777777778,
              "#fb9f3a"
             ],
             [
              0.8888888888888888,
              "#fdca26"
             ],
             [
              1,
              "#f0f921"
             ]
            ],
            "type": "surface"
           }
          ],
          "table": [
           {
            "cells": {
             "fill": {
              "color": "#EBF0F8"
             },
             "line": {
              "color": "white"
             }
            },
            "header": {
             "fill": {
              "color": "#C8D4E3"
             },
             "line": {
              "color": "white"
             }
            },
            "type": "table"
           }
          ]
         },
         "layout": {
          "annotationdefaults": {
           "arrowcolor": "#2a3f5f",
           "arrowhead": 0,
           "arrowwidth": 1
          },
          "autotypenumbers": "strict",
          "coloraxis": {
           "colorbar": {
            "outlinewidth": 0,
            "ticks": ""
           }
          },
          "colorscale": {
           "diverging": [
            [
             0,
             "#8e0152"
            ],
            [
             0.1,
             "#c51b7d"
            ],
            [
             0.2,
             "#de77ae"
            ],
            [
             0.3,
             "#f1b6da"
            ],
            [
             0.4,
             "#fde0ef"
            ],
            [
             0.5,
             "#f7f7f7"
            ],
            [
             0.6,
             "#e6f5d0"
            ],
            [
             0.7,
             "#b8e186"
            ],
            [
             0.8,
             "#7fbc41"
            ],
            [
             0.9,
             "#4d9221"
            ],
            [
             1,
             "#276419"
            ]
           ],
           "sequential": [
            [
             0,
             "#0d0887"
            ],
            [
             0.1111111111111111,
             "#46039f"
            ],
            [
             0.2222222222222222,
             "#7201a8"
            ],
            [
             0.3333333333333333,
             "#9c179e"
            ],
            [
             0.4444444444444444,
             "#bd3786"
            ],
            [
             0.5555555555555556,
             "#d8576b"
            ],
            [
             0.6666666666666666,
             "#ed7953"
            ],
            [
             0.7777777777777778,
             "#fb9f3a"
            ],
            [
             0.8888888888888888,
             "#fdca26"
            ],
            [
             1,
             "#f0f921"
            ]
           ],
           "sequentialminus": [
            [
             0,
             "#0d0887"
            ],
            [
             0.1111111111111111,
             "#46039f"
            ],
            [
             0.2222222222222222,
             "#7201a8"
            ],
            [
             0.3333333333333333,
             "#9c179e"
            ],
            [
             0.4444444444444444,
             "#bd3786"
            ],
            [
             0.5555555555555556,
             "#d8576b"
            ],
            [
             0.6666666666666666,
             "#ed7953"
            ],
            [
             0.7777777777777778,
             "#fb9f3a"
            ],
            [
             0.8888888888888888,
             "#fdca26"
            ],
            [
             1,
             "#f0f921"
            ]
           ]
          },
          "colorway": [
           "#636efa",
           "#EF553B",
           "#00cc96",
           "#ab63fa",
           "#FFA15A",
           "#19d3f3",
           "#FF6692",
           "#B6E880",
           "#FF97FF",
           "#FECB52"
          ],
          "font": {
           "color": "#2a3f5f"
          },
          "geo": {
           "bgcolor": "white",
           "lakecolor": "white",
           "landcolor": "#E5ECF6",
           "showlakes": true,
           "showland": true,
           "subunitcolor": "white"
          },
          "hoverlabel": {
           "align": "left"
          },
          "hovermode": "closest",
          "mapbox": {
           "style": "light"
          },
          "paper_bgcolor": "white",
          "plot_bgcolor": "#E5ECF6",
          "polar": {
           "angularaxis": {
            "gridcolor": "white",
            "linecolor": "white",
            "ticks": ""
           },
           "bgcolor": "#E5ECF6",
           "radialaxis": {
            "gridcolor": "white",
            "linecolor": "white",
            "ticks": ""
           }
          },
          "scene": {
           "xaxis": {
            "backgroundcolor": "#E5ECF6",
            "gridcolor": "white",
            "gridwidth": 2,
            "linecolor": "white",
            "showbackground": true,
            "ticks": "",
            "zerolinecolor": "white"
           },
           "yaxis": {
            "backgroundcolor": "#E5ECF6",
            "gridcolor": "white",
            "gridwidth": 2,
            "linecolor": "white",
            "showbackground": true,
            "ticks": "",
            "zerolinecolor": "white"
           },
           "zaxis": {
            "backgroundcolor": "#E5ECF6",
            "gridcolor": "white",
            "gridwidth": 2,
            "linecolor": "white",
            "showbackground": true,
            "ticks": "",
            "zerolinecolor": "white"
           }
          },
          "shapedefaults": {
           "line": {
            "color": "#2a3f5f"
           }
          },
          "ternary": {
           "aaxis": {
            "gridcolor": "white",
            "linecolor": "white",
            "ticks": ""
           },
           "baxis": {
            "gridcolor": "white",
            "linecolor": "white",
            "ticks": ""
           },
           "bgcolor": "#E5ECF6",
           "caxis": {
            "gridcolor": "white",
            "linecolor": "white",
            "ticks": ""
           }
          },
          "title": {
           "x": 0.05
          },
          "xaxis": {
           "automargin": true,
           "gridcolor": "white",
           "linecolor": "white",
           "ticks": "",
           "title": {
            "standoff": 15
           },
           "zerolinecolor": "white",
           "zerolinewidth": 2
          },
          "yaxis": {
           "automargin": true,
           "gridcolor": "white",
           "linecolor": "white",
           "ticks": "",
           "title": {
            "standoff": 15
           },
           "zerolinecolor": "white",
           "zerolinewidth": 2
          }
         }
        },
        "title": {
         "font": {
          "size": 20
         },
         "text": "Correlation Heatmap"
        },
        "width": 700,
        "xaxis": {
         "autorange": true,
         "range": [
          -0.5,
          18.5
         ],
         "type": "category"
        },
        "yaxis": {
         "autorange": true,
         "range": [
          -0.5,
          18.5
         ],
         "type": "category"
        }
       }
      },
      "image/png": "[encoded data removed]",
      "text/html": [
       "<div>                            <div id=\"90655410-9b95-4997-8469-90bddc641608\" class=\"plotly-graph-div\" style=\"height:500px; width:700px;\"></div>            <script type=\"text/javascript\">                require([\"plotly\"], function(Plotly) {                    window.PLOTLYENV=window.PLOTLYENV || {};\n",
       "                    window.PLOTLYENV.BASE_URL='https://plot.ly';                                    if (document.getElementById(\"90655410-9b95-4997-8469-90bddc641608\")) {                    Plotly.newPlot(                        \"90655410-9b95-4997-8469-90bddc641608\",                        [{\"colorscale\": [[0.0, \"rgb(247,251,255)\"], [0.125, \"rgb(222,235,247)\"], [0.25, \"rgb(198,219,239)\"], [0.375, \"rgb(158,202,225)\"], [0.5, \"rgb(107,174,214)\"], [0.625, \"rgb(66,146,198)\"], [0.75, \"rgb(33,113,181)\"], [0.875, \"rgb(8,81,156)\"], [1.0, \"rgb(8,48,107)\"]], \"type\": \"heatmap\", \"x\": [\"price\", \"bedrooms\", \"bathrooms\", \"sqft_living\", \"sqft_lot\", \"floors\", \"waterfront\", \"view\", \"condition\", \"grade\", \"sqft_above\", \"sqft_basement\", \"yr_built\", \"yr_renovated\", \"zipcode\", \"lat\", \"long\", \"sqft_living15\", \"sqft_lot15\"], \"y\": [\"price\", \"bedrooms\", \"bathrooms\", \"sqft_living\", \"sqft_lot\", \"floors\", \"waterfront\", \"view\", \"condition\", \"grade\", \"sqft_above\", \"sqft_basement\", \"yr_built\", \"yr_renovated\", \"zipcode\", \"lat\", \"long\", \"sqft_living15\", \"sqft_lot15\"], \"z\": [[1.0, 0.5419166520935336, 0.46076891052616253, 0.7852232968489117, 0.3965737653744893, 0.13019665736891894, null, 0.45069581433273803, 0.15852199613959034, 0.6525936619379927, 0.7015857271591613, 0.4452045369673695, 0.11994815996577479, 0.1758881780893806, null, -0.12210871346799858, -0.2313863076242264, 0.5131879594789093, 0.29859869874878775], [0.5419166520935336, 1.0, 0.4702503998181564, 0.6720831188282, 0.12008154497475763, 0.16586249915971119, null, 0.17953627107721126, 0.10339361858536304, 0.37996435175872095, 0.6062837806644883, 0.37378962283145367, 0.10316346223485932, 0.10602653390734224, null, -0.0852672565792526, -0.061410309148200094, 0.27798012642246667, 0.07076654844519191], [0.46076891052616253, 0.4702503998181564, 1.0, 0.576369223718255, -0.058623115298258546, 0.5771571886234029, null, 0.10495267716165697, -0.06811654905896485, 0.546426752401894, 0.5889472077142712, 0.2339060174115841, 0.50627011769026, 0.14341975639638008, null, -0.0027353377516016347, -0.07779623757265391, 0.2337673551124285, -0.13471771814545086], [0.7852232968489117, 0.6720831188282, 0.576369223718255, 1.0, 0.35491716426360964, 0.23349780661796776, null, 0.3357053725305873, 0.08474922478580223, 0.6303709666749182, 0.808485200756057, 0.6737123512865362, 0.20857834521821625, 0.18450954279819054, null, 0.008060565104079463, -0.17094407944622783, 0.5095412447012226, 0.2782542256829057], [0.3965737653744893, 0.12008154497475763, -0.058623115298258546, 0.35491716426360964, 1.0, -0.36838150087328636, null, 0.377415309005068, 0.14777678171813763, 0.11939256590412721, 0.20401792744960892, 0.3432430323644164, -0.2176095458568848, 0.08896358257902838, null, 0.3128585179501142, -0.18608224406675825, 0.48165294732951114, 0.7645035642190602], [0.13019665736891894, 0.16586249915971119, 0.5771571886234029, 0.23349780661796776, -0.36838150087328636, 1.0, null, 0.0004857167429638512, -0.2569981155454566, 0.47804877393668005, 0.47976259987776176, -0.20807388528322224, 0.7128637076790959, 0.03797227662316308, null, 0.052911584018209036, -0.06697869894830356, -0.019904146399068984, -0.39772170508955423], [null, null, null, null, null, null, null, null, null, null, null, null, null, null, null, null, null, null, null], [0.45069581433273803, 0.17953627107721126, 0.10495267716165697, 0.3357053725305873, 0.377415309005068, 0.0004857167429638512, null, 1.0, 0.04731440949485185, 0.32002321696809416, 0.23367549979991992, 0.2735551993922005, 0.03742565471845842, 0.04706104155806781, null, 0.15222274323208196, -0.2570056930594233, 0.5714012118897286, 0.337968723237803], [0.15852199613959034, 0.10339361858536304, -0.06811654905896485, 0.08474922478580223, 0.14777678171813763, -0.2569981155454566, null, 0.04731440949485185, 1.0, -0.11775575721820107, -0.0689255143309763, 0.2296835243340438, -0.4155832793630259, -0.11247592122564117, null, -0.08370079923450524, -0.0629349168058951, 0.10463437337162979, 0.17551274671220707], [0.6525936619379927, 0.37996435175872095, 0.546426752401894, 0.6303709666749182, 0.11939256590412721, 0.47804877393668005, null, 0.32002321696809416, -0.11775575721820107, 1.0, 0.6600011999461878, 0.23588883510566286, 0.5348079939464002, 0.07062191445493654, null, 0.0019446989216414313, -0.25873035248451254, 0.44246744857046205, 0.05287284770041768], [0.7015857271591613, 0.6062837806644883, 0.5889472077142712, 0.808485200756057, 0.20401792744960892, 0.47976259987776176, null, 0.23367549979991992, -0.0689255143309763, 0.6600011999461878, 1.0, 0.10977648217099996, 0.3657894434447018, 0.15901597321289745, null, 0.01672311858049076, -0.16066865523647558, 0.387550966047515, 0.14911116800135668], [0.4452045369673695, 0.37378962283145367, 0.2339060174115841, 0.6737123512865362, 0.3432430323644164, -0.20807388528322224, null, 0.2735551993922005, 0.2296835243340438, 0.23588883510566286, 0.10977648217099996, 1.0, -0.10704598456480345, 0.11194693982308292, null, -0.007385399598044961, -0.08696072596846474, 0.3739300594688735, 0.2827114046820916], [0.11994815996577479, 0.10316346223485932, 0.50627011769026, 0.20857834521821625, -0.2176095458568848, 0.7128637076790959, null, 0.03742565471845842, -0.4155832793630259, 0.5348079939464002, 0.3657894434447018, -0.10704598456480345, 1.0, -0.1556130414605966, null, 0.2235315269682659, -0.09102978565774532, 0.05396948007807683, -0.24927094930036017], [0.1758881780893806, 0.10602653390734224, 0.14341975639638008, 0.18450954279819054, 0.08896358257902838, 0.03797227662316308, null, 0.04706104155806781, -0.11247592122564117, 0.07062191445493654, 0.15901597321289745, 0.11194693982308292, -0.1556130414605966, 1.0, null, 0.004344966724988856, 0.07322249102442975, 0.007361600175821498, 0.08507150743130569], [null, null, null, null, null, null, null, null, null, null, null, null, null, null, null, null, null, null, null], [-0.12210871346799858, -0.0852672565792526, -0.0027353377516016347, 0.008060565104079463, 0.3128585179501142, 0.052911584018209036, null, 0.15222274323208196, -0.08370079923450524, 0.0019446989216414313, 0.01672311858049076, -0.007385399598044961, 0.2235315269682659, 0.004344966724988856, null, 1.0, 0.05441741152741659, 0.20950873462409078, 0.31888704437082627], [-0.2313863076242264, -0.061410309148200094, -0.07779623757265391, -0.17094407944622783, -0.18608224406675825, -0.06697869894830356, null, -0.2570056930594233, -0.0629349168058951, -0.25873035248451254, -0.16066865523647558, -0.08696072596846474, -0.09102978565774532, 0.07322249102442975, null, 0.05441741152741659, 1.0, -0.3488834796014437, -0.15934218679377593], [0.5131879594789093, 0.27798012642246667, 0.2337673551124285, 0.5095412447012226, 0.48165294732951114, -0.019904146399068984, null, 0.5714012118897286, 0.10463437337162979, 0.44246744857046205, 0.387550966047515, 0.3739300594688735, 0.05396948007807683, 0.007361600175821498, null, 0.20950873462409078, -0.3488834796014437, 1.0, 0.47962773882828275], [0.29859869874878775, 0.07076654844519191, -0.13471771814545086, 0.2782542256829057, 0.7645035642190602, -0.39772170508955423, null, 0.337968723237803, 0.17551274671220707, 0.05287284770041768, 0.14911116800135668, 0.2827114046820916, -0.24927094930036017, 0.08507150743130569, null, 0.31888704437082627, -0.15934218679377593, 0.47962773882828275, 1.0]], \"zmax\": null, \"zmin\": null}],                        {\"autosize\": false, \"height\": 500, \"template\": {\"data\": {\"bar\": [{\"error_x\": {\"color\": \"#2a3f5f\"}, \"error_y\": {\"color\": \"#2a3f5f\"}, \"marker\": {\"line\": {\"color\": \"#E5ECF6\", \"width\": 0.5}}, \"type\": \"bar\"}], \"barpolar\": [{\"marker\": {\"line\": {\"color\": \"#E5ECF6\", \"width\": 0.5}}, \"type\": \"barpolar\"}], \"carpet\": [{\"aaxis\": {\"endlinecolor\": \"#2a3f5f\", \"gridcolor\": \"white\", \"linecolor\": \"white\", \"minorgridcolor\": \"white\", \"startlinecolor\": \"#2a3f5f\"}, \"baxis\": {\"endlinecolor\": \"#2a3f5f\", \"gridcolor\": \"white\", \"linecolor\": \"white\", \"minorgridcolor\": \"white\", \"startlinecolor\": \"#2a3f5f\"}, \"type\": \"carpet\"}], \"choropleth\": [{\"colorbar\": {\"outlinewidth\": 0, \"ticks\": \"\"}, \"type\": \"choropleth\"}], \"contour\": [{\"colorbar\": {\"outlinewidth\": 0, \"ticks\": \"\"}, \"colorscale\": [[0.0, \"#0d0887\"], [0.1111111111111111, \"#46039f\"], [0.2222222222222222, \"#7201a8\"], [0.3333333333333333, \"#9c179e\"], [0.4444444444444444, \"#bd3786\"], [0.5555555555555556, \"#d8576b\"], [0.6666666666666666, \"#ed7953\"], [0.7777777777777778, \"#fb9f3a\"], [0.8888888888888888, \"#fdca26\"], [1.0, \"#f0f921\"]], \"type\": \"contour\"}], \"contourcarpet\": [{\"colorbar\": {\"outlinewidth\": 0, \"ticks\": \"\"}, \"type\": \"contourcarpet\"}], \"heatmap\": [{\"colorbar\": {\"outlinewidth\": 0, \"ticks\": \"\"}, \"colorscale\": [[0.0, \"#0d0887\"], [0.1111111111111111, \"#46039f\"], [0.2222222222222222, \"#7201a8\"], [0.3333333333333333, \"#9c179e\"], [0.4444444444444444, \"#bd3786\"], [0.5555555555555556, \"#d8576b\"], [0.6666666666666666, \"#ed7953\"], [0.7777777777777778, \"#fb9f3a\"], [0.8888888888888888, \"#fdca26\"], [1.0, \"#f0f921\"]], \"type\": \"heatmap\"}], \"heatmapgl\": [{\"colorbar\": {\"outlinewidth\": 0, \"ticks\": \"\"}, \"colorscale\": [[0.0, \"#0d0887\"], [0.1111111111111111, \"#46039f\"], [0.2222222222222222, \"#7201a8\"], [0.3333333333333333, \"#9c179e\"], [0.4444444444444444, \"#bd3786\"], [0.5555555555555556, \"#d8576b\"], [0.6666666666666666, \"#ed7953\"], [0.7777777777777778, \"#fb9f3a\"], [0.8888888888888888, \"#fdca26\"], [1.0, \"#f0f921\"]], \"type\": \"heatmapgl\"}], \"histogram\": [{\"marker\": {\"colorbar\": {\"outlinewidth\": 0, \"ticks\": \"\"}}, \"type\": \"histogram\"}], \"histogram2d\": [{\"colorbar\": {\"outlinewidth\": 0, \"ticks\": \"\"}, \"colorscale\": [[0.0, \"#0d0887\"], [0.1111111111111111, \"#46039f\"], [0.2222222222222222, \"#7201a8\"], [0.3333333333333333, \"#9c179e\"], [0.4444444444444444, \"#bd3786\"], [0.5555555555555556, \"#d8576b\"], [0.6666666666666666, \"#ed7953\"], [0.7777777777777778, \"#fb9f3a\"], [0.8888888888888888, \"#fdca26\"], [1.0, \"#f0f921\"]], \"type\": \"histogram2d\"}], \"histogram2dcontour\": [{\"colorbar\": {\"outlinewidth\": 0, \"ticks\": \"\"}, \"colorscale\": [[0.0, \"#0d0887\"], [0.1111111111111111, \"#46039f\"], [0.2222222222222222, \"#7201a8\"], [0.3333333333333333, \"#9c179e\"], [0.4444444444444444, \"#bd3786\"], [0.5555555555555556, \"#d8576b\"], [0.6666666666666666, \"#ed7953\"], [0.7777777777777778, \"#fb9f3a\"], [0.8888888888888888, \"#fdca26\"], [1.0, \"#f0f921\"]], \"type\": \"histogram2dcontour\"}], \"mesh3d\": [{\"colorbar\": {\"outlinewidth\": 0, \"ticks\": \"\"}, \"type\": \"mesh3d\"}], \"parcoords\": [{\"line\": {\"colorbar\": {\"outlinewidth\": 0, \"ticks\": \"\"}}, \"type\": \"parcoords\"}], \"pie\": [{\"automargin\": true, \"type\": \"pie\"}], \"scatter\": [{\"marker\": {\"colorbar\": {\"outlinewidth\": 0, \"ticks\": \"\"}}, \"type\": \"scatter\"}], \"scatter3d\": [{\"line\": {\"colorbar\": {\"outlinewidth\": 0, \"ticks\": \"\"}}, \"marker\": {\"colorbar\": {\"outlinewidth\": 0, \"ticks\": \"\"}}, \"type\": \"scatter3d\"}], \"scattercarpet\": [{\"marker\": {\"colorbar\": {\"outlinewidth\": 0, \"ticks\": \"\"}}, \"type\": \"scattercarpet\"}], \"scattergeo\": [{\"marker\": {\"colorbar\": {\"outlinewidth\": 0, \"ticks\": \"\"}}, \"type\": \"scattergeo\"}], \"scattergl\": [{\"marker\": {\"colorbar\": {\"outlinewidth\": 0, \"ticks\": \"\"}}, \"type\": \"scattergl\"}], \"scattermapbox\": [{\"marker\": {\"colorbar\": {\"outlinewidth\": 0, \"ticks\": \"\"}}, \"type\": \"scattermapbox\"}], \"scatterpolar\": [{\"marker\": {\"colorbar\": {\"outlinewidth\": 0, \"ticks\": \"\"}}, \"type\": \"scatterpolar\"}], \"scatterpolargl\": [{\"marker\": {\"colorbar\": {\"outlinewidth\": 0, \"ticks\": \"\"}}, \"type\": \"scatterpolargl\"}], \"scatterternary\": [{\"marker\": {\"colorbar\": {\"outlinewidth\": 0, \"ticks\": \"\"}}, \"type\": \"scatterternary\"}], \"surface\": [{\"colorbar\": {\"outlinewidth\": 0, \"ticks\": \"\"}, \"colorscale\": [[0.0, \"#0d0887\"], [0.1111111111111111, \"#46039f\"], [0.2222222222222222, \"#7201a8\"], [0.3333333333333333, \"#9c179e\"], [0.4444444444444444, \"#bd3786\"], [0.5555555555555556, \"#d8576b\"], [0.6666666666666666, \"#ed7953\"], [0.7777777777777778, \"#fb9f3a\"], [0.8888888888888888, \"#fdca26\"], [1.0, \"#f0f921\"]], \"type\": \"surface\"}], \"table\": [{\"cells\": {\"fill\": {\"color\": \"#EBF0F8\"}, \"line\": {\"color\": \"white\"}}, \"header\": {\"fill\": {\"color\": \"#C8D4E3\"}, \"line\": {\"color\": \"white\"}}, \"type\": \"table\"}]}, \"layout\": {\"annotationdefaults\": {\"arrowcolor\": \"#2a3f5f\", \"arrowhead\": 0, \"arrowwidth\": 1}, \"autotypenumbers\": \"strict\", \"coloraxis\": {\"colorbar\": {\"outlinewidth\": 0, \"ticks\": \"\"}}, \"colorscale\": {\"diverging\": [[0, \"#8e0152\"], [0.1, \"#c51b7d\"], [0.2, \"#de77ae\"], [0.3, \"#f1b6da\"], [0.4, \"#fde0ef\"], [0.5, \"#f7f7f7\"], [0.6, \"#e6f5d0\"], [0.7, \"#b8e186\"], [0.8, \"#7fbc41\"], [0.9, \"#4d9221\"], [1, \"#276419\"]], \"sequential\": [[0.0, \"#0d0887\"], [0.1111111111111111, \"#46039f\"], [0.2222222222222222, \"#7201a8\"], [0.3333333333333333, \"#9c179e\"], [0.4444444444444444, \"#bd3786\"], [0.5555555555555556, \"#d8576b\"], [0.6666666666666666, \"#ed7953\"], [0.7777777777777778, \"#fb9f3a\"], [0.8888888888888888, \"#fdca26\"], [1.0, \"#f0f921\"]], \"sequentialminus\": [[0.0, \"#0d0887\"], [0.1111111111111111, \"#46039f\"], [0.2222222222222222, \"#7201a8\"], [0.3333333333333333, \"#9c179e\"], [0.4444444444444444, \"#bd3786\"], [0.5555555555555556, \"#d8576b\"], [0.6666666666666666, \"#ed7953\"], [0.7777777777777778, \"#fb9f3a\"], [0.8888888888888888, \"#fdca26\"], [1.0, \"#f0f921\"]]}, \"colorway\": [\"#636efa\", \"#EF553B\", \"#00cc96\", \"#ab63fa\", \"#FFA15A\", \"#19d3f3\", \"#FF6692\", \"#B6E880\", \"#FF97FF\", \"#FECB52\"], \"font\": {\"color\": \"#2a3f5f\"}, \"geo\": {\"bgcolor\": \"white\", \"lakecolor\": \"white\", \"landcolor\": \"#E5ECF6\", \"showlakes\": true, \"showland\": true, \"subunitcolor\": \"white\"}, \"hoverlabel\": {\"align\": \"left\"}, \"hovermode\": \"closest\", \"mapbox\": {\"style\": \"light\"}, \"paper_bgcolor\": \"white\", \"plot_bgcolor\": \"#E5ECF6\", \"polar\": {\"angularaxis\": {\"gridcolor\": \"white\", \"linecolor\": \"white\", \"ticks\": \"\"}, \"bgcolor\": \"#E5ECF6\", \"radialaxis\": {\"gridcolor\": \"white\", \"linecolor\": \"white\", \"ticks\": \"\"}}, \"scene\": {\"xaxis\": {\"backgroundcolor\": \"#E5ECF6\", \"gridcolor\": \"white\", \"gridwidth\": 2, \"linecolor\": \"white\", \"showbackground\": true, \"ticks\": \"\", \"zerolinecolor\": \"white\"}, \"yaxis\": {\"backgroundcolor\": \"#E5ECF6\", \"gridcolor\": \"white\", \"gridwidth\": 2, \"linecolor\": \"white\", \"showbackground\": true, \"ticks\": \"\", \"zerolinecolor\": \"white\"}, \"zaxis\": {\"backgroundcolor\": \"#E5ECF6\", \"gridcolor\": \"white\", \"gridwidth\": 2, \"linecolor\": \"white\", \"showbackground\": true, \"ticks\": \"\", \"zerolinecolor\": \"white\"}}, \"shapedefaults\": {\"line\": {\"color\": \"#2a3f5f\"}}, \"ternary\": {\"aaxis\": {\"gridcolor\": \"white\", \"linecolor\": \"white\", \"ticks\": \"\"}, \"baxis\": {\"gridcolor\": \"white\", \"linecolor\": \"white\", \"ticks\": \"\"}, \"bgcolor\": \"#E5ECF6\", \"caxis\": {\"gridcolor\": \"white\", \"linecolor\": \"white\", \"ticks\": \"\"}}, \"title\": {\"x\": 0.05}, \"xaxis\": {\"automargin\": true, \"gridcolor\": \"white\", \"linecolor\": \"white\", \"ticks\": \"\", \"title\": {\"standoff\": 15}, \"zerolinecolor\": \"white\", \"zerolinewidth\": 2}, \"yaxis\": {\"automargin\": true, \"gridcolor\": \"white\", \"linecolor\": \"white\", \"ticks\": \"\", \"title\": {\"standoff\": 15}, \"zerolinecolor\": \"white\", \"zerolinewidth\": 2}}}, \"title\": {\"font\": {\"size\": 20}, \"text\": \"Correlation Heatmap\"}, \"width\": 700},                        {\"showLink\": true, \"linkText\": \"Export to plot.ly\", \"plotlyServerURL\": \"https://plot.ly\", \"responsive\": true}                    ).then(function(){\n",
       "                            \n",
       "var gd = document.getElementById('90655410-9b95-4997-8469-90bddc641608');\n",
       "var x = new MutationObserver(function (mutations, observer) {{\n",
       "        var display = window.getComputedStyle(gd).display;\n",
       "        if (!display || display === 'none') {{\n",
       "            console.log([gd, 'removed!']);\n",
       "            Plotly.purge(gd);\n",
       "            observer.disconnect();\n",
       "        }}\n",
       "}});\n",
       "\n",
       "// Listen for the removal of the full notebook cells\n",
       "var notebookContainer = gd.closest('#notebook-container');\n",
       "if (notebookContainer) {{\n",
       "    x.observe(notebookContainer, {childList: true});\n",
       "}}\n",
       "\n",
       "// Listen for the clearing of the current output cell\n",
       "var outputEl = gd.closest('.output');\n",
       "if (outputEl) {{\n",
       "    x.observe(outputEl, {childList: true});\n",
       "}}\n",
       "\n",
       "                        })                };                });            </script>        </div>"
      ]
     },
     "metadata": {},
     "output_type": "display_data"
    }
   ],
   "source": [
    "# Mapa de correlação\n",
    "corr = df.corr()\n",
    "corr.iplot(kind='heatmap',colorscale='Blues',hoverinfo='all',\n",
    "           layout = go.Layout(title='Correlation Heatmap',titlefont=dict(size=20),autosize = False ,width = 700,height=500))"
   ]
  },
  {
   "cell_type": "code",
   "execution_count": 9,
   "metadata": {},
   "outputs": [],
   "source": [
    "# Features com |corr| < 0.15\n",
    "bad_ft =['condition','yr_built','yr_renovated','zipcode','long','lat','waterfront']"
   ]
  },
  {
   "cell_type": "code",
   "execution_count": 10,
   "metadata": {},
   "outputs": [],
   "source": [
    "ndf = df.drop(bad_ft,axis=1)"
   ]
  },
  {
   "cell_type": "code",
   "execution_count": 11,
   "metadata": {},
   "outputs": [
    {
     "data": {
      "application/vnd.plotly.v1+json": {
       "config": {
        "linkText": "Export to plot.ly",
        "plotlyServerURL": "https://plot.ly",
        "showLink": true
       },
       "data": [
        {
         "colorscale": [
          [
           0,
           "rgb(247,251,255)"
          ],
          [
           0.125,
           "rgb(222,235,247)"
          ],
          [
           0.25,
           "rgb(198,219,239)"
          ],
          [
           0.375,
           "rgb(158,202,225)"
          ],
          [
           0.5,
           "rgb(107,174,214)"
          ],
          [
           0.625,
           "rgb(66,146,198)"
          ],
          [
           0.75,
           "rgb(33,113,181)"
          ],
          [
           0.875,
           "rgb(8,81,156)"
          ],
          [
           1,
           "rgb(8,48,107)"
          ]
         ],
         "type": "heatmap",
         "x": [
          "price",
          "bedrooms",
          "bathrooms",
          "sqft_living",
          "sqft_lot",
          "floors",
          "view",
          "grade",
          "sqft_above",
          "sqft_basement",
          "sqft_living15",
          "sqft_lot15"
         ],
         "y": [
          "price",
          "bedrooms",
          "bathrooms",
          "sqft_living",
          "sqft_lot",
          "floors",
          "view",
          "grade",
          "sqft_above",
          "sqft_basement",
          "sqft_living15",
          "sqft_lot15"
         ],
         "z": [
          [
           1,
           0.5419166520935336,
           0.46076891052616253,
           0.7852232968489117,
           0.3965737653744893,
           0.13019665736891894,
           0.45069581433273803,
           0.6525936619379927,
           0.7015857271591613,
           0.4452045369673695,
           0.5131879594789093,
           0.29859869874878775
          ],
          [
           0.5419166520935336,
           1,
           0.4702503998181564,
           0.6720831188282,
           0.12008154497475763,
           0.16586249915971119,
           0.17953627107721126,
           0.37996435175872095,
           0.6062837806644883,
           0.37378962283145367,
           0.27798012642246667,
           0.07076654844519191
          ],
          [
           0.46076891052616253,
           0.4702503998181564,
           1,
           0.576369223718255,
           -0.058623115298258546,
           0.5771571886234029,
           0.10495267716165697,
           0.546426752401894,
           0.5889472077142712,
           0.2339060174115841,
           0.2337673551124285,
           -0.13471771814545086
          ],
          [
           0.7852232968489117,
           0.6720831188282,
           0.576369223718255,
           1,
           0.35491716426360964,
           0.23349780661796776,
           0.3357053725305873,
           0.6303709666749182,
           0.808485200756057,
           0.6737123512865362,
           0.5095412447012226,
           0.2782542256829057
          ],
          [
           0.3965737653744893,
           0.12008154497475763,
           -0.058623115298258546,
           0.35491716426360964,
           1,
           -0.36838150087328636,
           0.377415309005068,
           0.11939256590412721,
           0.20401792744960892,
           0.3432430323644164,
           0.48165294732951114,
           0.7645035642190602
          ],
          [
           0.13019665736891894,
           0.16586249915971119,
           0.5771571886234029,
           0.23349780661796776,
           -0.36838150087328636,
           1,
           0.0004857167429638512,
           0.47804877393668005,
           0.47976259987776176,
           -0.20807388528322224,
           -0.019904146399068984,
           -0.39772170508955423
          ],
          [
           0.45069581433273803,
           0.17953627107721126,
           0.10495267716165697,
           0.3357053725305873,
           0.377415309005068,
           0.0004857167429638512,
           1,
           0.32002321696809416,
           0.23367549979991992,
           0.2735551993922005,
           0.5714012118897286,
           0.337968723237803
          ],
          [
           0.6525936619379927,
           0.37996435175872095,
           0.546426752401894,
           0.6303709666749182,
           0.11939256590412721,
           0.47804877393668005,
           0.32002321696809416,
           1,
           0.6600011999461878,
           0.23588883510566286,
           0.44246744857046205,
           0.05287284770041768
          ],
          [
           0.7015857271591613,
           0.6062837806644883,
           0.5889472077142712,
           0.808485200756057,
           0.20401792744960892,
           0.47976259987776176,
           0.23367549979991992,
           0.6600011999461878,
           1,
           0.10977648217099996,
           0.387550966047515,
           0.14911116800135668
          ],
          [
           0.4452045369673695,
           0.37378962283145367,
           0.2339060174115841,
           0.6737123512865362,
           0.3432430323644164,
           -0.20807388528322224,
           0.2735551993922005,
           0.23588883510566286,
           0.10977648217099996,
           1,
           0.3739300594688735,
           0.2827114046820916
          ],
          [
           0.5131879594789093,
           0.27798012642246667,
           0.2337673551124285,
           0.5095412447012226,
           0.48165294732951114,
           -0.019904146399068984,
           0.5714012118897286,
           0.44246744857046205,
           0.387550966047515,
           0.3739300594688735,
           1,
           0.47962773882828275
          ],
          [
           0.29859869874878775,
           0.07076654844519191,
           -0.13471771814545086,
           0.2782542256829057,
           0.7645035642190602,
           -0.39772170508955423,
           0.337968723237803,
           0.05287284770041768,
           0.14911116800135668,
           0.2827114046820916,
           0.47962773882828275,
           1
          ]
         ],
         "zmax": 1,
         "zmin": -0.39772170508955423
        }
       ],
       "layout": {
        "autosize": false,
        "height": 500,
        "template": {
         "data": {
          "bar": [
           {
            "error_x": {
             "color": "#2a3f5f"
            },
            "error_y": {
             "color": "#2a3f5f"
            },
            "marker": {
             "line": {
              "color": "#E5ECF6",
              "width": 0.5
             }
            },
            "type": "bar"
           }
          ],
          "barpolar": [
           {
            "marker": {
             "line": {
              "color": "#E5ECF6",
              "width": 0.5
             }
            },
            "type": "barpolar"
           }
          ],
          "carpet": [
           {
            "aaxis": {
             "endlinecolor": "#2a3f5f",
             "gridcolor": "white",
             "linecolor": "white",
             "minorgridcolor": "white",
             "startlinecolor": "#2a3f5f"
            },
            "baxis": {
             "endlinecolor": "#2a3f5f",
             "gridcolor": "white",
             "linecolor": "white",
             "minorgridcolor": "white",
             "startlinecolor": "#2a3f5f"
            },
            "type": "carpet"
           }
          ],
          "choropleth": [
           {
            "colorbar": {
             "outlinewidth": 0,
             "ticks": ""
            },
            "type": "choropleth"
           }
          ],
          "contour": [
           {
            "colorbar": {
             "outlinewidth": 0,
             "ticks": ""
            },
            "colorscale": [
             [
              0,
              "#0d0887"
             ],
             [
              0.1111111111111111,
              "#46039f"
             ],
             [
              0.2222222222222222,
              "#7201a8"
             ],
             [
              0.3333333333333333,
              "#9c179e"
             ],
             [
              0.4444444444444444,
              "#bd3786"
             ],
             [
              0.5555555555555556,
              "#d8576b"
             ],
             [
              0.6666666666666666,
              "#ed7953"
             ],
             [
              0.7777777777777778,
              "#fb9f3a"
             ],
             [
              0.8888888888888888,
              "#fdca26"
             ],
             [
              1,
              "#f0f921"
             ]
            ],
            "type": "contour"
           }
          ],
          "contourcarpet": [
           {
            "colorbar": {
             "outlinewidth": 0,
             "ticks": ""
            },
            "type": "contourcarpet"
           }
          ],
          "heatmap": [
           {
            "colorbar": {
             "outlinewidth": 0,
             "ticks": ""
            },
            "colorscale": [
             [
              0,
              "#0d0887"
             ],
             [
              0.1111111111111111,
              "#46039f"
             ],
             [
              0.2222222222222222,
              "#7201a8"
             ],
             [
              0.3333333333333333,
              "#9c179e"
             ],
             [
              0.4444444444444444,
              "#bd3786"
             ],
             [
              0.5555555555555556,
              "#d8576b"
             ],
             [
              0.6666666666666666,
              "#ed7953"
             ],
             [
              0.7777777777777778,
              "#fb9f3a"
             ],
             [
              0.8888888888888888,
              "#fdca26"
             ],
             [
              1,
              "#f0f921"
             ]
            ],
            "type": "heatmap"
           }
          ],
          "heatmapgl": [
           {
            "colorbar": {
             "outlinewidth": 0,
             "ticks": ""
            },
            "colorscale": [
             [
              0,
              "#0d0887"
             ],
             [
              0.1111111111111111,
              "#46039f"
             ],
             [
              0.2222222222222222,
              "#7201a8"
             ],
             [
              0.3333333333333333,
              "#9c179e"
             ],
             [
              0.4444444444444444,
              "#bd3786"
             ],
             [
              0.5555555555555556,
              "#d8576b"
             ],
             [
              0.6666666666666666,
              "#ed7953"
             ],
             [
              0.7777777777777778,
              "#fb9f3a"
             ],
             [
              0.8888888888888888,
              "#fdca26"
             ],
             [
              1,
              "#f0f921"
             ]
            ],
            "type": "heatmapgl"
           }
          ],
          "histogram": [
           {
            "marker": {
             "colorbar": {
              "outlinewidth": 0,
              "ticks": ""
             }
            },
            "type": "histogram"
           }
          ],
          "histogram2d": [
           {
            "colorbar": {
             "outlinewidth": 0,
             "ticks": ""
            },
            "colorscale": [
             [
              0,
              "#0d0887"
             ],
             [
              0.1111111111111111,
              "#46039f"
             ],
             [
              0.2222222222222222,
              "#7201a8"
             ],
             [
              0.3333333333333333,
              "#9c179e"
             ],
             [
              0.4444444444444444,
              "#bd3786"
             ],
             [
              0.5555555555555556,
              "#d8576b"
             ],
             [
              0.6666666666666666,
              "#ed7953"
             ],
             [
              0.7777777777777778,
              "#fb9f3a"
             ],
             [
              0.8888888888888888,
              "#fdca26"
             ],
             [
              1,
              "#f0f921"
             ]
            ],
            "type": "histogram2d"
           }
          ],
          "histogram2dcontour": [
           {
            "colorbar": {
             "outlinewidth": 0,
             "ticks": ""
            },
            "colorscale": [
             [
              0,
              "#0d0887"
             ],
             [
              0.1111111111111111,
              "#46039f"
             ],
             [
              0.2222222222222222,
              "#7201a8"
             ],
             [
              0.3333333333333333,
              "#9c179e"
             ],
             [
              0.4444444444444444,
              "#bd3786"
             ],
             [
              0.5555555555555556,
              "#d8576b"
             ],
             [
              0.6666666666666666,
              "#ed7953"
             ],
             [
              0.7777777777777778,
              "#fb9f3a"
             ],
             [
              0.8888888888888888,
              "#fdca26"
             ],
             [
              1,
              "#f0f921"
             ]
            ],
            "type": "histogram2dcontour"
           }
          ],
          "mesh3d": [
           {
            "colorbar": {
             "outlinewidth": 0,
             "ticks": ""
            },
            "type": "mesh3d"
           }
          ],
          "parcoords": [
           {
            "line": {
             "colorbar": {
              "outlinewidth": 0,
              "ticks": ""
             }
            },
            "type": "parcoords"
           }
          ],
          "pie": [
           {
            "automargin": true,
            "type": "pie"
           }
          ],
          "scatter": [
           {
            "marker": {
             "colorbar": {
              "outlinewidth": 0,
              "ticks": ""
             }
            },
            "type": "scatter"
           }
          ],
          "scatter3d": [
           {
            "line": {
             "colorbar": {
              "outlinewidth": 0,
              "ticks": ""
             }
            },
            "marker": {
             "colorbar": {
              "outlinewidth": 0,
              "ticks": ""
             }
            },
            "type": "scatter3d"
           }
          ],
          "scattercarpet": [
           {
            "marker": {
             "colorbar": {
              "outlinewidth": 0,
              "ticks": ""
             }
            },
            "type": "scattercarpet"
           }
          ],
          "scattergeo": [
           {
            "marker": {
             "colorbar": {
              "outlinewidth": 0,
              "ticks": ""
             }
            },
            "type": "scattergeo"
           }
          ],
          "scattergl": [
           {
            "marker": {
             "colorbar": {
              "outlinewidth": 0,
              "ticks": ""
             }
            },
            "type": "scattergl"
           }
          ],
          "scattermapbox": [
           {
            "marker": {
             "colorbar": {
              "outlinewidth": 0,
              "ticks": ""
             }
            },
            "type": "scattermapbox"
           }
          ],
          "scatterpolar": [
           {
            "marker": {
             "colorbar": {
              "outlinewidth": 0,
              "ticks": ""
             }
            },
            "type": "scatterpolar"
           }
          ],
          "scatterpolargl": [
           {
            "marker": {
             "colorbar": {
              "outlinewidth": 0,
              "ticks": ""
             }
            },
            "type": "scatterpolargl"
           }
          ],
          "scatterternary": [
           {
            "marker": {
             "colorbar": {
              "outlinewidth": 0,
              "ticks": ""
             }
            },
            "type": "scatterternary"
           }
          ],
          "surface": [
           {
            "colorbar": {
             "outlinewidth": 0,
             "ticks": ""
            },
            "colorscale": [
             [
              0,
              "#0d0887"
             ],
             [
              0.1111111111111111,
              "#46039f"
             ],
             [
              0.2222222222222222,
              "#7201a8"
             ],
             [
              0.3333333333333333,
              "#9c179e"
             ],
             [
              0.4444444444444444,
              "#bd3786"
             ],
             [
              0.5555555555555556,
              "#d8576b"
             ],
             [
              0.6666666666666666,
              "#ed7953"
             ],
             [
              0.7777777777777778,
              "#fb9f3a"
             ],
             [
              0.8888888888888888,
              "#fdca26"
             ],
             [
              1,
              "#f0f921"
             ]
            ],
            "type": "surface"
           }
          ],
          "table": [
           {
            "cells": {
             "fill": {
              "color": "#EBF0F8"
             },
             "line": {
              "color": "white"
             }
            },
            "header": {
             "fill": {
              "color": "#C8D4E3"
             },
             "line": {
              "color": "white"
             }
            },
            "type": "table"
           }
          ]
         },
         "layout": {
          "annotationdefaults": {
           "arrowcolor": "#2a3f5f",
           "arrowhead": 0,
           "arrowwidth": 1
          },
          "autotypenumbers": "strict",
          "coloraxis": {
           "colorbar": {
            "outlinewidth": 0,
            "ticks": ""
           }
          },
          "colorscale": {
           "diverging": [
            [
             0,
             "#8e0152"
            ],
            [
             0.1,
             "#c51b7d"
            ],
            [
             0.2,
             "#de77ae"
            ],
            [
             0.3,
             "#f1b6da"
            ],
            [
             0.4,
             "#fde0ef"
            ],
            [
             0.5,
             "#f7f7f7"
            ],
            [
             0.6,
             "#e6f5d0"
            ],
            [
             0.7,
             "#b8e186"
            ],
            [
             0.8,
             "#7fbc41"
            ],
            [
             0.9,
             "#4d9221"
            ],
            [
             1,
             "#276419"
            ]
           ],
           "sequential": [
            [
             0,
             "#0d0887"
            ],
            [
             0.1111111111111111,
             "#46039f"
            ],
            [
             0.2222222222222222,
             "#7201a8"
            ],
            [
             0.3333333333333333,
             "#9c179e"
            ],
            [
             0.4444444444444444,
             "#bd3786"
            ],
            [
             0.5555555555555556,
             "#d8576b"
            ],
            [
             0.6666666666666666,
             "#ed7953"
            ],
            [
             0.7777777777777778,
             "#fb9f3a"
            ],
            [
             0.8888888888888888,
             "#fdca26"
            ],
            [
             1,
             "#f0f921"
            ]
           ],
           "sequentialminus": [
            [
             0,
             "#0d0887"
            ],
            [
             0.1111111111111111,
             "#46039f"
            ],
            [
             0.2222222222222222,
             "#7201a8"
            ],
            [
             0.3333333333333333,
             "#9c179e"
            ],
            [
             0.4444444444444444,
             "#bd3786"
            ],
            [
             0.5555555555555556,
             "#d8576b"
            ],
            [
             0.6666666666666666,
             "#ed7953"
            ],
            [
             0.7777777777777778,
             "#fb9f3a"
            ],
            [
             0.8888888888888888,
             "#fdca26"
            ],
            [
             1,
             "#f0f921"
            ]
           ]
          },
          "colorway": [
           "#636efa",
           "#EF553B",
           "#00cc96",
           "#ab63fa",
           "#FFA15A",
           "#19d3f3",
           "#FF6692",
           "#B6E880",
           "#FF97FF",
           "#FECB52"
          ],
          "font": {
           "color": "#2a3f5f"
          },
          "geo": {
           "bgcolor": "white",
           "lakecolor": "white",
           "landcolor": "#E5ECF6",
           "showlakes": true,
           "showland": true,
           "subunitcolor": "white"
          },
          "hoverlabel": {
           "align": "left"
          },
          "hovermode": "closest",
          "mapbox": {
           "style": "light"
          },
          "paper_bgcolor": "white",
          "plot_bgcolor": "#E5ECF6",
          "polar": {
           "angularaxis": {
            "gridcolor": "white",
            "linecolor": "white",
            "ticks": ""
           },
           "bgcolor": "#E5ECF6",
           "radialaxis": {
            "gridcolor": "white",
            "linecolor": "white",
            "ticks": ""
           }
          },
          "scene": {
           "xaxis": {
            "backgroundcolor": "#E5ECF6",
            "gridcolor": "white",
            "gridwidth": 2,
            "linecolor": "white",
            "showbackground": true,
            "ticks": "",
            "zerolinecolor": "white"
           },
           "yaxis": {
            "backgroundcolor": "#E5ECF6",
            "gridcolor": "white",
            "gridwidth": 2,
            "linecolor": "white",
            "showbackground": true,
            "ticks": "",
            "zerolinecolor": "white"
           },
           "zaxis": {
            "backgroundcolor": "#E5ECF6",
            "gridcolor": "white",
            "gridwidth": 2,
            "linecolor": "white",
            "showbackground": true,
            "ticks": "",
            "zerolinecolor": "white"
           }
          },
          "shapedefaults": {
           "line": {
            "color": "#2a3f5f"
           }
          },
          "ternary": {
           "aaxis": {
            "gridcolor": "white",
            "linecolor": "white",
            "ticks": ""
           },
           "baxis": {
            "gridcolor": "white",
            "linecolor": "white",
            "ticks": ""
           },
           "bgcolor": "#E5ECF6",
           "caxis": {
            "gridcolor": "white",
            "linecolor": "white",
            "ticks": ""
           }
          },
          "title": {
           "x": 0.05
          },
          "xaxis": {
           "automargin": true,
           "gridcolor": "white",
           "linecolor": "white",
           "ticks": "",
           "title": {
            "standoff": 15
           },
           "zerolinecolor": "white",
           "zerolinewidth": 2
          },
          "yaxis": {
           "automargin": true,
           "gridcolor": "white",
           "linecolor": "white",
           "ticks": "",
           "title": {
            "standoff": 15
           },
           "zerolinecolor": "white",
           "zerolinewidth": 2
          }
         }
        },
        "title": {
         "font": {
          "size": 20
         },
         "text": "Correlation Heatmap"
        },
        "width": 800,
        "xaxis": {
         "autorange": true,
         "range": [
          -0.5,
          11.5
         ],
         "type": "category"
        },
        "yaxis": {
         "autorange": true,
         "range": [
          -0.5,
          11.5
         ],
         "type": "category"
        }
       }
      },
      "image/png": "[encoded data removed]",
      "text/html": [
       "<div>                            <div id=\"b6fa8922-149e-40ea-a163-0762eacfa1e3\" class=\"plotly-graph-div\" style=\"height:500px; width:800px;\"></div>            <script type=\"text/javascript\">                require([\"plotly\"], function(Plotly) {                    window.PLOTLYENV=window.PLOTLYENV || {};\n",
       "                    window.PLOTLYENV.BASE_URL='https://plot.ly';                                    if (document.getElementById(\"b6fa8922-149e-40ea-a163-0762eacfa1e3\")) {                    Plotly.newPlot(                        \"b6fa8922-149e-40ea-a163-0762eacfa1e3\",                        [{\"colorscale\": [[0.0, \"rgb(247,251,255)\"], [0.125, \"rgb(222,235,247)\"], [0.25, \"rgb(198,219,239)\"], [0.375, \"rgb(158,202,225)\"], [0.5, \"rgb(107,174,214)\"], [0.625, \"rgb(66,146,198)\"], [0.75, \"rgb(33,113,181)\"], [0.875, \"rgb(8,81,156)\"], [1.0, \"rgb(8,48,107)\"]], \"type\": \"heatmap\", \"x\": [\"price\", \"bedrooms\", \"bathrooms\", \"sqft_living\", \"sqft_lot\", \"floors\", \"view\", \"grade\", \"sqft_above\", \"sqft_basement\", \"sqft_living15\", \"sqft_lot15\"], \"y\": [\"price\", \"bedrooms\", \"bathrooms\", \"sqft_living\", \"sqft_lot\", \"floors\", \"view\", \"grade\", \"sqft_above\", \"sqft_basement\", \"sqft_living15\", \"sqft_lot15\"], \"z\": [[1.0, 0.5419166520935336, 0.46076891052616253, 0.7852232968489117, 0.3965737653744893, 0.13019665736891894, 0.45069581433273803, 0.6525936619379927, 0.7015857271591613, 0.4452045369673695, 0.5131879594789093, 0.29859869874878775], [0.5419166520935336, 1.0, 0.4702503998181564, 0.6720831188282, 0.12008154497475763, 0.16586249915971119, 0.17953627107721126, 0.37996435175872095, 0.6062837806644883, 0.37378962283145367, 0.27798012642246667, 0.07076654844519191], [0.46076891052616253, 0.4702503998181564, 1.0, 0.576369223718255, -0.058623115298258546, 0.5771571886234029, 0.10495267716165697, 0.546426752401894, 0.5889472077142712, 0.2339060174115841, 0.2337673551124285, -0.13471771814545086], [0.7852232968489117, 0.6720831188282, 0.576369223718255, 1.0, 0.35491716426360964, 0.23349780661796776, 0.3357053725305873, 0.6303709666749182, 0.808485200756057, 0.6737123512865362, 0.5095412447012226, 0.2782542256829057], [0.3965737653744893, 0.12008154497475763, -0.058623115298258546, 0.35491716426360964, 1.0, -0.36838150087328636, 0.377415309005068, 0.11939256590412721, 0.20401792744960892, 0.3432430323644164, 0.48165294732951114, 0.7645035642190602], [0.13019665736891894, 0.16586249915971119, 0.5771571886234029, 0.23349780661796776, -0.36838150087328636, 1.0, 0.0004857167429638512, 0.47804877393668005, 0.47976259987776176, -0.20807388528322224, -0.019904146399068984, -0.39772170508955423], [0.45069581433273803, 0.17953627107721126, 0.10495267716165697, 0.3357053725305873, 0.377415309005068, 0.0004857167429638512, 1.0, 0.32002321696809416, 0.23367549979991992, 0.2735551993922005, 0.5714012118897286, 0.337968723237803], [0.6525936619379927, 0.37996435175872095, 0.546426752401894, 0.6303709666749182, 0.11939256590412721, 0.47804877393668005, 0.32002321696809416, 1.0, 0.6600011999461878, 0.23588883510566286, 0.44246744857046205, 0.05287284770041768], [0.7015857271591613, 0.6062837806644883, 0.5889472077142712, 0.808485200756057, 0.20401792744960892, 0.47976259987776176, 0.23367549979991992, 0.6600011999461878, 1.0, 0.10977648217099996, 0.387550966047515, 0.14911116800135668], [0.4452045369673695, 0.37378962283145367, 0.2339060174115841, 0.6737123512865362, 0.3432430323644164, -0.20807388528322224, 0.2735551993922005, 0.23588883510566286, 0.10977648217099996, 1.0, 0.3739300594688735, 0.2827114046820916], [0.5131879594789093, 0.27798012642246667, 0.2337673551124285, 0.5095412447012226, 0.48165294732951114, -0.019904146399068984, 0.5714012118897286, 0.44246744857046205, 0.387550966047515, 0.3739300594688735, 1.0, 0.47962773882828275], [0.29859869874878775, 0.07076654844519191, -0.13471771814545086, 0.2782542256829057, 0.7645035642190602, -0.39772170508955423, 0.337968723237803, 0.05287284770041768, 0.14911116800135668, 0.2827114046820916, 0.47962773882828275, 1.0]], \"zmax\": 1.0, \"zmin\": -0.39772170508955423}],                        {\"autosize\": false, \"height\": 500, \"template\": {\"data\": {\"bar\": [{\"error_x\": {\"color\": \"#2a3f5f\"}, \"error_y\": {\"color\": \"#2a3f5f\"}, \"marker\": {\"line\": {\"color\": \"#E5ECF6\", \"width\": 0.5}}, \"type\": \"bar\"}], \"barpolar\": [{\"marker\": {\"line\": {\"color\": \"#E5ECF6\", \"width\": 0.5}}, \"type\": \"barpolar\"}], \"carpet\": [{\"aaxis\": {\"endlinecolor\": \"#2a3f5f\", \"gridcolor\": \"white\", \"linecolor\": \"white\", \"minorgridcolor\": \"white\", \"startlinecolor\": \"#2a3f5f\"}, \"baxis\": {\"endlinecolor\": \"#2a3f5f\", \"gridcolor\": \"white\", \"linecolor\": \"white\", \"minorgridcolor\": \"white\", \"startlinecolor\": \"#2a3f5f\"}, \"type\": \"carpet\"}], \"choropleth\": [{\"colorbar\": {\"outlinewidth\": 0, \"ticks\": \"\"}, \"type\": \"choropleth\"}], \"contour\": [{\"colorbar\": {\"outlinewidth\": 0, \"ticks\": \"\"}, \"colorscale\": [[0.0, \"#0d0887\"], [0.1111111111111111, \"#46039f\"], [0.2222222222222222, \"#7201a8\"], [0.3333333333333333, \"#9c179e\"], [0.4444444444444444, \"#bd3786\"], [0.5555555555555556, \"#d8576b\"], [0.6666666666666666, \"#ed7953\"], [0.7777777777777778, \"#fb9f3a\"], [0.8888888888888888, \"#fdca26\"], [1.0, \"#f0f921\"]], \"type\": \"contour\"}], \"contourcarpet\": [{\"colorbar\": {\"outlinewidth\": 0, \"ticks\": \"\"}, \"type\": \"contourcarpet\"}], \"heatmap\": [{\"colorbar\": {\"outlinewidth\": 0, \"ticks\": \"\"}, \"colorscale\": [[0.0, \"#0d0887\"], [0.1111111111111111, \"#46039f\"], [0.2222222222222222, \"#7201a8\"], [0.3333333333333333, \"#9c179e\"], [0.4444444444444444, \"#bd3786\"], [0.5555555555555556, \"#d8576b\"], [0.6666666666666666, \"#ed7953\"], [0.7777777777777778, \"#fb9f3a\"], [0.8888888888888888, \"#fdca26\"], [1.0, \"#f0f921\"]], \"type\": \"heatmap\"}], \"heatmapgl\": [{\"colorbar\": {\"outlinewidth\": 0, \"ticks\": \"\"}, \"colorscale\": [[0.0, \"#0d0887\"], [0.1111111111111111, \"#46039f\"], [0.2222222222222222, \"#7201a8\"], [0.3333333333333333, \"#9c179e\"], [0.4444444444444444, \"#bd3786\"], [0.5555555555555556, \"#d8576b\"], [0.6666666666666666, \"#ed7953\"], [0.7777777777777778, \"#fb9f3a\"], [0.8888888888888888, \"#fdca26\"], [1.0, \"#f0f921\"]], \"type\": \"heatmapgl\"}], \"histogram\": [{\"marker\": {\"colorbar\": {\"outlinewidth\": 0, \"ticks\": \"\"}}, \"type\": \"histogram\"}], \"histogram2d\": [{\"colorbar\": {\"outlinewidth\": 0, \"ticks\": \"\"}, \"colorscale\": [[0.0, \"#0d0887\"], [0.1111111111111111, \"#46039f\"], [0.2222222222222222, \"#7201a8\"], [0.3333333333333333, \"#9c179e\"], [0.4444444444444444, \"#bd3786\"], [0.5555555555555556, \"#d8576b\"], [0.6666666666666666, \"#ed7953\"], [0.7777777777777778, \"#fb9f3a\"], [0.8888888888888888, \"#fdca26\"], [1.0, \"#f0f921\"]], \"type\": \"histogram2d\"}], \"histogram2dcontour\": [{\"colorbar\": {\"outlinewidth\": 0, \"ticks\": \"\"}, \"colorscale\": [[0.0, \"#0d0887\"], [0.1111111111111111, \"#46039f\"], [0.2222222222222222, \"#7201a8\"], [0.3333333333333333, \"#9c179e\"], [0.4444444444444444, \"#bd3786\"], [0.5555555555555556, \"#d8576b\"], [0.6666666666666666, \"#ed7953\"], [0.7777777777777778, \"#fb9f3a\"], [0.8888888888888888, \"#fdca26\"], [1.0, \"#f0f921\"]], \"type\": \"histogram2dcontour\"}], \"mesh3d\": [{\"colorbar\": {\"outlinewidth\": 0, \"ticks\": \"\"}, \"type\": \"mesh3d\"}], \"parcoords\": [{\"line\": {\"colorbar\": {\"outlinewidth\": 0, \"ticks\": \"\"}}, \"type\": \"parcoords\"}], \"pie\": [{\"automargin\": true, \"type\": \"pie\"}], \"scatter\": [{\"marker\": {\"colorbar\": {\"outlinewidth\": 0, \"ticks\": \"\"}}, \"type\": \"scatter\"}], \"scatter3d\": [{\"line\": {\"colorbar\": {\"outlinewidth\": 0, \"ticks\": \"\"}}, \"marker\": {\"colorbar\": {\"outlinewidth\": 0, \"ticks\": \"\"}}, \"type\": \"scatter3d\"}], \"scattercarpet\": [{\"marker\": {\"colorbar\": {\"outlinewidth\": 0, \"ticks\": \"\"}}, \"type\": \"scattercarpet\"}], \"scattergeo\": [{\"marker\": {\"colorbar\": {\"outlinewidth\": 0, \"ticks\": \"\"}}, \"type\": \"scattergeo\"}], \"scattergl\": [{\"marker\": {\"colorbar\": {\"outlinewidth\": 0, \"ticks\": \"\"}}, \"type\": \"scattergl\"}], \"scattermapbox\": [{\"marker\": {\"colorbar\": {\"outlinewidth\": 0, \"ticks\": \"\"}}, \"type\": \"scattermapbox\"}], \"scatterpolar\": [{\"marker\": {\"colorbar\": {\"outlinewidth\": 0, \"ticks\": \"\"}}, \"type\": \"scatterpolar\"}], \"scatterpolargl\": [{\"marker\": {\"colorbar\": {\"outlinewidth\": 0, \"ticks\": \"\"}}, \"type\": \"scatterpolargl\"}], \"scatterternary\": [{\"marker\": {\"colorbar\": {\"outlinewidth\": 0, \"ticks\": \"\"}}, \"type\": \"scatterternary\"}], \"surface\": [{\"colorbar\": {\"outlinewidth\": 0, \"ticks\": \"\"}, \"colorscale\": [[0.0, \"#0d0887\"], [0.1111111111111111, \"#46039f\"], [0.2222222222222222, \"#7201a8\"], [0.3333333333333333, \"#9c179e\"], [0.4444444444444444, \"#bd3786\"], [0.5555555555555556, \"#d8576b\"], [0.6666666666666666, \"#ed7953\"], [0.7777777777777778, \"#fb9f3a\"], [0.8888888888888888, \"#fdca26\"], [1.0, \"#f0f921\"]], \"type\": \"surface\"}], \"table\": [{\"cells\": {\"fill\": {\"color\": \"#EBF0F8\"}, \"line\": {\"color\": \"white\"}}, \"header\": {\"fill\": {\"color\": \"#C8D4E3\"}, \"line\": {\"color\": \"white\"}}, \"type\": \"table\"}]}, \"layout\": {\"annotationdefaults\": {\"arrowcolor\": \"#2a3f5f\", \"arrowhead\": 0, \"arrowwidth\": 1}, \"autotypenumbers\": \"strict\", \"coloraxis\": {\"colorbar\": {\"outlinewidth\": 0, \"ticks\": \"\"}}, \"colorscale\": {\"diverging\": [[0, \"#8e0152\"], [0.1, \"#c51b7d\"], [0.2, \"#de77ae\"], [0.3, \"#f1b6da\"], [0.4, \"#fde0ef\"], [0.5, \"#f7f7f7\"], [0.6, \"#e6f5d0\"], [0.7, \"#b8e186\"], [0.8, \"#7fbc41\"], [0.9, \"#4d9221\"], [1, \"#276419\"]], \"sequential\": [[0.0, \"#0d0887\"], [0.1111111111111111, \"#46039f\"], [0.2222222222222222, \"#7201a8\"], [0.3333333333333333, \"#9c179e\"], [0.4444444444444444, \"#bd3786\"], [0.5555555555555556, \"#d8576b\"], [0.6666666666666666, \"#ed7953\"], [0.7777777777777778, \"#fb9f3a\"], [0.8888888888888888, \"#fdca26\"], [1.0, \"#f0f921\"]], \"sequentialminus\": [[0.0, \"#0d0887\"], [0.1111111111111111, \"#46039f\"], [0.2222222222222222, \"#7201a8\"], [0.3333333333333333, \"#9c179e\"], [0.4444444444444444, \"#bd3786\"], [0.5555555555555556, \"#d8576b\"], [0.6666666666666666, \"#ed7953\"], [0.7777777777777778, \"#fb9f3a\"], [0.8888888888888888, \"#fdca26\"], [1.0, \"#f0f921\"]]}, \"colorway\": [\"#636efa\", \"#EF553B\", \"#00cc96\", \"#ab63fa\", \"#FFA15A\", \"#19d3f3\", \"#FF6692\", \"#B6E880\", \"#FF97FF\", \"#FECB52\"], \"font\": {\"color\": \"#2a3f5f\"}, \"geo\": {\"bgcolor\": \"white\", \"lakecolor\": \"white\", \"landcolor\": \"#E5ECF6\", \"showlakes\": true, \"showland\": true, \"subunitcolor\": \"white\"}, \"hoverlabel\": {\"align\": \"left\"}, \"hovermode\": \"closest\", \"mapbox\": {\"style\": \"light\"}, \"paper_bgcolor\": \"white\", \"plot_bgcolor\": \"#E5ECF6\", \"polar\": {\"angularaxis\": {\"gridcolor\": \"white\", \"linecolor\": \"white\", \"ticks\": \"\"}, \"bgcolor\": \"#E5ECF6\", \"radialaxis\": {\"gridcolor\": \"white\", \"linecolor\": \"white\", \"ticks\": \"\"}}, \"scene\": {\"xaxis\": {\"backgroundcolor\": \"#E5ECF6\", \"gridcolor\": \"white\", \"gridwidth\": 2, \"linecolor\": \"white\", \"showbackground\": true, \"ticks\": \"\", \"zerolinecolor\": \"white\"}, \"yaxis\": {\"backgroundcolor\": \"#E5ECF6\", \"gridcolor\": \"white\", \"gridwidth\": 2, \"linecolor\": \"white\", \"showbackground\": true, \"ticks\": \"\", \"zerolinecolor\": \"white\"}, \"zaxis\": {\"backgroundcolor\": \"#E5ECF6\", \"gridcolor\": \"white\", \"gridwidth\": 2, \"linecolor\": \"white\", \"showbackground\": true, \"ticks\": \"\", \"zerolinecolor\": \"white\"}}, \"shapedefaults\": {\"line\": {\"color\": \"#2a3f5f\"}}, \"ternary\": {\"aaxis\": {\"gridcolor\": \"white\", \"linecolor\": \"white\", \"ticks\": \"\"}, \"baxis\": {\"gridcolor\": \"white\", \"linecolor\": \"white\", \"ticks\": \"\"}, \"bgcolor\": \"#E5ECF6\", \"caxis\": {\"gridcolor\": \"white\", \"linecolor\": \"white\", \"ticks\": \"\"}}, \"title\": {\"x\": 0.05}, \"xaxis\": {\"automargin\": true, \"gridcolor\": \"white\", \"linecolor\": \"white\", \"ticks\": \"\", \"title\": {\"standoff\": 15}, \"zerolinecolor\": \"white\", \"zerolinewidth\": 2}, \"yaxis\": {\"automargin\": true, \"gridcolor\": \"white\", \"linecolor\": \"white\", \"ticks\": \"\", \"title\": {\"standoff\": 15}, \"zerolinecolor\": \"white\", \"zerolinewidth\": 2}}}, \"title\": {\"font\": {\"size\": 20}, \"text\": \"Correlation Heatmap\"}, \"width\": 800},                        {\"showLink\": true, \"linkText\": \"Export to plot.ly\", \"plotlyServerURL\": \"https://plot.ly\", \"responsive\": true}                    ).then(function(){\n",
       "                            \n",
       "var gd = document.getElementById('b6fa8922-149e-40ea-a163-0762eacfa1e3');\n",
       "var x = new MutationObserver(function (mutations, observer) {{\n",
       "        var display = window.getComputedStyle(gd).display;\n",
       "        if (!display || display === 'none') {{\n",
       "            console.log([gd, 'removed!']);\n",
       "            Plotly.purge(gd);\n",
       "            observer.disconnect();\n",
       "        }}\n",
       "}});\n",
       "\n",
       "// Listen for the removal of the full notebook cells\n",
       "var notebookContainer = gd.closest('#notebook-container');\n",
       "if (notebookContainer) {{\n",
       "    x.observe(notebookContainer, {childList: true});\n",
       "}}\n",
       "\n",
       "// Listen for the clearing of the current output cell\n",
       "var outputEl = gd.closest('.output');\n",
       "if (outputEl) {{\n",
       "    x.observe(outputEl, {childList: true});\n",
       "}}\n",
       "\n",
       "                        })                };                });            </script>        </div>"
      ]
     },
     "metadata": {},
     "output_type": "display_data"
    }
   ],
   "source": [
    "# Mapa de correlação\n",
    "corr = ndf.corr()\n",
    "corr.iplot(kind='heatmap',colorscale='Blues',hoverinfo='all',\n",
    "           layout = go.Layout(title='Correlation Heatmap',titlefont=dict(size=20),autosize = False ,width = 800,height=500))"
   ]
  },
  {
   "cell_type": "code",
   "execution_count": 12,
   "metadata": {},
   "outputs": [
    {
     "data": {
      "text/html": [
       "<div>\n",
       "<style scoped>\n",
       "    .dataframe tbody tr th:only-of-type {\n",
       "        vertical-align: middle;\n",
       "    }\n",
       "\n",
       "    .dataframe tbody tr th {\n",
       "        vertical-align: top;\n",
       "    }\n",
       "\n",
       "    .dataframe thead th {\n",
       "        text-align: right;\n",
       "    }\n",
       "</style>\n",
       "<table border=\"1\" class=\"dataframe\">\n",
       "  <thead>\n",
       "    <tr style=\"text-align: right;\">\n",
       "      <th></th>\n",
       "      <th>price</th>\n",
       "      <th>sqft_living</th>\n",
       "      <th>sqft_lot</th>\n",
       "      <th>grade</th>\n",
       "      <th>sqft_basement</th>\n",
       "    </tr>\n",
       "  </thead>\n",
       "  <tbody>\n",
       "    <tr>\n",
       "      <th>0</th>\n",
       "      <td>687500.0</td>\n",
       "      <td>2330</td>\n",
       "      <td>5000</td>\n",
       "      <td>7</td>\n",
       "      <td>820</td>\n",
       "    </tr>\n",
       "    <tr>\n",
       "      <th>1</th>\n",
       "      <td>535000.0</td>\n",
       "      <td>1090</td>\n",
       "      <td>3000</td>\n",
       "      <td>8</td>\n",
       "      <td>0</td>\n",
       "    </tr>\n",
       "    <tr>\n",
       "      <th>2</th>\n",
       "      <td>600000.0</td>\n",
       "      <td>1410</td>\n",
       "      <td>4080</td>\n",
       "      <td>7</td>\n",
       "      <td>410</td>\n",
       "    </tr>\n",
       "  </tbody>\n",
       "</table>\n",
       "</div>"
      ],
      "text/plain": [
       "      price  sqft_living  sqft_lot  grade  sqft_basement\n",
       "0  687500.0         2330      5000      7            820\n",
       "1  535000.0         1090      3000      8              0\n",
       "2  600000.0         1410      4080      7            410"
      ]
     },
     "execution_count": 12,
     "metadata": {},
     "output_type": "execute_result"
    }
   ],
   "source": [
    "# Dropando as features com uma alta multicolinearidade\n",
    "n2df = ndf.drop(['bedrooms','bathrooms','sqft_living15','sqft_above','sqft_lot15','view','floors'],axis=1)\n",
    "n2df.head(3)"
   ]
  },
  {
   "cell_type": "code",
   "execution_count": 21,
   "metadata": {},
   "outputs": [
    {
     "data": {
      "image/png": "[encoded data removed]",
      "text/plain": [
       "<Figure size 1440x864 with 4 Axes>"
      ]
     },
     "metadata": {
      "needs_background": "light"
     },
     "output_type": "display_data"
    }
   ],
   "source": [
    "# Analisando os Outliers\n",
    "plt.figure(figsize=(20,12))\n",
    "plt.subplot(2,2,1)\n",
    "sns.boxplot(y='sqft_living',data=n2df)\n",
    "plt.title('Sqft_Living Box Plot')\n",
    "\n",
    "plt.subplot(2,2,2)\n",
    "sns.boxplot(y='sqft_basement',data=n2df)\n",
    "plt.title('Sqft_Basement Box Plot ')\n",
    "\n",
    "plt.subplot(2,2,3)\n",
    "sns.boxplot(y='sqft_lot',data=n2df)\n",
    "plt.title('Sqft_Lot Box Plot ')\n",
    "\n",
    "plt.subplot(2,2,4)\n",
    "sns.boxplot(y='price',data=n2df)\n",
    "plt.title('Price Box Plot ')\n",
    "plt.show()\n"
   ]
  },
  {
   "cell_type": "code",
   "execution_count": 14,
   "metadata": {},
   "outputs": [
    {
     "name": "stdout",
     "output_type": "stream",
     "text": [
      "q25 = 1220.0, q75 = 2080.0\n",
      "iqr = 860.0\n",
      "Cut Off = 1677.0\n",
      "Sqft_Living Upper = 3757.0\n",
      "Feature Sqft_Living Outliers 6\n"
     ]
    }
   ],
   "source": [
    "# Encontrando os OutLiters em sqft_living, e construindo um TrashHold\n",
    "sqft_liv= n2df['sqft_living']\n",
    "\n",
    "q25,q75 = np.percentile(sqft_liv,25),np.percentile(sqft_liv,75)\n",
    "print(f'q25 = {q25}, q75 = {q75}')\n",
    "\n",
    "liv_iqr = q75-q25\n",
    "print(f'iqr = {liv_iqr}')\n",
    "\n",
    "liv_cutoff = liv_iqr*1.95\n",
    "liv_upper = (q75+liv_cutoff)\n",
    "print(f'Cut Off = {liv_cutoff}')\n",
    "print(f'Sqft_Living Upper = {liv_upper}')\n",
    "\n",
    "outliers = [x for x in sqft_liv if x >liv_upper]\n",
    "print(f'Feature Sqft_Living Outliers {len(outliers)}')  "
   ]
  },
  {
   "cell_type": "code",
   "execution_count": 15,
   "metadata": {},
   "outputs": [
    {
     "name": "stdout",
     "output_type": "stream",
     "text": [
      "q25 = 0.0, q75 = 700.0\n",
      "iqr = 700.0\n",
      "Cut Off = 840.0\n",
      "Sqft_Basement Upper = 1540.0\n",
      "Feature Sqft_Basement Outliers 3\n"
     ]
    }
   ],
   "source": [
    "# Encontrando os OutLiters em sqft_basement, e construindo um TrashHold\n",
    "sqft_base= n2df['sqft_basement']\n",
    "\n",
    "q25,q75 = np.percentile(sqft_base,25),np.percentile(sqft_base,75)\n",
    "print(f'q25 = {q25}, q75 = {q75}')\n",
    "\n",
    "base_iqr = q75-q25\n",
    "print(f'iqr = {base_iqr}')\n",
    "\n",
    "base_cutoff = base_iqr*1.2\n",
    "base_upper = (q75+base_cutoff)\n",
    "print(f'Cut Off = {base_cutoff}')\n",
    "print(f'Sqft_Basement Upper = {base_upper}')\n",
    "\n",
    "outliers = [x for x in sqft_base if x >base_upper]\n",
    "print(f'Feature Sqft_Basement Outliers {len(outliers)}')"
   ]
  },
  {
   "cell_type": "code",
   "execution_count": 16,
   "metadata": {},
   "outputs": [
    {
     "name": "stdout",
     "output_type": "stream",
     "text": [
      "q25 = 3740.0, q75 = 5150.0\n",
      "iqr = 1410.0\n",
      "Cut Off = 8460.0\n",
      "Sqft_Lot Upper = 13610.0\n",
      "Sqft_Lot Lower = 2330.0\n",
      "Feature Sqft_Basement Outliers 71\n"
     ]
    }
   ],
   "source": [
    "# Encontrando os OutLiters em sqft_lot, e construindo um TrashHold\n",
    "sqft_lot= n2df['sqft_lot']\n",
    "\n",
    "q25,q75 = np.percentile(sqft_lot,25),np.percentile(sqft_lot,75)\n",
    "print(f'q25 = {q25}, q75 = {q75}')\n",
    "\n",
    "lot_iqr = q75-q25\n",
    "print(f'iqr = {lot_iqr}')\n",
    "\n",
    "lot_cutoff = lot_iqr*6\n",
    "lot_cutoff_lower = lot_iqr*1\n",
    "lot_upper = (q75+lot_cutoff)\n",
    "lot_lower = (q25-lot_cutoff_lower)\n",
    "print(f'Cut Off = {lot_cutoff}')\n",
    "print(f'Sqft_Lot Upper = {lot_upper}')\n",
    "print(f'Sqft_Lot Lower = {lot_lower}')\n",
    "\n",
    "\n",
    "outliers = [x for x in sqft_lot if x >lot_upper or x < lot_lower]\n",
    "print(f'Feature Sqft_Basement Outliers {len(outliers)}')"
   ]
  },
  {
   "cell_type": "code",
   "execution_count": 17,
   "metadata": {},
   "outputs": [
    {
     "name": "stdout",
     "output_type": "stream",
     "text": [
      "q25 = 450000.0, q75 = 657500.0\n",
      "iqr = 207500.0\n",
      "Cut Off = 539500.0\n",
      "Price Upper = 1197000.0\n",
      "Price LOWER = 201000.0\n",
      "Price Outliers 10\n"
     ]
    }
   ],
   "source": [
    "# Encontrando os OutLiters em price, e construindo um TrashHold\n",
    "prices= n2df['price']\n",
    "\n",
    "q25,q75 = np.percentile(prices,25),np.percentile(prices,75)\n",
    "print(f'q25 = {q25}, q75 = {q75}')\n",
    "\n",
    "price_iqr = q75-q25\n",
    "print(f'iqr = {price_iqr}')\n",
    "\n",
    "price_cutoff = price_iqr*2.6\n",
    "price_cutoff_lower = price_iqr*1.2\n",
    "\n",
    "price_upper = (q75+price_cutoff)\n",
    "price_lower = (q25-price_cutoff_lower)\n",
    "print(f'Cut Off = {price_cutoff}')\n",
    "print(f'Price Upper = {price_upper}')\n",
    "print(f'Price LOWER = {price_lower}')\n",
    "\n",
    "outliers = [x for x in prices if x >price_upper or x < price_lower]\n",
    "print(f'Price Outliers {len(outliers)}')"
   ]
  },
  {
   "cell_type": "code",
   "execution_count": 18,
   "metadata": {},
   "outputs": [],
   "source": [
    "# Removendo os outliers do conjunto de dados\n",
    "cut_out_prices =  n2df.drop(n2df[(n2df['price'] > price_upper) | (n2df['price'] < price_lower) ].index)\n",
    "\n",
    "cut_outl_living = cut_out_prices.drop(cut_out_prices[(cut_out_prices['sqft_living'] > liv_upper)].index)\n",
    "\n",
    "cut_out_basement = cut_outl_living.drop(cut_outl_living[(cut_outl_living['sqft_basement'] > base_upper)].index)\n",
    "\n",
    "cut_out_lot = cut_out_basement.drop(cut_out_basement[(cut_out_basement['sqft_lot'] > lot_upper) | (cut_out_basement['sqft_lot'] < lot_lower) ].index)\n",
    "\n",
    "\n",
    "\n",
    "new_df = cut_out_lot"
   ]
  },
  {
   "cell_type": "code",
   "execution_count": 22,
   "metadata": {},
   "outputs": [
    {
     "data": {
      "image/png": "[encoded data removed]",
      "text/plain": [
       "<Figure size 1440x864 with 4 Axes>"
      ]
     },
     "metadata": {
      "needs_background": "light"
     },
     "output_type": "display_data"
    }
   ],
   "source": [
    "plt.figure(figsize=(20,12))\n",
    "plt.subplot(2,2,1)\n",
    "sns.boxplot(y='sqft_living',data=new_df)\n",
    "plt.title('Sqft_Living Box Plot')\n",
    "\n",
    "plt.subplot(2,2,2)\n",
    "sns.boxplot(y='sqft_basement',data=new_df)\n",
    "plt.title('Sqft_Basement Box Plot ')\n",
    "\n",
    "plt.subplot(2,2,3)\n",
    "sns.boxplot(y='sqft_lot',data=new_df)\n",
    "plt.title('Sqft_Lot Box Plot ')\n",
    "\n",
    "plt.subplot(2,2,4)\n",
    "sns.boxplot(y='price',data=new_df)\n",
    "plt.title('Price Box Plot ')\n",
    "plt.show()"
   ]
  },
  {
   "cell_type": "code",
   "execution_count": 20,
   "metadata": {},
   "outputs": [
    {
     "data": {
      "image/png": "[encoded data removed]",
      "text/plain": [
       "<Figure size 1296x792 with 4 Axes>"
      ]
     },
     "metadata": {
      "needs_background": "light"
     },
     "output_type": "display_data"
    }
   ],
   "source": [
    "# Analisando a distribuição das features selecionadas e dos valores de price\n",
    "plt.figure(figsize=(18,11))\n",
    "plt.subplot(2,2,1)\n",
    "sns.distplot(new_df['sqft_living'],color ='Red')\n",
    "plt.title('Sqft_Living Distribution')\n",
    "\n",
    "plt.subplot(2,2,2)\n",
    "sns.distplot(new_df['sqft_basement'],color='black')\n",
    "plt.title('Sqft_Basement Distribution')\n",
    "\n",
    "plt.subplot(2,2,3)\n",
    "sns.distplot(new_df['sqft_lot'],color='orange')\n",
    "plt.title('Sqft_Lot Distribution')\n",
    "\n",
    "plt.subplot(2,2,4)\n",
    "sns.distplot(new_df['price'],color = 'blue')\n",
    "plt.title('Price Distribution')\n",
    "plt.show()"
   ]
  },
  {
   "cell_type": "code",
   "execution_count": 366,
   "metadata": {},
   "outputs": [],
   "source": [
    "# Fazendo a normalização das features\n",
    "from scipy import stats\n",
    "\n",
    "living = new_df['sqft_living'].values\n",
    "n_living = (stats.rankdata(living)/(len(living)+1)-0.5)*2\n",
    "n_living = (np.arctanh(n_living) + np.max(np.arctanh(n_living)) + 0.01)\n",
    "new_df['sqft_living'] = n_living\n",
    "\n",
    "basement = new_df['sqft_basement'].values\n",
    "n_basement = (stats.rankdata(basement)/(len(basement)+1)-0.5)\n",
    "n_basement = (np.arctanh(n_basement) + np.max(np.arctanh(n_basement)) + 0.01)\n",
    "new_df['sqft_basement'] = n_basement\n",
    "\n",
    "lot = new_df['sqft_lot'].values\n",
    "n_lot = (stats.rankdata(lot)/(len(lot)+1)-0.5)*2\n",
    "n_lot = (np.arctanh(n_lot) + np.max(np.arctanh(n_lot)) + 0.01)\n",
    "new_df['sqft_blot'] = n_lot\n",
    "\n",
    "price = new_df['price'].values\n",
    "n_price = (stats.rankdata(price)/(len(price)+1)-0.5)*2\n",
    "n_price = (np.arctanh(n_price) + np.max(np.arctanh(n_price)) + 0.01)\n",
    "\n"
   ]
  },
  {
   "cell_type": "code",
   "execution_count": 367,
   "metadata": {},
   "outputs": [
    {
     "data": {
      "image/png": "[encoded data removed]",
      "text/plain": [
       "<Figure size 1296x792 with 4 Axes>"
      ]
     },
     "metadata": {
      "needs_background": "light"
     },
     "output_type": "display_data"
    }
   ],
   "source": [
    "# Plotando as novas distribuições dos dados\n",
    "plt.figure(figsize=(18,11))\n",
    "plt.subplot(2,2,1)\n",
    "sns.distplot(n_living,color ='Red')\n",
    "plt.title('Normalized Sqft_Living Distribution')\n",
    "\n",
    "plt.subplot(2,2,2)\n",
    "sns.distplot(n_basement,color='black')\n",
    "plt.title('Normalized Sqft_Basement Distribution')\n",
    "\n",
    "plt.subplot(2,2,3)\n",
    "sns.distplot(n_lot,color='orange')\n",
    "plt.title('Normalized Sqft_Lot Distribution')\n",
    "\n",
    "plt.subplot(2,2,4)\n",
    "sns.distplot(n_price,color = 'blue')\n",
    "plt.title('Normalized Price Distribution')\n",
    "plt.show()"
   ]
  },
  {
   "cell_type": "code",
   "execution_count": 368,
   "metadata": {},
   "outputs": [],
   "source": [
    "new_df.to_csv('processed_data.csv')"
   ]
  }
 ],
 "metadata": {
  "kernelspec": {
   "display_name": "Python 3",
   "language": "python",
   "name": "python3"
  },
  "language_info": {
   "codemirror_mode": {
    "name": "ipython",
    "version": 3
   },
   "file_extension": ".py",
   "mimetype": "text/x-python",
   "name": "python",
   "nbconvert_exporter": "python",
   "pygments_lexer": "ipython3",
   "version": "3.8.5"
  }
 },
 "nbformat": 4,
 "nbformat_minor": 4
}
