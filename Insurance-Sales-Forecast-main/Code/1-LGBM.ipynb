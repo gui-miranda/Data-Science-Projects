{
 "cells": [
  {
   "cell_type": "code",
   "execution_count": 79,
   "metadata": {},
   "outputs": [],
   "source": [
    "import pandas as pd\n",
    "import numpy as np\n",
    "\n",
    "from sklearn.model_selection import train_test_split\n",
    "from sklearn.preprocessing import LabelEncoder\n",
    "from yellowbrick.classifier import ConfusionMatrix \n",
    "from sklearn.metrics import average_precision_score , roc_auc_score\n",
    "from sklearn import metrics\n",
    "from skopt import forest_minimize\n",
    "from lightgbm import LGBMClassifier"
   ]
  },
  {
   "cell_type": "code",
   "execution_count": 70,
   "metadata": {},
   "outputs": [
    {
     "data": {
      "text/html": [
       "<div>\n",
       "<style scoped>\n",
       "    .dataframe tbody tr th:only-of-type {\n",
       "        vertical-align: middle;\n",
       "    }\n",
       "\n",
       "    .dataframe tbody tr th {\n",
       "        vertical-align: top;\n",
       "    }\n",
       "\n",
       "    .dataframe thead th {\n",
       "        text-align: right;\n",
       "    }\n",
       "</style>\n",
       "<table border=\"1\" class=\"dataframe\">\n",
       "  <thead>\n",
       "    <tr style=\"text-align: right;\">\n",
       "      <th></th>\n",
       "      <th>Gender</th>\n",
       "      <th>Age</th>\n",
       "      <th>Driving_License</th>\n",
       "      <th>Region_Code</th>\n",
       "      <th>Previously_Insured</th>\n",
       "      <th>Vehicle_Age</th>\n",
       "      <th>Vehicle_Damage</th>\n",
       "      <th>Policy_Sales_Channel</th>\n",
       "    </tr>\n",
       "  </thead>\n",
       "  <tbody>\n",
       "    <tr>\n",
       "      <th>0</th>\n",
       "      <td>Male</td>\n",
       "      <td>44</td>\n",
       "      <td>1</td>\n",
       "      <td>28.0</td>\n",
       "      <td>0</td>\n",
       "      <td>&gt; 2 Years</td>\n",
       "      <td>Yes</td>\n",
       "      <td>26.0</td>\n",
       "    </tr>\n",
       "    <tr>\n",
       "      <th>1</th>\n",
       "      <td>Male</td>\n",
       "      <td>76</td>\n",
       "      <td>1</td>\n",
       "      <td>3.0</td>\n",
       "      <td>0</td>\n",
       "      <td>1-2 Year</td>\n",
       "      <td>No</td>\n",
       "      <td>26.0</td>\n",
       "    </tr>\n",
       "    <tr>\n",
       "      <th>2</th>\n",
       "      <td>Male</td>\n",
       "      <td>47</td>\n",
       "      <td>1</td>\n",
       "      <td>28.0</td>\n",
       "      <td>0</td>\n",
       "      <td>&gt; 2 Years</td>\n",
       "      <td>Yes</td>\n",
       "      <td>26.0</td>\n",
       "    </tr>\n",
       "  </tbody>\n",
       "</table>\n",
       "</div>"
      ],
      "text/plain": [
       "  Gender  Age  Driving_License  Region_Code  Previously_Insured Vehicle_Age  \\\n",
       "0   Male   44                1         28.0                   0   > 2 Years   \n",
       "1   Male   76                1          3.0                   0    1-2 Year   \n",
       "2   Male   47                1         28.0                   0   > 2 Years   \n",
       "\n",
       "  Vehicle_Damage  Policy_Sales_Channel  \n",
       "0            Yes                  26.0  \n",
       "1             No                  26.0  \n",
       "2            Yes                  26.0  "
      ]
     },
     "execution_count": 70,
     "metadata": {},
     "output_type": "execute_result"
    }
   ],
   "source": [
    "# Carregando os dados\n",
    "df = pd.read_csv('train.csv').drop(['id','Vintage','Annual_Premium'],axis=1)\n",
    "y_data = df['Response'].values\n",
    "\n",
    "\n",
    "df = df.drop('Response',axis=1)\n",
    "df.head(3)"
   ]
  },
  {
   "cell_type": "code",
   "execution_count": 71,
   "metadata": {},
   "outputs": [],
   "source": [
    "# Transformando as variaveis categoricas para numericas\n",
    "lb1 = LabelEncoder()\n",
    "df['Gender']= lb1.fit_transform(df['Gender'])\n",
    "\n",
    "lb2 = LabelEncoder()\n",
    "df['Vehicle_Age']= lb2.fit_transform(df['Vehicle_Age'])\n",
    "\n",
    "lb3 = LabelEncoder()\n",
    "df['Vehicle_Damage']= lb3.fit_transform(df['Vehicle_Damage'])"
   ]
  },
  {
   "cell_type": "code",
   "execution_count": 72,
   "metadata": {},
   "outputs": [],
   "source": [
    "# Divindo os dados entre treino e teste\n",
    "x_train,x_test,y_train,y_test = train_test_split(df,\n",
    "                                                y_data,test_size=0.3,\n",
    "                                                random_state=0)"
   ]
  },
  {
   "cell_type": "code",
   "execution_count": 73,
   "metadata": {},
   "outputs": [
    {
     "name": "stdout",
     "output_type": "stream",
     "text": [
      "LGBMClassifier \n",
      "AVG: 0.3724581172835141 \n",
      "ROC: 0.8586627006660189\n"
     ]
    }
   ],
   "source": [
    "# Criando um modelo inicial,sem optimizações\n",
    "lgbm = LGBMClassifier(random_state = 0,class_weight ='balanced',n_jobs=6)\n",
    "lgbm.fit(x_train,y_train)\n",
    "\n",
    "p_lg = lgbm.predict_proba(x_test)[:,1]\n",
    "print(f'LGBMClassifier \\nAVG: {average_precision_score(y_test,p_lg)} \\nROC: {roc_auc_score(y_test,p_lg)}')"
   ]
  },
  {
   "cell_type": "code",
   "execution_count": 74,
   "metadata": {},
   "outputs": [],
   "source": [
    "# Criando uma função para meidr a proporçao de acertos\n",
    "def acertos_prop(p,y):\n",
    "    y = pd.Series(y)\n",
    "    k,j = 0,0\n",
    "\n",
    "    for e in range(len(y)):\n",
    "        if (p[e] > 0.5 and y[e] == 0):\n",
    "            k += 1\n",
    "        \n",
    "        elif (p[e] > 0.5 and y[e] == 1):\n",
    "            j += 1\n",
    "    prop = (j/(j+k))\n",
    "    return prop"
   ]
  },
  {
   "cell_type": "code",
   "execution_count": 75,
   "metadata": {},
   "outputs": [
    {
     "data": {
      "text/plain": [
       "0.28373814781140405"
      ]
     },
     "execution_count": 75,
     "metadata": {},
     "output_type": "execute_result"
    }
   ],
   "source": [
    "acertos_prop(p_lg,y_test)"
   ]
  },
  {
   "cell_type": "markdown",
   "metadata": {},
   "source": [
    "# Baysean Optmization"
   ]
  },
  {
   "cell_type": "code",
   "execution_count": 60,
   "metadata": {},
   "outputs": [],
   "source": [
    "# Criando a função a ser utilizada na optimização\n",
    "def tune_lgbm(params):\n",
    "    print(params)\n",
    "    lr = params[0]\n",
    "    max_depth = params[1]\n",
    "    min_child_samples = params[2]\n",
    "    subsample = params[3]\n",
    "    colsample_bytree = params[4]\n",
    "    n_estimators = params[5]\n",
    "    \n",
    "    \n",
    "    \n",
    "  \n",
    "    mdl = LGBMClassifier(learning_rate=lr, num_leaves= 2**max_depth, max_depth=max_depth,\n",
    "                         min_child_samples=min_child_samples, subsample=subsample,\n",
    "                         colsample_bytree=colsample_bytree, bagging_freq = 1, n_estimators=n_estimators, \n",
    "                         random_state = 0, class_weight ='balanced',n_jobs=6)\n",
    "   \n",
    "    mdl.fit(x_train,y_train)\n",
    "    \n",
    "    pl = mdl.predict_proba(x_test)[:,1]\n",
    "    \n",
    "            \n",
    "    \n",
    "    def acertos_prop(p,y):\n",
    "        y = pd.Series(y)\n",
    "        k,j = 0,0\n",
    "        pl = p\n",
    "        for e in range(len(y)):\n",
    "            if (pl[e] > 0.5 and y[e] == 0):\n",
    "                k += 1\n",
    "        \n",
    "            elif (pl[e] > 0.5 and y[e] == 1):\n",
    "                j += 1\n",
    "        prop = (j/(j+k))\n",
    "        return prop\n",
    "    \n",
    "    print(average_precision_score(y_test,pl))\n",
    "    \n",
    "    return -acertos_prop(pl,y_test)"
   ]
  },
  {
   "cell_type": "code",
   "execution_count": 61,
   "metadata": {},
   "outputs": [],
   "source": [
    "# Definindo o espaço de variação dos hyperparametros\n",
    "space = [(1e-3,1e-1,'log-uniform'), #lr\n",
    "         (1,10),    # max_depth\n",
    "         (1,10),    #min_child_samples\n",
    "         (0.05,1.), #subsamples\n",
    "         (0.05,1.), #colsample_bytree\n",
    "         (100,1000)]#n_estimators "
   ]
  },
  {
   "cell_type": "code",
   "execution_count": null,
   "metadata": {},
   "outputs": [],
   "source": [
    "# Realizando o processo de busca pelos melhores hyperparametros\n",
    "res = forest_minimize(tune_lgbm,space,random_state=160745,n_random_starts=20,n_calls=50,verbose=1)"
   ]
  },
  {
   "cell_type": "code",
   "execution_count": 64,
   "metadata": {},
   "outputs": [
    {
     "data": {
      "text/plain": [
       "[0.0947253998586499, 7, 2, 0.5235636153223084, 0.6728679300083596, 747]"
      ]
     },
     "execution_count": 64,
     "metadata": {},
     "output_type": "execute_result"
    }
   ],
   "source": [
    "# Salvando os melhores hyperparametros numa lista\n",
    "best = res.x\n",
    "best = [0.0947253998586499, 7, 2, 0.5235636153223084, 0.6728679300083596, 747]"
   ]
  },
  {
   "cell_type": "code",
   "execution_count": 77,
   "metadata": {},
   "outputs": [
    {
     "name": "stdout",
     "output_type": "stream",
     "text": [
      "[LightGBM] [Warning] bagging_freq is set=1, subsample_freq=0 will be ignored. Current value: bagging_freq=1\n"
     ]
    },
    {
     "data": {
      "image/png": "[encoded data removed]",
      "text/plain": [
       "<Figure size 576x396 with 1 Axes>"
      ]
     },
     "metadata": {},
     "output_type": "display_data"
    },
    {
     "name": "stdout",
     "output_type": "stream",
     "text": [
      "LGBMClassifier \n",
      "AVG: 0.36359401441376926 \n",
      "ROC: 0.8537809328708842\n"
     ]
    }
   ],
   "source": [
    "# Criando um novo modelo utilizando os parametros encontrados \n",
    "lr = best[0]\n",
    "max_depth = best[1]\n",
    "min_child_samples = best[2]\n",
    "subsample = best[3]\n",
    "colsample_bytree = best[4]\n",
    "n_estimators = best[5]\n",
    "\n",
    "\n",
    "lgbm = ConfusionMatrix(LGBMClassifier(learning_rate=lr, num_leaves= 2**max_depth, max_depth=max_depth,\n",
    "                         min_child_samples=min_child_samples, subsample=subsample,\n",
    "                         colsample_bytree=colsample_bytree, bagging_freq = 1, n_estimators=n_estimators, \n",
    "                         random_state = 0, class_weight ='balanced',n_jobs=6))\n",
    "\n",
    "lgbm.fit(x_train,y_train)\n",
    "lgbm.score(x_test, y_test)\n",
    "lgbm.poof()\n",
    "\n",
    "p_lg = lgbm.predict_proba(x_test)[:,1]\n",
    "print(f'LGBMClassifier \\nAVG: {average_precision_score(y_test,p_lg)} \\nROC: {roc_auc_score(y_test,p_lg)}')"
   ]
  },
  {
   "cell_type": "code",
   "execution_count": 82,
   "metadata": {},
   "outputs": [
    {
     "name": "stdout",
     "output_type": "stream",
     "text": [
      "Optmized LGBM Classifier\n",
      "              precision    recall  f1-score   support\n",
      "\n",
      "           0       0.98      0.69      0.81    100241\n",
      "           1       0.29      0.90      0.44     14092\n",
      "\n",
      "    accuracy                           0.72    114333\n",
      "   macro avg       0.63      0.79      0.62    114333\n",
      "weighted avg       0.89      0.72      0.76    114333\n",
      "\n",
      "AUC: 0.8537809328708842 \n",
      "AVG: 0.36359401441376926 \n"
     ]
    }
   ],
   "source": [
    "predicts = lgbm.predict(x_test)\n",
    "\n",
    "print('Optmized LGBM Classifier') \n",
    "print(metrics.classification_report(y_test, predicts))\n",
    "\n",
    "p_lg = lgbm.predict_proba(x_test)[:,1]\n",
    "print(f'AUC: {roc_auc_score(y_test,p_lg)} \\nAVG: {average_precision_score(y_test,p_lg)} ')"
   ]
  },
  {
   "cell_type": "code",
   "execution_count": null,
   "metadata": {},
   "outputs": [],
   "source": []
  }
 ],
 "metadata": {
  "kernelspec": {
   "display_name": "Python 3",
   "language": "python",
   "name": "python3"
  },
  "language_info": {
   "codemirror_mode": {
    "name": "ipython",
    "version": 3
   },
   "file_extension": ".py",
   "mimetype": "text/x-python",
   "name": "python",
   "nbconvert_exporter": "python",
   "pygments_lexer": "ipython3",
   "version": "3.8.5"
  }
 },
 "nbformat": 4,
 "nbformat_minor": 4
}
