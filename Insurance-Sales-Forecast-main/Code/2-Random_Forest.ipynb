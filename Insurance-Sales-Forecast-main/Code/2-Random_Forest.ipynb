{
 "cells": [
  {
   "cell_type": "code",
   "execution_count": 8,
   "metadata": {},
   "outputs": [],
   "source": [
    "import pandas as pd\n",
    "import numpy as np\n",
    "\n",
    "\n",
    "from sklearn.model_selection import train_test_split\n",
    "from yellowbrick.classifier import ConfusionMatrix \n",
    "from sklearn.preprocessing import LabelEncoder\n",
    "from sklearn.metrics import average_precision_score , roc_auc_score\n",
    "from sklearn import metrics\n",
    "from skopt import forest_minimize\n",
    "\n",
    "from sklearn.ensemble import RandomForestClassifier"
   ]
  },
  {
   "cell_type": "code",
   "execution_count": 2,
   "metadata": {},
   "outputs": [
    {
     "data": {
      "text/html": [
       "<div>\n",
       "<style scoped>\n",
       "    .dataframe tbody tr th:only-of-type {\n",
       "        vertical-align: middle;\n",
       "    }\n",
       "\n",
       "    .dataframe tbody tr th {\n",
       "        vertical-align: top;\n",
       "    }\n",
       "\n",
       "    .dataframe thead th {\n",
       "        text-align: right;\n",
       "    }\n",
       "</style>\n",
       "<table border=\"1\" class=\"dataframe\">\n",
       "  <thead>\n",
       "    <tr style=\"text-align: right;\">\n",
       "      <th></th>\n",
       "      <th>Gender</th>\n",
       "      <th>Age</th>\n",
       "      <th>Driving_License</th>\n",
       "      <th>Region_Code</th>\n",
       "      <th>Previously_Insured</th>\n",
       "      <th>Vehicle_Age</th>\n",
       "      <th>Vehicle_Damage</th>\n",
       "      <th>Policy_Sales_Channel</th>\n",
       "    </tr>\n",
       "  </thead>\n",
       "  <tbody>\n",
       "    <tr>\n",
       "      <th>0</th>\n",
       "      <td>Male</td>\n",
       "      <td>44</td>\n",
       "      <td>1</td>\n",
       "      <td>28.0</td>\n",
       "      <td>0</td>\n",
       "      <td>&gt; 2 Years</td>\n",
       "      <td>Yes</td>\n",
       "      <td>26.0</td>\n",
       "    </tr>\n",
       "    <tr>\n",
       "      <th>1</th>\n",
       "      <td>Male</td>\n",
       "      <td>76</td>\n",
       "      <td>1</td>\n",
       "      <td>3.0</td>\n",
       "      <td>0</td>\n",
       "      <td>1-2 Year</td>\n",
       "      <td>No</td>\n",
       "      <td>26.0</td>\n",
       "    </tr>\n",
       "    <tr>\n",
       "      <th>2</th>\n",
       "      <td>Male</td>\n",
       "      <td>47</td>\n",
       "      <td>1</td>\n",
       "      <td>28.0</td>\n",
       "      <td>0</td>\n",
       "      <td>&gt; 2 Years</td>\n",
       "      <td>Yes</td>\n",
       "      <td>26.0</td>\n",
       "    </tr>\n",
       "  </tbody>\n",
       "</table>\n",
       "</div>"
      ],
      "text/plain": [
       "  Gender  Age  Driving_License  Region_Code  Previously_Insured Vehicle_Age  \\\n",
       "0   Male   44                1         28.0                   0   > 2 Years   \n",
       "1   Male   76                1          3.0                   0    1-2 Year   \n",
       "2   Male   47                1         28.0                   0   > 2 Years   \n",
       "\n",
       "  Vehicle_Damage  Policy_Sales_Channel  \n",
       "0            Yes                  26.0  \n",
       "1             No                  26.0  \n",
       "2            Yes                  26.0  "
      ]
     },
     "execution_count": 2,
     "metadata": {},
     "output_type": "execute_result"
    }
   ],
   "source": [
    "# Importando os dados\n",
    "df = pd.read_csv('train.csv').drop(['id','Vintage','Annual_Premium'],axis=1)\n",
    "y_data = df['Response'].values\n",
    "\n",
    "df = df.drop('Response',axis=1)\n",
    "df.head(3)\n"
   ]
  },
  {
   "cell_type": "code",
   "execution_count": 3,
   "metadata": {},
   "outputs": [],
   "source": [
    "# Transformando as variaveis\n",
    "lb1 = LabelEncoder()\n",
    "df['Gender']= lb1.fit_transform(df['Gender'])\n",
    "\n",
    "lb2 = LabelEncoder()\n",
    "df['Vehicle_Age']= lb2.fit_transform(df['Vehicle_Age'])\n",
    "\n",
    "lb3 = LabelEncoder()\n",
    "df['Vehicle_Damage']= lb3.fit_transform(df['Vehicle_Damage'])\n"
   ]
  },
  {
   "cell_type": "code",
   "execution_count": 4,
   "metadata": {},
   "outputs": [],
   "source": [
    "# Separando os dados\n",
    "x_train,x_test,y_train,y_test = train_test_split(df,\n",
    "                                                y_data,test_size=0.3,\n",
    "                                                random_state=0)"
   ]
  },
  {
   "cell_type": "code",
   "execution_count": 5,
   "metadata": {},
   "outputs": [
    {
     "data": {
      "image/png": "[encoded data removed]",
      "text/plain": [
       "<Figure size 576x396 with 1 Axes>"
      ]
     },
     "metadata": {},
     "output_type": "display_data"
    },
    {
     "data": {
      "text/plain": [
       "<AxesSubplot:title={'center':'RandomForestClassifier Confusion Matrix'}, xlabel='Predicted Class', ylabel='True Class'>"
      ]
     },
     "execution_count": 5,
     "metadata": {},
     "output_type": "execute_result"
    }
   ],
   "source": [
    "# Criando a random forest, variando em especial o parametros \"min_samples_leaf\"\n",
    "rd = ConfusionMatrix(RandomForestClassifier(n_estimators = 200,random_state=0,min_samples_leaf=5,class_weight = 'balanced', n_jobs=6))\n",
    "rd.fit(x_train,y_train)\n",
    "rd.score(x_test, y_test)\n",
    "rd.poof()"
   ]
  },
  {
   "cell_type": "code",
   "execution_count": 13,
   "metadata": {},
   "outputs": [
    {
     "name": "stdout",
     "output_type": "stream",
     "text": [
      " Random Forest \n",
      "              precision    recall  f1-score   support\n",
      "\n",
      "           0       0.97      0.72      0.82    100241\n",
      "           1       0.30      0.86      0.44     14092\n",
      "\n",
      "    accuracy                           0.73    114333\n",
      "   macro avg       0.64      0.79      0.63    114333\n",
      "weighted avg       0.89      0.73      0.78    114333\n",
      "\n",
      "AUC: 0.8497923998338571 \n",
      "AVG: 0.3543187226711151 \n"
     ]
    }
   ],
   "source": [
    "predicts = rd.predict(x_test)\n",
    "\n",
    "print(' Random Forest ')\n",
    "print(metrics.classification_report(y_test, predicts))\n",
    "\n",
    "p = rd.predict_proba(x_test)[:,1]\n",
    "print(f'AUC: {roc_auc_score(y_test,p)} \\nAVG: {average_precision_score(y_test,p)} ')\n"
   ]
  }
 ],
 "metadata": {
  "kernelspec": {
   "display_name": "Python 3",
   "language": "python",
   "name": "python3"
  },
  "language_info": {
   "codemirror_mode": {
    "name": "ipython",
    "version": 3
   },
   "file_extension": ".py",
   "mimetype": "text/x-python",
   "name": "python",
   "nbconvert_exporter": "python",
   "pygments_lexer": "ipython3",
   "version": "3.8.5"
  }
 },
 "nbformat": 4,
 "nbformat_minor": 4
}
