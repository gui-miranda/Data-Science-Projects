{
 "cells": [
  {
   "cell_type": "code",
   "execution_count": 218,
   "metadata": {},
   "outputs": [],
   "source": [
    "import pandas as pd\n",
    "import numpy as np\n",
    "\n",
    "from sklearn.model_selection import train_test_split\n",
    "from sklearn.preprocessing import LabelEncoder\n",
    "from yellowbrick.classifier import ConfusionMatrix \n",
    "from sklearn.metrics import average_precision_score , roc_auc_score\n",
    "from sklearn import metrics\n",
    "from sklearn.tree import DecisionTreeClassifier\n",
    "from lightgbm import LGBMClassifier\n"
   ]
  },
  {
   "cell_type": "code",
   "execution_count": 206,
   "metadata": {},
   "outputs": [
    {
     "data": {
      "text/html": [
       "<div>\n",
       "<style scoped>\n",
       "    .dataframe tbody tr th:only-of-type {\n",
       "        vertical-align: middle;\n",
       "    }\n",
       "\n",
       "    .dataframe tbody tr th {\n",
       "        vertical-align: top;\n",
       "    }\n",
       "\n",
       "    .dataframe thead th {\n",
       "        text-align: right;\n",
       "    }\n",
       "</style>\n",
       "<table border=\"1\" class=\"dataframe\">\n",
       "  <thead>\n",
       "    <tr style=\"text-align: right;\">\n",
       "      <th></th>\n",
       "      <th>Gender</th>\n",
       "      <th>Age</th>\n",
       "      <th>Driving_License</th>\n",
       "      <th>Region_Code</th>\n",
       "      <th>Previously_Insured</th>\n",
       "      <th>Vehicle_Age</th>\n",
       "      <th>Vehicle_Damage</th>\n",
       "      <th>Policy_Sales_Channel</th>\n",
       "    </tr>\n",
       "  </thead>\n",
       "  <tbody>\n",
       "    <tr>\n",
       "      <th>0</th>\n",
       "      <td>Male</td>\n",
       "      <td>44</td>\n",
       "      <td>1</td>\n",
       "      <td>28.0</td>\n",
       "      <td>0</td>\n",
       "      <td>&gt; 2 Years</td>\n",
       "      <td>Yes</td>\n",
       "      <td>26.0</td>\n",
       "    </tr>\n",
       "    <tr>\n",
       "      <th>1</th>\n",
       "      <td>Male</td>\n",
       "      <td>76</td>\n",
       "      <td>1</td>\n",
       "      <td>3.0</td>\n",
       "      <td>0</td>\n",
       "      <td>1-2 Year</td>\n",
       "      <td>No</td>\n",
       "      <td>26.0</td>\n",
       "    </tr>\n",
       "    <tr>\n",
       "      <th>2</th>\n",
       "      <td>Male</td>\n",
       "      <td>47</td>\n",
       "      <td>1</td>\n",
       "      <td>28.0</td>\n",
       "      <td>0</td>\n",
       "      <td>&gt; 2 Years</td>\n",
       "      <td>Yes</td>\n",
       "      <td>26.0</td>\n",
       "    </tr>\n",
       "  </tbody>\n",
       "</table>\n",
       "</div>"
      ],
      "text/plain": [
       "  Gender  Age  Driving_License  Region_Code  Previously_Insured Vehicle_Age  \\\n",
       "0   Male   44                1         28.0                   0   > 2 Years   \n",
       "1   Male   76                1          3.0                   0    1-2 Year   \n",
       "2   Male   47                1         28.0                   0   > 2 Years   \n",
       "\n",
       "  Vehicle_Damage  Policy_Sales_Channel  \n",
       "0            Yes                  26.0  \n",
       "1             No                  26.0  \n",
       "2            Yes                  26.0  "
      ]
     },
     "execution_count": 206,
     "metadata": {},
     "output_type": "execute_result"
    }
   ],
   "source": [
    "# Importando o conjunto de dados e removendo features indesejadas\n",
    "df = pd.read_csv('train.csv').drop(['id','Vintage','Annual_Premium'],axis=1)\n",
    "y_data = df['Response'].values\n",
    "\n",
    "\n",
    "df = df.drop('Response',axis=1)\n",
    "df.head(3)"
   ]
  },
  {
   "cell_type": "code",
   "execution_count": 207,
   "metadata": {},
   "outputs": [],
   "source": [
    "# Trasnformand as variveis categoricas para numericas\n",
    "lb1 = LabelEncoder()\n",
    "df['Gender']= lb1.fit_transform(df['Gender'])\n",
    "\n",
    "lb2 = LabelEncoder()\n",
    "df['Vehicle_Age']= lb2.fit_transform(df['Vehicle_Age'])\n",
    "\n",
    "lb3 = LabelEncoder()\n",
    "df['Vehicle_Damage']= lb3.fit_transform(df['Vehicle_Damage'])"
   ]
  },
  {
   "cell_type": "code",
   "execution_count": 208,
   "metadata": {},
   "outputs": [],
   "source": [
    "# Separando os dados entre treino e teste\n",
    "x_train,x_test,y_train,y_test = train_test_split(df,\n",
    "                                                y_data,test_size=0.3,\n",
    "                                                random_state=0)"
   ]
  },
  {
   "cell_type": "markdown",
   "metadata": {},
   "source": [
    "# Balanceamento dos dados"
   ]
  },
  {
   "cell_type": "code",
   "execution_count": 196,
   "metadata": {},
   "outputs": [],
   "source": [
    "# Separando dados com Reponse YES e dados com Response NOT\n",
    "x_train,x_test,y_train,y_test = train_test_split(df,\n",
    "                                                y_data,test_size=0.3,\n",
    "                                                random_state=0)\n",
    "\n",
    "x_train = x_train.reset_index().drop('index',axis=1)\n",
    "y_train = pd.DataFrame(y_train,columns=['y']).reset_index().drop('index',axis=1)\n",
    "df_train = pd.concat([x_train,y_train],axis=1)\n",
    "\n",
    "\n",
    "\n",
    "x_test = x_test.reset_index().drop('index',axis=1)\n",
    "y_test = pd.DataFrame(y_test,columns=['y']).reset_index().drop('index',axis=1)\n",
    "df_test = pd.concat([x_test,y_test],axis=1)\n",
    "df_test.to_csv('df_test.csv')\n"
   ]
  },
  {
   "cell_type": "code",
   "execution_count": 197,
   "metadata": {},
   "outputs": [
    {
     "data": {
      "text/plain": [
       "32618"
      ]
     },
     "execution_count": 197,
     "metadata": {},
     "output_type": "execute_result"
    }
   ],
   "source": [
    "# Mensurando a quantidade de dados envolvida\n",
    "(df_train['y'] == 1).sum()"
   ]
  },
  {
   "cell_type": "code",
   "execution_count": 204,
   "metadata": {},
   "outputs": [],
   "source": [
    "# Determinado a proporção de balanceamento do novo conjunto de dados\n",
    "k = 1  # Proporção entre dados YES e NOT\n",
    "df_yes = df_train[df_train['y'] == 1].reset_index().drop('index',axis=1)\n",
    "\n",
    "df_not = df_train.loc[df_train['y'] == 0][0:int(k*len(df_yes))]\n",
    "\n",
    "ndf_train = pd.concat([df_yes,df_not]).sample(frac=1,random_state=42)\n",
    "ndf_train.to_csv('df_train.csv')"
   ]
  },
  {
   "cell_type": "code",
   "execution_count": null,
   "metadata": {},
   "outputs": [],
   "source": []
  }
 ],
 "metadata": {
  "kernelspec": {
   "display_name": "Python 3",
   "language": "python",
   "name": "python3"
  },
  "language_info": {
   "codemirror_mode": {
    "name": "ipython",
    "version": 3
   },
   "file_extension": ".py",
   "mimetype": "text/x-python",
   "name": "python",
   "nbconvert_exporter": "python",
   "pygments_lexer": "ipython3",
   "version": "3.8.5"
  }
 },
 "nbformat": 4,
 "nbformat_minor": 4
}
