{
 "cells": [
  {
   "cell_type": "code",
   "execution_count": 1,
   "metadata": {},
   "outputs": [],
   "source": [
    "import pandas as pd\n",
    "import numpy as np\n",
    "\n",
    "from sklearn.linear_model import LogisticRegression\n",
    "\n",
    "from sklearn.model_selection import train_test_split\n",
    "from sklearn.feature_extraction.text import TfidfVectorizer \n",
    "from sklearn.pipeline import make_pipeline\n",
    "from sklearn.preprocessing import MaxAbsScaler,StandardScaler\n",
    "from scipy.sparse import hstack,csr_matrix\n",
    "from yellowbrick.classifier import ConfusionMatrix\n",
    "from sklearn.metrics import average_precision_score , roc_auc_score"
   ]
  },
  {
   "cell_type": "code",
   "execution_count": 2,
   "metadata": {},
   "outputs": [],
   "source": [
    "df = pd.read_csv('raw_data_wlabels.csv').drop('Unnamed: 0',axis=1).dropna()\n",
    "\n",
    "y = df['y']\n",
    "xdata = df.drop('y',axis=1)\n",
    "\n",
    "data_train,data_val,ytrain,yval = train_test_split(xdata,\n",
    "                                                    y,\n",
    "                                                    test_size = 0.5,\n",
    "                                                    random_state=0)"
   ]
  },
  {
   "cell_type": "code",
   "execution_count": 3,
   "metadata": {},
   "outputs": [],
   "source": [
    "# Vetorizando as features de texto\n",
    "title_train = data_train['titles']\n",
    "title_val = data_val['titles']\n",
    "\n",
    "title_vec = TfidfVectorizer(min_df = 2,ngram_range=(1,1))\n",
    "\n",
    "title_bow_train = title_vec.fit_transform(title_train)\n",
    "title_bow_val = title_vec.transform(title_val)\n",
    "\n",
    "autor_train = data_train['author']\n",
    "autor_val = data_val['author']\n",
    "\n",
    "autor_vec = TfidfVectorizer(min_df = 2,ngram_range=(1,1))\n",
    "\n",
    "autor_bow_train = title_vec.fit_transform(autor_train)\n",
    "autor_bow_val = title_vec.transform(autor_val)"
   ]
  },
  {
   "cell_type": "code",
   "execution_count": 4,
   "metadata": {},
   "outputs": [],
   "source": [
    "mask_train = data_train.drop(['titles','author'],axis=1)\n",
    "mask_val = data_val.drop(['titles','author'],axis=1)\n",
    "\n",
    "xtrain_wvec = hstack([title_bow_train,autor_bow_train,mask_train])\n",
    "xval_wvec = hstack([title_bow_val,autor_bow_val,mask_val])"
   ]
  },
  {
   "cell_type": "code",
   "execution_count": 5,
   "metadata": {},
   "outputs": [],
   "source": [
    "# Convertendo as features vetorizadas para matrizes csr\n",
    "xtrain_wvec2 = csr_matrix(xtrain_wvec)\n",
    "xval_wvec2 = csr_matrix(xval_wvec)"
   ]
  },
  {
   "cell_type": "code",
   "execution_count": 6,
   "metadata": {},
   "outputs": [],
   "source": [
    "# Normalizando os dados\n",
    "scaler = MaxAbsScaler()\n",
    "\n",
    "xtrain_wvec2 = scaler.fit_transform(xtrain_wvec2)\n",
    "xval_wvec2 = scaler.transform(xval_wvec2)"
   ]
  },
  {
   "cell_type": "markdown",
   "metadata": {},
   "source": [
    "# Regressão Logística"
   ]
  },
  {
   "cell_type": "code",
   "execution_count": 7,
   "metadata": {},
   "outputs": [
    {
     "data": {
      "image/png": "[encoded data removed]",
      "text/plain": [
       "<Figure size 576x396 with 1 Axes>"
      ]
     },
     "metadata": {},
     "output_type": "display_data"
    },
    {
     "data": {
      "text/plain": [
       "<AxesSubplot:title={'center':'LogisticRegression Confusion Matrix'}, xlabel='Predicted Class', ylabel='True Class'>"
      ]
     },
     "execution_count": 7,
     "metadata": {},
     "output_type": "execute_result"
    }
   ],
   "source": [
    "lr = ConfusionMatrix( LogisticRegression(C=30,n_jobs=6,random_state=0))\n",
    "lr.fit(xtrain_wvec2,ytrain)\n",
    "lr.score(xval_wvec2,yval)\n",
    "lr.poof()"
   ]
  },
  {
   "cell_type": "code",
   "execution_count": 8,
   "metadata": {},
   "outputs": [],
   "source": [
    "p = lr.predict_proba(xval_wvec2)[:,1]"
   ]
  },
  {
   "cell_type": "code",
   "execution_count": 11,
   "metadata": {},
   "outputs": [
    {
     "name": "stdout",
     "output_type": "stream",
     "text": [
      "Logistical Regression Metrics \n",
      "AVG : 0.5169900249550464 \n",
      "ROC : 0.7117976857926757\n"
     ]
    }
   ],
   "source": [
    "print(f'Logistical Regression Metrics \\nAVG : {average_precision_score(yval,p)} \\nROC : {roc_auc_score(yval,p)}')"
   ]
  },
  {
   "cell_type": "code",
   "execution_count": null,
   "metadata": {},
   "outputs": [],
   "source": []
  },
  {
   "cell_type": "code",
   "execution_count": null,
   "metadata": {},
   "outputs": [],
   "source": []
  }
 ],
 "metadata": {
  "kernelspec": {
   "display_name": "Python 3",
   "language": "python",
   "name": "python3"
  },
  "language_info": {
   "codemirror_mode": {
    "name": "ipython",
    "version": 3
   },
   "file_extension": ".py",
   "mimetype": "text/x-python",
   "name": "python",
   "nbconvert_exporter": "python",
   "pygments_lexer": "ipython3",
   "version": "3.8.5"
  }
 },
 "nbformat": 4,
 "nbformat_minor": 4
}
