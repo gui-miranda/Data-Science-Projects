{
 "cells": [
  {
   "cell_type": "code",
   "execution_count": 5,
   "metadata": {},
   "outputs": [],
   "source": [
    "import pandas as pd\n",
    "import numpy as np\n",
    "\n",
    "from lightgbm import LGBMClassifier\n",
    "\n",
    "from sklearn.model_selection import train_test_split\n",
    "from sklearn.feature_extraction.text import TfidfVectorizer \n",
    "from scipy.sparse import hstack\n",
    "from yellowbrick.classifier import ConfusionMatrix\n",
    "from sklearn.metrics import average_precision_score , roc_auc_score"
   ]
  },
  {
   "cell_type": "code",
   "execution_count": 6,
   "metadata": {},
   "outputs": [
    {
     "data": {
      "text/plain": [
       "340"
      ]
     },
     "execution_count": 6,
     "metadata": {},
     "output_type": "execute_result"
    }
   ],
   "source": [
    "df = pd.read_csv('raw_data_wlabels.csv').drop('Unnamed: 0',axis=1).dropna()\n",
    "(df['y']==1).sum()"
   ]
  },
  {
   "cell_type": "code",
   "execution_count": 7,
   "metadata": {},
   "outputs": [],
   "source": [
    "df = pd.read_csv('raw_data_wlabels.csv').drop('Unnamed: 0',axis=1).dropna()\n",
    "\n",
    "y = df['y']\n",
    "xdata = df.drop('y',axis=1)\n",
    "\n",
    "data_train,data_val,ytrain,yval = train_test_split(xdata,\n",
    "                                                    y,\n",
    "                                                    test_size = 0.5,\n",
    "                                                    random_state=0)"
   ]
  },
  {
   "cell_type": "code",
   "execution_count": 8,
   "metadata": {},
   "outputs": [],
   "source": [
    "# Vetorizando os titulos\n",
    "title_train = data_train['titles']\n",
    "title_val = data_val['titles']\n",
    "\n",
    "title_vec = TfidfVectorizer(min_df = 2,ngram_range=(1,1))\n",
    "\n",
    "title_bow_train = title_vec.fit_transform(title_train)\n",
    "title_bow_val = title_vec.transform(title_val)\n",
    "\n",
    "autor_train = data_train['author']\n",
    "autor_val = data_val['author']\n",
    "\n",
    "autor_vec = TfidfVectorizer(min_df = 2,ngram_range=(1,2))\n",
    "\n",
    "autor_bow_train = autor_vec.fit_transform(autor_train)\n",
    "autor_bow_val = autor_vec.transform(autor_val)"
   ]
  },
  {
   "cell_type": "code",
   "execution_count": 9,
   "metadata": {},
   "outputs": [],
   "source": [
    "mask_train = data_train.drop(['titles','author'],axis=1)\n",
    "mask_val = data_val.drop(['titles','author'],axis=1)\n",
    "\n",
    "xtrain_wvec = hstack([title_bow_train,autor_bow_train,mask_train])\n",
    "xval_wvec = hstack([title_bow_val,autor_bow_val,mask_val])"
   ]
  },
  {
   "cell_type": "markdown",
   "metadata": {},
   "source": [
    "# LGBM"
   ]
  },
  {
   "cell_type": "code",
   "execution_count": 10,
   "metadata": {},
   "outputs": [
    {
     "name": "stderr",
     "output_type": "stream",
     "text": [
      "C:\\Users\\Guilherme Miranda\\anaconda3\\lib\\site-packages\\lightgbm\\basic.py:739: UserWarning: Converting data to scipy sparse matrix.\n",
      "  _log_warning('Converting data to scipy sparse matrix.')\n"
     ]
    },
    {
     "data": {
      "image/png": "[encoded data removed]",
      "text/plain": [
       "<Figure size 576x396 with 1 Axes>"
      ]
     },
     "metadata": {},
     "output_type": "display_data"
    },
    {
     "data": {
      "text/plain": [
       "<AxesSubplot:title={'center':'LGBMClassifier Confusion Matrix'}, xlabel='Predicted Class', ylabel='True Class'>"
      ]
     },
     "execution_count": 10,
     "metadata": {},
     "output_type": "execute_result"
    }
   ],
   "source": [
    "lgbm = ConfusionMatrix(LGBMClassifier(random_state = 0,class_weight ='balanced',n_jobs=6))\n",
    "lgbm = lgbm.fit(xtrain_wvec,ytrain)\n",
    "lgbm.score(xval_wvec, yval)\n",
    "lgbm.poof()"
   ]
  },
  {
   "cell_type": "code",
   "execution_count": 11,
   "metadata": {},
   "outputs": [
    {
     "name": "stdout",
     "output_type": "stream",
     "text": [
      "404 \"0\" e 166 \"1\" \n"
     ]
    }
   ],
   "source": [
    "p = lgbm.predict_proba(xval_wvec)[:,1]\n",
    "print(f'{(yval==0).sum()} \"0\" e {(yval==1).sum()} \"1\" ')"
   ]
  },
  {
   "cell_type": "code",
   "execution_count": 12,
   "metadata": {},
   "outputs": [
    {
     "name": "stdout",
     "output_type": "stream",
     "text": [
      "0/0 : 69.05940594059405%\n",
      "1/1 : 38.55421686746988%\n"
     ]
    }
   ],
   "source": [
    "k = 279   #0/0\n",
    "j = 64   #1/1\n",
    "\n",
    "print(f'0/0 : {(k/((yval==0).sum()) )*100}%')\n",
    "print(f'1/1 : {(j/((yval==1).sum()))*100}%')"
   ]
  },
  {
   "cell_type": "code",
   "execution_count": 13,
   "metadata": {},
   "outputs": [
    {
     "name": "stdout",
     "output_type": "stream",
     "text": [
      "AVG : 0.3434728669544407 \n",
      "ROC : 0.5557303471310986\n"
     ]
    }
   ],
   "source": [
    "print(f'AVG : {average_precision_score(yval,p)} \\nROC : {roc_auc_score(yval,p)}')"
   ]
  },
  {
   "cell_type": "markdown",
   "metadata": {},
   "source": [
    "# Bayseian Optmization"
   ]
  },
  {
   "cell_type": "code",
   "execution_count": 14,
   "metadata": {},
   "outputs": [],
   "source": [
    "from skopt import forest_minimize"
   ]
  },
  {
   "cell_type": "code",
   "execution_count": 15,
   "metadata": {},
   "outputs": [],
   "source": [
    "def tune_lgbm(params):\n",
    "    print(params)\n",
    "    lr = params[0]\n",
    "    max_depth = params[1]\n",
    "    min_child_samples = params[2]\n",
    "    subsample = params[3]\n",
    "    colsample_bytree = params[4]\n",
    "    n_estimators = params[5]\n",
    "    min_df = params[6]\n",
    "    ngram_range = (1,params[7])\n",
    "    \n",
    "    title_vec = TfidfVectorizer(min_df = min_df,ngram_range=ngram_range)\n",
    "    title_bow_train = title_vec.fit_transform(title_train)\n",
    "    title_bow_val = title_vec.transform(title_val)\n",
    "    \n",
    "    autor_vec = TfidfVectorizer(min_df = min_df,ngram_range=ngram_range)\n",
    "    autor_bow_train = title_vec.fit_transform(autor_train)\n",
    "    autor_bow_val = title_vec.transform(autor_val)\n",
    "    \n",
    "    \n",
    "    xtrain_wvec = hstack([title_bow_train,autor_bow_train,mask_train])\n",
    "    xval_wvec = hstack([title_bow_val,autor_bow_val,mask_val])\n",
    "    \n",
    "    mdl = LGBMClassifier(learning_rate=lr, num_leaves= 2**max_depth, max_depth=max_depth,\n",
    "                         min_child_samples=min_child_samples, subsample=subsample,\n",
    "                         colsample_bytree=colsample_bytree, bagging_freq = 1, n_estimators=n_estimators, \n",
    "                         random_state = 0, class_weight ='balanced',n_jobs=6)\n",
    "    mdl.fit(xtrain_wvec,ytrain)\n",
    "    \n",
    "    p = mdl.predict_proba(xval_wvec)[:,1]\n",
    "    \n",
    "    print(roc_auc_score(yval,p))\n",
    "    \n",
    "    return -average_precision_score(yval,p)"
   ]
  },
  {
   "cell_type": "code",
   "execution_count": 16,
   "metadata": {},
   "outputs": [],
   "source": [
    "space = [(1e-3,1e-1,'log-uniform'), #lr\n",
    "         (1,10),    # max_depth\n",
    "         (1,10),    #min_child_samples\n",
    "         (0.05,1.), #subsamples\n",
    "         (0.05,1.), #colsample_bytree\n",
    "         (100,1000),#n_estimators\n",
    "         (1,5),     #min_df\n",
    "         (1,5)      #ngram_range \n",
    "        ] "
   ]
  },
  {
   "cell_type": "code",
   "execution_count": 17,
   "metadata": {},
   "outputs": [
    {
     "name": "stdout",
     "output_type": "stream",
     "text": [
      "Iteration No: 1 started. Evaluating function at random point.\n",
      "[0.009944912110647982, 5, 1, 0.4677107511929402, 0.49263223036174764, 272, 3, 1]\n",
      "[LightGBM] [Warning] bagging_freq is set=1, subsample_freq=0 will be ignored. Current value: bagging_freq=1\n"
     ]
    },
    {
     "name": "stderr",
     "output_type": "stream",
     "text": [
      "C:\\Users\\Guilherme Miranda\\anaconda3\\lib\\site-packages\\lightgbm\\basic.py:739: UserWarning: Converting data to scipy sparse matrix.\n",
      "  _log_warning('Converting data to scipy sparse matrix.')\n"
     ]
    },
    {
     "name": "stdout",
     "output_type": "stream",
     "text": [
      "0.6546731480376953\n",
      "Iteration No: 1 ended. Evaluation done at random point.\n",
      "Time taken: 0.4899\n",
      "Function value obtained: -0.4690\n",
      "Current minimum: -0.4690\n",
      "Iteration No: 2 started. Evaluating function at random point.\n",
      "[0.053887464791860025, 1, 6, 0.20280403175305034, 0.5270541127738826, 450, 4, 4]\n",
      "[LightGBM] [Warning] bagging_freq is set=1, subsample_freq=0 will be ignored. Current value: bagging_freq=1\n"
     ]
    },
    {
     "name": "stderr",
     "output_type": "stream",
     "text": [
      "C:\\Users\\Guilherme Miranda\\anaconda3\\lib\\site-packages\\lightgbm\\basic.py:739: UserWarning: Converting data to scipy sparse matrix.\n",
      "  _log_warning('Converting data to scipy sparse matrix.')\n"
     ]
    },
    {
     "name": "stdout",
     "output_type": "stream",
     "text": [
      "0.6047208636526303\n",
      "Iteration No: 2 ended. Evaluation done at random point.\n",
      "Time taken: 0.2220\n",
      "Function value obtained: -0.4064\n",
      "Current minimum: -0.4690\n",
      "Iteration No: 3 started. Evaluating function at random point.\n",
      "[0.052788841014904574, 9, 8, 0.8057204751674488, 0.12087803699306042, 348, 1, 2]\n",
      "[LightGBM] [Warning] bagging_freq is set=1, subsample_freq=0 will be ignored. Current value: bagging_freq=1\n"
     ]
    },
    {
     "name": "stderr",
     "output_type": "stream",
     "text": [
      "C:\\Users\\Guilherme Miranda\\anaconda3\\lib\\site-packages\\lightgbm\\basic.py:739: UserWarning: Converting data to scipy sparse matrix.\n",
      "  _log_warning('Converting data to scipy sparse matrix.')\n",
      "C:\\Users\\Guilherme Miranda\\anaconda3\\lib\\site-packages\\lightgbm\\basic.py:739: UserWarning: Converting data to scipy sparse matrix.\n",
      "  _log_warning('Converting data to scipy sparse matrix.')\n"
     ]
    },
    {
     "name": "stdout",
     "output_type": "stream",
     "text": [
      "0.613988130740785\n",
      "Iteration No: 3 ended. Evaluation done at random point.\n",
      "Time taken: 0.3370\n",
      "Function value obtained: -0.3982\n",
      "Current minimum: -0.4690\n",
      "Iteration No: 4 started. Evaluating function at random point.\n",
      "[0.002581171760283021, 2, 10, 0.6501625354578521, 0.10208277342628153, 491, 3, 5]\n",
      "[LightGBM] [Warning] bagging_freq is set=1, subsample_freq=0 will be ignored. Current value: bagging_freq=1\n",
      "0.5801845997852797\n",
      "Iteration No: 4 ended. Evaluation done at random point.\n",
      "Time taken: 0.1940\n",
      "Function value obtained: -0.4077\n",
      "Current minimum: -0.4690\n",
      "Iteration No: 5 started. Evaluating function at random point.\n",
      "[0.004758611359340044, 6, 1, 0.31239887914485304, 0.078212872072331, 414, 2, 5]\n",
      "[LightGBM] [Warning] bagging_freq is set=1, subsample_freq=0 will be ignored. Current value: bagging_freq=1\n"
     ]
    },
    {
     "name": "stderr",
     "output_type": "stream",
     "text": [
      "C:\\Users\\Guilherme Miranda\\anaconda3\\lib\\site-packages\\lightgbm\\basic.py:739: UserWarning: Converting data to scipy sparse matrix.\n",
      "  _log_warning('Converting data to scipy sparse matrix.')\n"
     ]
    },
    {
     "name": "stdout",
     "output_type": "stream",
     "text": [
      "0.6632172253369915\n",
      "Iteration No: 5 ended. Evaluation done at random point.\n",
      "Time taken: 0.9570\n",
      "Function value obtained: -0.4854\n",
      "Current minimum: -0.4854\n",
      "Iteration No: 6 started. Evaluating function at random point.\n",
      "[0.007990318740531337, 10, 5, 0.22076129610800188, 0.8242914803205513, 760, 3, 2]\n",
      "[LightGBM] [Warning] bagging_freq is set=1, subsample_freq=0 will be ignored. Current value: bagging_freq=1\n"
     ]
    },
    {
     "name": "stderr",
     "output_type": "stream",
     "text": [
      "C:\\Users\\Guilherme Miranda\\anaconda3\\lib\\site-packages\\lightgbm\\basic.py:739: UserWarning: Converting data to scipy sparse matrix.\n",
      "  _log_warning('Converting data to scipy sparse matrix.')\n"
     ]
    },
    {
     "name": "stdout",
     "output_type": "stream",
     "text": [
      "0.6087692353572707\n",
      "Iteration No: 6 ended. Evaluation done at random point.\n",
      "Time taken: 0.9830\n",
      "Function value obtained: -0.4033\n",
      "Current minimum: -0.4854\n",
      "Iteration No: 7 started. Evaluating function at random point.\n",
      "[0.06867197721040089, 7, 7, 0.811247998237159, 0.6963955932783014, 683, 3, 4]\n",
      "[LightGBM] [Warning] bagging_freq is set=1, subsample_freq=0 will be ignored. Current value: bagging_freq=1\n"
     ]
    },
    {
     "name": "stderr",
     "output_type": "stream",
     "text": [
      "C:\\Users\\Guilherme Miranda\\anaconda3\\lib\\site-packages\\lightgbm\\basic.py:739: UserWarning: Converting data to scipy sparse matrix.\n",
      "  _log_warning('Converting data to scipy sparse matrix.')\n"
     ]
    },
    {
     "name": "stdout",
     "output_type": "stream",
     "text": [
      "0.5792079207920793\n",
      "Iteration No: 7 ended. Evaluation done at random point.\n",
      "Time taken: 0.6040\n",
      "Function value obtained: -0.3566\n",
      "Current minimum: -0.4854\n",
      "Iteration No: 8 started. Evaluating function at random point.\n",
      "[0.006698746827135841, 3, 10, 0.21661986152103802, 0.5158440564749048, 697, 1, 2]\n",
      "[LightGBM] [Warning] bagging_freq is set=1, subsample_freq=0 will be ignored. Current value: bagging_freq=1\n"
     ]
    },
    {
     "name": "stderr",
     "output_type": "stream",
     "text": [
      "C:\\Users\\Guilherme Miranda\\anaconda3\\lib\\site-packages\\lightgbm\\basic.py:739: UserWarning: Converting data to scipy sparse matrix.\n",
      "  _log_warning('Converting data to scipy sparse matrix.')\n"
     ]
    },
    {
     "name": "stdout",
     "output_type": "stream",
     "text": [
      "0.5508693188595968\n",
      "Iteration No: 8 ended. Evaluation done at random point.\n",
      "Time taken: 0.3340\n",
      "Function value obtained: -0.3794\n",
      "Current minimum: -0.4854\n",
      "Iteration No: 9 started. Evaluating function at random point.\n",
      "[0.009930612420765688, 9, 7, 0.944578432980404, 0.6756555673858103, 601, 3, 3]\n",
      "[LightGBM] [Warning] bagging_freq is set=1, subsample_freq=0 will be ignored. Current value: bagging_freq=1\n"
     ]
    },
    {
     "name": "stderr",
     "output_type": "stream",
     "text": [
      "C:\\Users\\Guilherme Miranda\\anaconda3\\lib\\site-packages\\lightgbm\\basic.py:739: UserWarning: Converting data to scipy sparse matrix.\n",
      "  _log_warning('Converting data to scipy sparse matrix.')\n",
      "C:\\Users\\Guilherme Miranda\\anaconda3\\lib\\site-packages\\lightgbm\\basic.py:739: UserWarning: Converting data to scipy sparse matrix.\n",
      "  _log_warning('Converting data to scipy sparse matrix.')\n"
     ]
    },
    {
     "name": "stdout",
     "output_type": "stream",
     "text": [
      "0.6207354169151854\n",
      "Iteration No: 9 ended. Evaluation done at random point.\n",
      "Time taken: 0.5785\n",
      "Function value obtained: -0.4226\n",
      "Current minimum: -0.4854\n",
      "Iteration No: 10 started. Evaluating function at random point.\n",
      "[0.0013481754050030364, 2, 1, 0.6323096758146287, 0.5750267866863973, 213, 5, 3]\n",
      "[LightGBM] [Warning] bagging_freq is set=1, subsample_freq=0 will be ignored. Current value: bagging_freq=1\n",
      "0.6083442681617559\n",
      "Iteration No: 10 ended. Evaluation done at random point.\n",
      "Time taken: 0.1410\n",
      "Function value obtained: -0.4276\n",
      "Current minimum: -0.4854\n",
      "Iteration No: 11 started. Evaluating function at random point.\n",
      "[0.00659463294657322, 9, 4, 0.6163520855275999, 0.3478164905580535, 172, 5, 2]\n",
      "[LightGBM] [Warning] bagging_freq is set=1, subsample_freq=0 will be ignored. Current value: bagging_freq=1\n"
     ]
    },
    {
     "name": "stderr",
     "output_type": "stream",
     "text": [
      "C:\\Users\\Guilherme Miranda\\anaconda3\\lib\\site-packages\\lightgbm\\basic.py:739: UserWarning: Converting data to scipy sparse matrix.\n",
      "  _log_warning('Converting data to scipy sparse matrix.')\n"
     ]
    },
    {
     "name": "stdout",
     "output_type": "stream",
     "text": [
      "0.6415737206250747\n",
      "Iteration No: 11 ended. Evaluation done at random point.\n",
      "Time taken: 0.2510\n",
      "Function value obtained: -0.4517\n",
      "Current minimum: -0.4854\n",
      "Iteration No: 12 started. Evaluating function at random point.\n",
      "[0.05173196942311445, 5, 8, 0.5409573219011281, 0.47699927439410444, 424, 3, 4]\n",
      "[LightGBM] [Warning] bagging_freq is set=1, subsample_freq=0 will be ignored. Current value: bagging_freq=1\n"
     ]
    },
    {
     "name": "stderr",
     "output_type": "stream",
     "text": [
      "C:\\Users\\Guilherme Miranda\\anaconda3\\lib\\site-packages\\lightgbm\\basic.py:739: UserWarning: Converting data to scipy sparse matrix.\n",
      "  _log_warning('Converting data to scipy sparse matrix.')\n"
     ]
    },
    {
     "name": "stdout",
     "output_type": "stream",
     "text": [
      "0.5917854586663486\n",
      "Iteration No: 12 ended. Evaluation done at random point.\n",
      "Time taken: 0.3010\n",
      "Function value obtained: -0.3810\n",
      "Current minimum: -0.4854\n",
      "Iteration No: 13 started. Evaluating function at random point.\n",
      "[0.024268297340996742, 8, 4, 0.27293941891193163, 0.08212463889621416, 274, 2, 1]\n",
      "[LightGBM] [Warning] bagging_freq is set=1, subsample_freq=0 will be ignored. Current value: bagging_freq=1\n"
     ]
    },
    {
     "name": "stderr",
     "output_type": "stream",
     "text": [
      "C:\\Users\\Guilherme Miranda\\anaconda3\\lib\\site-packages\\lightgbm\\basic.py:739: UserWarning: Converting data to scipy sparse matrix.\n",
      "  _log_warning('Converting data to scipy sparse matrix.')\n",
      "C:\\Users\\Guilherme Miranda\\anaconda3\\lib\\site-packages\\lightgbm\\basic.py:739: UserWarning: Converting data to scipy sparse matrix.\n",
      "  _log_warning('Converting data to scipy sparse matrix.')\n"
     ]
    },
    {
     "name": "stdout",
     "output_type": "stream",
     "text": [
      "0.6296970058451629\n",
      "Iteration No: 13 ended. Evaluation done at random point.\n",
      "Time taken: 0.2220\n",
      "Function value obtained: -0.4162\n",
      "Current minimum: -0.4854\n",
      "Iteration No: 14 started. Evaluating function at random point.\n",
      "[0.005545743892663144, 6, 8, 0.15621607594420134, 0.3235590455448425, 259, 4, 5]\n",
      "[LightGBM] [Warning] bagging_freq is set=1, subsample_freq=0 will be ignored. Current value: bagging_freq=1\n",
      "0.5600843969939163\n",
      "Iteration No: 14 ended. Evaluation done at random point.\n",
      "Time taken: 0.1950\n",
      "Function value obtained: -0.3624\n",
      "Current minimum: -0.4854\n",
      "Iteration No: 15 started. Evaluating function at random point.\n",
      "[0.00977659787376616, 7, 1, 0.32861324392209, 0.6502675785918055, 967, 3, 2]\n",
      "[LightGBM] [Warning] bagging_freq is set=1, subsample_freq=0 will be ignored. Current value: bagging_freq=1\n"
     ]
    },
    {
     "name": "stderr",
     "output_type": "stream",
     "text": [
      "C:\\Users\\Guilherme Miranda\\anaconda3\\lib\\site-packages\\lightgbm\\basic.py:739: UserWarning: Converting data to scipy sparse matrix.\n",
      "  _log_warning('Converting data to scipy sparse matrix.')\n"
     ]
    },
    {
     "name": "stdout",
     "output_type": "stream",
     "text": [
      "0.642624955266611\n",
      "Iteration No: 15 ended. Evaluation done at random point.\n",
      "Time taken: 1.7250\n",
      "Function value obtained: -0.4488\n",
      "Current minimum: -0.4854\n",
      "Iteration No: 16 started. Evaluating function at random point.\n",
      "[0.0015500670574312128, 2, 8, 0.675985625740636, 0.1702980548721404, 158, 1, 3]\n",
      "[LightGBM] [Warning] bagging_freq is set=1, subsample_freq=0 will be ignored. Current value: bagging_freq=1\n"
     ]
    },
    {
     "name": "stderr",
     "output_type": "stream",
     "text": [
      "C:\\Users\\Guilherme Miranda\\anaconda3\\lib\\site-packages\\lightgbm\\basic.py:739: UserWarning: Converting data to scipy sparse matrix.\n",
      "  _log_warning('Converting data to scipy sparse matrix.')\n"
     ]
    },
    {
     "name": "stdout",
     "output_type": "stream",
     "text": [
      "0.5818173684838364\n",
      "Iteration No: 16 ended. Evaluation done at random point.\n",
      "Time taken: 0.1910\n",
      "Function value obtained: -0.3969\n",
      "Current minimum: -0.4854\n",
      "Iteration No: 17 started. Evaluating function at random point.\n",
      "[0.06974785519438091, 9, 6, 0.8694055797102738, 0.5176070955424907, 695, 3, 4]\n",
      "[LightGBM] [Warning] bagging_freq is set=1, subsample_freq=0 will be ignored. Current value: bagging_freq=1\n"
     ]
    },
    {
     "name": "stderr",
     "output_type": "stream",
     "text": [
      "C:\\Users\\Guilherme Miranda\\anaconda3\\lib\\site-packages\\lightgbm\\basic.py:739: UserWarning: Converting data to scipy sparse matrix.\n",
      "  _log_warning('Converting data to scipy sparse matrix.')\n"
     ]
    },
    {
     "name": "stdout",
     "output_type": "stream",
     "text": [
      "0.587722175832041\n",
      "Iteration No: 17 ended. Evaluation done at random point.\n",
      "Time taken: 1.0710\n",
      "Function value obtained: -0.3637\n",
      "Current minimum: -0.4854\n",
      "Iteration No: 18 started. Evaluating function at random point.\n",
      "[0.00782259176202122, 2, 10, 0.8744623478499286, 0.8022374103184922, 612, 1, 5]\n",
      "[LightGBM] [Warning] bagging_freq is set=1, subsample_freq=0 will be ignored. Current value: bagging_freq=1\n"
     ]
    },
    {
     "name": "stderr",
     "output_type": "stream",
     "text": [
      "C:\\Users\\Guilherme Miranda\\anaconda3\\lib\\site-packages\\lightgbm\\basic.py:739: UserWarning: Converting data to scipy sparse matrix.\n",
      "  _log_warning('Converting data to scipy sparse matrix.')\n"
     ]
    },
    {
     "name": "stdout",
     "output_type": "stream",
     "text": [
      "0.5872151974233568\n",
      "Iteration No: 18 ended. Evaluation done at random point.\n",
      "Time taken: 0.2660\n",
      "Function value obtained: -0.3794\n",
      "Current minimum: -0.4854\n",
      "Iteration No: 19 started. Evaluating function at random point.\n",
      "[0.0024919296041103494, 6, 8, 0.9946871410890346, 0.233506774227642, 370, 5, 1]\n",
      "[LightGBM] [Warning] bagging_freq is set=1, subsample_freq=0 will be ignored. Current value: bagging_freq=1\n"
     ]
    },
    {
     "name": "stderr",
     "output_type": "stream",
     "text": [
      "C:\\Users\\Guilherme Miranda\\anaconda3\\lib\\site-packages\\lightgbm\\basic.py:739: UserWarning: Converting data to scipy sparse matrix.\n",
      "  _log_warning('Converting data to scipy sparse matrix.')\n"
     ]
    },
    {
     "name": "stdout",
     "output_type": "stream",
     "text": [
      "0.6275050697840869\n",
      "Iteration No: 19 ended. Evaluation done at random point.\n",
      "Time taken: 0.2420\n",
      "Function value obtained: -0.4462\n",
      "Current minimum: -0.4854\n",
      "Iteration No: 20 started. Evaluating function at random point.\n",
      "[0.004955402904180171, 6, 1, 0.13021457554920057, 0.6158804906347372, 615, 3, 4]\n",
      "[LightGBM] [Warning] bagging_freq is set=1, subsample_freq=0 will be ignored. Current value: bagging_freq=1\n"
     ]
    },
    {
     "name": "stderr",
     "output_type": "stream",
     "text": [
      "C:\\Users\\Guilherme Miranda\\anaconda3\\lib\\site-packages\\lightgbm\\basic.py:739: UserWarning: Converting data to scipy sparse matrix.\n",
      "  _log_warning('Converting data to scipy sparse matrix.')\n"
     ]
    },
    {
     "name": "stdout",
     "output_type": "stream",
     "text": [
      "0.6489472742454968\n",
      "Iteration No: 20 ended. Evaluation done at random point.\n",
      "Time taken: 1.3980\n",
      "Function value obtained: -0.4511\n",
      "Current minimum: -0.4854\n",
      "Iteration No: 21 started. Searching for the next optimal point.\n",
      "[0.0027588181372899044, 6, 2, 0.5389103665128818, 0.26060765375211153, 795, 4, 4]\n",
      "[LightGBM] [Warning] bagging_freq is set=1, subsample_freq=0 will be ignored. Current value: bagging_freq=1\n"
     ]
    },
    {
     "name": "stderr",
     "output_type": "stream",
     "text": [
      "C:\\Users\\Guilherme Miranda\\anaconda3\\lib\\site-packages\\lightgbm\\basic.py:739: UserWarning: Converting data to scipy sparse matrix.\n",
      "  _log_warning('Converting data to scipy sparse matrix.')\n"
     ]
    },
    {
     "name": "stdout",
     "output_type": "stream",
     "text": [
      "0.6778301324108313\n",
      "Iteration No: 21 ended. Search finished for the next optimal point.\n",
      "Time taken: 1.2855\n",
      "Function value obtained: -0.5029\n",
      "Current minimum: -0.5029\n",
      "Iteration No: 22 started. Searching for the next optimal point.\n",
      "[0.027928151964700804, 2, 2, 0.9006435596570321, 0.20331170392694486, 899, 4, 5]\n",
      "[LightGBM] [Warning] bagging_freq is set=1, subsample_freq=0 will be ignored. Current value: bagging_freq=1\n"
     ]
    },
    {
     "name": "stderr",
     "output_type": "stream",
     "text": [
      "C:\\Users\\Guilherme Miranda\\anaconda3\\lib\\site-packages\\lightgbm\\basic.py:739: UserWarning: Converting data to scipy sparse matrix.\n",
      "  _log_warning('Converting data to scipy sparse matrix.')\n"
     ]
    },
    {
     "name": "stdout",
     "output_type": "stream",
     "text": [
      "0.6915856495288084\n",
      "Iteration No: 22 ended. Search finished for the next optimal point.\n",
      "Time taken: 0.6890\n",
      "Function value obtained: -0.5250\n",
      "Current minimum: -0.5250\n",
      "Iteration No: 23 started. Searching for the next optimal point.\n",
      "[0.07881540887744758, 3, 2, 0.5713118916536011, 0.20722928685017578, 907, 1, 4]\n",
      "[LightGBM] [Warning] bagging_freq is set=1, subsample_freq=0 will be ignored. Current value: bagging_freq=1\n"
     ]
    },
    {
     "name": "stderr",
     "output_type": "stream",
     "text": [
      "C:\\Users\\Guilherme Miranda\\anaconda3\\lib\\site-packages\\lightgbm\\basic.py:739: UserWarning: Converting data to scipy sparse matrix.\n",
      "  _log_warning('Converting data to scipy sparse matrix.')\n"
     ]
    },
    {
     "name": "stdout",
     "output_type": "stream",
     "text": [
      "0.6592583204103543\n",
      "Iteration No: 23 ended. Search finished for the next optimal point.\n",
      "Time taken: 1.0350\n",
      "Function value obtained: -0.4566\n",
      "Current minimum: -0.5250\n",
      "Iteration No: 24 started. Searching for the next optimal point.\n",
      "[0.05151553156603058, 9, 2, 0.3506126851355745, 0.24395535433829652, 817, 1, 4]\n",
      "[LightGBM] [Warning] bagging_freq is set=1, subsample_freq=0 will be ignored. Current value: bagging_freq=1\n"
     ]
    },
    {
     "name": "stderr",
     "output_type": "stream",
     "text": [
      "C:\\Users\\Guilherme Miranda\\anaconda3\\lib\\site-packages\\lightgbm\\basic.py:739: UserWarning: Converting data to scipy sparse matrix.\n",
      "  _log_warning('Converting data to scipy sparse matrix.')\n"
     ]
    },
    {
     "name": "stdout",
     "output_type": "stream",
     "text": [
      "0.641968865561255\n",
      "Iteration No: 24 ended. Search finished for the next optimal point.\n",
      "Time taken: 2.1490\n",
      "Function value obtained: -0.4400\n",
      "Current minimum: -0.5250\n",
      "Iteration No: 25 started. Searching for the next optimal point.\n",
      "[0.054057617355222805, 3, 3, 0.6192406361094862, 0.16887916144420234, 967, 4, 4]\n",
      "[LightGBM] [Warning] bagging_freq is set=1, subsample_freq=0 will be ignored. Current value: bagging_freq=1\n"
     ]
    },
    {
     "name": "stderr",
     "output_type": "stream",
     "text": [
      "C:\\Users\\Guilherme Miranda\\anaconda3\\lib\\site-packages\\lightgbm\\basic.py:739: UserWarning: Converting data to scipy sparse matrix.\n",
      "  _log_warning('Converting data to scipy sparse matrix.')\n"
     ]
    },
    {
     "name": "stdout",
     "output_type": "stream",
     "text": [
      "0.6718507694142908\n",
      "Iteration No: 25 ended. Search finished for the next optimal point.\n",
      "Time taken: 0.7380\n",
      "Function value obtained: -0.4888\n",
      "Current minimum: -0.5250\n",
      "Iteration No: 26 started. Searching for the next optimal point.\n",
      "[0.023939148992552034, 5, 3, 0.566158808612134, 0.2906354506276169, 949, 4, 5]\n",
      "[LightGBM] [Warning] bagging_freq is set=1, subsample_freq=0 will be ignored. Current value: bagging_freq=1\n"
     ]
    },
    {
     "name": "stderr",
     "output_type": "stream",
     "text": [
      "C:\\Users\\Guilherme Miranda\\anaconda3\\lib\\site-packages\\lightgbm\\basic.py:739: UserWarning: Converting data to scipy sparse matrix.\n",
      "  _log_warning('Converting data to scipy sparse matrix.')\n"
     ]
    },
    {
     "name": "stdout",
     "output_type": "stream",
     "text": [
      "0.6674370750328045\n",
      "Iteration No: 26 ended. Search finished for the next optimal point.\n",
      "Time taken: 0.9800\n",
      "Function value obtained: -0.4855\n",
      "Current minimum: -0.5250\n",
      "Iteration No: 27 started. Searching for the next optimal point.\n",
      "[0.0013822164367389843, 2, 4, 0.5029891073819075, 0.2362701931331762, 833, 4, 5]\n",
      "[LightGBM] [Warning] bagging_freq is set=1, subsample_freq=0 will be ignored. Current value: bagging_freq=1\n"
     ]
    },
    {
     "name": "stderr",
     "output_type": "stream",
     "text": [
      "C:\\Users\\Guilherme Miranda\\anaconda3\\lib\\site-packages\\lightgbm\\basic.py:739: UserWarning: Converting data to scipy sparse matrix.\n",
      "  _log_warning('Converting data to scipy sparse matrix.')\n"
     ]
    },
    {
     "name": "stdout",
     "output_type": "stream",
     "text": [
      "0.6424534772754383\n",
      "Iteration No: 27 ended. Search finished for the next optimal point.\n",
      "Time taken: 0.6600\n",
      "Function value obtained: -0.4603\n",
      "Current minimum: -0.5250\n",
      "Iteration No: 28 started. Searching for the next optimal point.\n",
      "[0.022205546182536597, 2, 3, 0.4174872691743113, 0.09811340806608981, 197, 4, 5]\n",
      "[LightGBM] [Warning] bagging_freq is set=1, subsample_freq=0 will be ignored. Current value: bagging_freq=1\n",
      "0.6526079565787903\n"
     ]
    },
    {
     "name": "stderr",
     "output_type": "stream",
     "text": [
      "C:\\Users\\Guilherme Miranda\\anaconda3\\lib\\site-packages\\lightgbm\\basic.py:739: UserWarning: Converting data to scipy sparse matrix.\n",
      "  _log_warning('Converting data to scipy sparse matrix.')\n"
     ]
    },
    {
     "name": "stdout",
     "output_type": "stream",
     "text": [
      "Iteration No: 28 ended. Search finished for the next optimal point.\n",
      "Time taken: 0.4950\n",
      "Function value obtained: -0.4608\n",
      "Current minimum: -0.5250\n",
      "Iteration No: 29 started. Searching for the next optimal point.\n",
      "[0.0014732257146294141, 1, 3, 0.9619028069197244, 0.49786125209724885, 985, 4, 5]\n",
      "[LightGBM] [Warning] bagging_freq is set=1, subsample_freq=0 will be ignored. Current value: bagging_freq=1\n"
     ]
    },
    {
     "name": "stderr",
     "output_type": "stream",
     "text": [
      "C:\\Users\\Guilherme Miranda\\anaconda3\\lib\\site-packages\\lightgbm\\basic.py:739: UserWarning: Converting data to scipy sparse matrix.\n",
      "  _log_warning('Converting data to scipy sparse matrix.')\n"
     ]
    },
    {
     "name": "stdout",
     "output_type": "stream",
     "text": [
      "0.6213244065370391\n",
      "Iteration No: 29 ended. Search finished for the next optimal point.\n",
      "Time taken: 0.6620\n",
      "Function value obtained: -0.4214\n",
      "Current minimum: -0.5250\n",
      "Iteration No: 30 started. Searching for the next optimal point.\n",
      "[0.03310883520216798, 2, 2, 0.6921239515300378, 0.16395004371182015, 740, 5, 5]\n",
      "[LightGBM] [Warning] bagging_freq is set=1, subsample_freq=0 will be ignored. Current value: bagging_freq=1\n"
     ]
    },
    {
     "name": "stderr",
     "output_type": "stream",
     "text": [
      "C:\\Users\\Guilherme Miranda\\anaconda3\\lib\\site-packages\\lightgbm\\basic.py:739: UserWarning: Converting data to scipy sparse matrix.\n",
      "  _log_warning('Converting data to scipy sparse matrix.')\n"
     ]
    },
    {
     "name": "stdout",
     "output_type": "stream",
     "text": [
      "0.6505353095550519\n",
      "Iteration No: 30 ended. Search finished for the next optimal point.\n",
      "Time taken: 0.6010\n",
      "Function value obtained: -0.4515\n",
      "Current minimum: -0.5250\n",
      "Iteration No: 31 started. Searching for the next optimal point.\n",
      "[0.0017606961005459585, 10, 2, 0.7976031342753723, 0.23056440691282926, 906, 4, 5]\n",
      "[LightGBM] [Warning] bagging_freq is set=1, subsample_freq=0 will be ignored. Current value: bagging_freq=1\n"
     ]
    },
    {
     "name": "stderr",
     "output_type": "stream",
     "text": [
      "C:\\Users\\Guilherme Miranda\\anaconda3\\lib\\site-packages\\lightgbm\\basic.py:739: UserWarning: Converting data to scipy sparse matrix.\n",
      "  _log_warning('Converting data to scipy sparse matrix.')\n"
     ]
    },
    {
     "name": "stdout",
     "output_type": "stream",
     "text": [
      "0.6951121316950972\n",
      "Iteration No: 31 ended. Search finished for the next optimal point.\n",
      "Time taken: 1.8870\n",
      "Function value obtained: -0.5297\n",
      "Current minimum: -0.5297\n",
      "Iteration No: 32 started. Searching for the next optimal point.\n",
      "[0.005261611458710857, 5, 2, 0.8319160591010824, 0.3591200240141973, 999, 4, 5]\n",
      "[LightGBM] [Warning] bagging_freq is set=1, subsample_freq=0 will be ignored. Current value: bagging_freq=1\n"
     ]
    },
    {
     "name": "stderr",
     "output_type": "stream",
     "text": [
      "C:\\Users\\Guilherme Miranda\\anaconda3\\lib\\site-packages\\lightgbm\\basic.py:739: UserWarning: Converting data to scipy sparse matrix.\n",
      "  _log_warning('Converting data to scipy sparse matrix.')\n"
     ]
    },
    {
     "name": "stdout",
     "output_type": "stream",
     "text": [
      "0.6837051174997018\n",
      "Iteration No: 32 ended. Search finished for the next optimal point.\n",
      "Time taken: 1.1700\n",
      "Function value obtained: -0.5171\n",
      "Current minimum: -0.5297\n",
      "Iteration No: 33 started. Searching for the next optimal point.\n",
      "[0.0028449988339630927, 9, 2, 0.9181584734559524, 0.9762479422651797, 890, 4, 5]\n",
      "[LightGBM] [Warning] bagging_freq is set=1, subsample_freq=0 will be ignored. Current value: bagging_freq=1\n"
     ]
    },
    {
     "name": "stderr",
     "output_type": "stream",
     "text": [
      "C:\\Users\\Guilherme Miranda\\anaconda3\\lib\\site-packages\\lightgbm\\basic.py:739: UserWarning: Converting data to scipy sparse matrix.\n",
      "  _log_warning('Converting data to scipy sparse matrix.')\n"
     ]
    },
    {
     "name": "stdout",
     "output_type": "stream",
     "text": [
      "0.6706131456519145\n",
      "Iteration No: 33 ended. Search finished for the next optimal point.\n",
      "Time taken: 1.7537\n",
      "Function value obtained: -0.4888\n",
      "Current minimum: -0.5297\n",
      "Iteration No: 34 started. Searching for the next optimal point.\n",
      "[0.015843247390718167, 10, 2, 0.8501489616502615, 0.17217549304023022, 879, 4, 4]\n",
      "[LightGBM] [Warning] bagging_freq is set=1, subsample_freq=0 will be ignored. Current value: bagging_freq=1\n"
     ]
    },
    {
     "name": "stderr",
     "output_type": "stream",
     "text": [
      "C:\\Users\\Guilherme Miranda\\anaconda3\\lib\\site-packages\\lightgbm\\basic.py:739: UserWarning: Converting data to scipy sparse matrix.\n",
      "  _log_warning('Converting data to scipy sparse matrix.')\n"
     ]
    },
    {
     "name": "stdout",
     "output_type": "stream",
     "text": [
      "0.6994960038172492\n",
      "Iteration No: 34 ended. Search finished for the next optimal point.\n",
      "Time taken: 1.6635\n",
      "Function value obtained: -0.5273\n",
      "Current minimum: -0.5297\n",
      "Iteration No: 35 started. Searching for the next optimal point.\n",
      "[0.02427462374080208, 9, 2, 0.8206277654056401, 0.6131824191523177, 950, 4, 5]\n",
      "[LightGBM] [Warning] bagging_freq is set=1, subsample_freq=0 will be ignored. Current value: bagging_freq=1\n"
     ]
    },
    {
     "name": "stderr",
     "output_type": "stream",
     "text": [
      "C:\\Users\\Guilherme Miranda\\anaconda3\\lib\\site-packages\\lightgbm\\basic.py:739: UserWarning: Converting data to scipy sparse matrix.\n",
      "  _log_warning('Converting data to scipy sparse matrix.')\n"
     ]
    },
    {
     "name": "stdout",
     "output_type": "stream",
     "text": [
      "0.6692562328522008\n",
      "Iteration No: 35 ended. Search finished for the next optimal point.\n",
      "Time taken: 1.7339\n",
      "Function value obtained: -0.4769\n",
      "Current minimum: -0.5297\n",
      "Iteration No: 36 started. Searching for the next optimal point.\n",
      "[0.00296483494867953, 5, 2, 0.9948778494455206, 0.23047481026128364, 978, 4, 3]\n",
      "[LightGBM] [Warning] bagging_freq is set=1, subsample_freq=0 will be ignored. Current value: bagging_freq=1\n"
     ]
    },
    {
     "name": "stderr",
     "output_type": "stream",
     "text": [
      "C:\\Users\\Guilherme Miranda\\anaconda3\\lib\\site-packages\\lightgbm\\basic.py:739: UserWarning: Converting data to scipy sparse matrix.\n",
      "  _log_warning('Converting data to scipy sparse matrix.')\n"
     ]
    },
    {
     "name": "stdout",
     "output_type": "stream",
     "text": [
      "0.6784191220326852\n",
      "Iteration No: 36 ended. Search finished for the next optimal point.\n",
      "Time taken: 1.1392\n",
      "Function value obtained: -0.5090\n",
      "Current minimum: -0.5297\n",
      "Iteration No: 37 started. Searching for the next optimal point.\n",
      "[0.011752683005960626, 6, 2, 0.9603313637169426, 0.24696367975579864, 907, 5, 1]\n",
      "[LightGBM] [Warning] bagging_freq is set=1, subsample_freq=0 will be ignored. Current value: bagging_freq=1\n"
     ]
    },
    {
     "name": "stderr",
     "output_type": "stream",
     "text": [
      "C:\\Users\\Guilherme Miranda\\anaconda3\\lib\\site-packages\\lightgbm\\basic.py:739: UserWarning: Converting data to scipy sparse matrix.\n",
      "  _log_warning('Converting data to scipy sparse matrix.')\n"
     ]
    },
    {
     "name": "stdout",
     "output_type": "stream",
     "text": [
      "0.6601157103662174\n",
      "Iteration No: 37 ended. Search finished for the next optimal point.\n",
      "Time taken: 0.9900\n",
      "Function value obtained: -0.4534\n",
      "Current minimum: -0.5297\n",
      "Iteration No: 38 started. Searching for the next optimal point.\n",
      "[0.0023629031512393595, 2, 2, 0.8637318332285895, 0.15266883099044037, 865, 4, 5]\n",
      "[LightGBM] [Warning] bagging_freq is set=1, subsample_freq=0 will be ignored. Current value: bagging_freq=1\n"
     ]
    },
    {
     "name": "stderr",
     "output_type": "stream",
     "text": [
      "C:\\Users\\Guilherme Miranda\\anaconda3\\lib\\site-packages\\lightgbm\\basic.py:739: UserWarning: Converting data to scipy sparse matrix.\n",
      "  _log_warning('Converting data to scipy sparse matrix.')\n"
     ]
    },
    {
     "name": "stdout",
     "output_type": "stream",
     "text": [
      "0.6607718000715734\n",
      "Iteration No: 38 ended. Search finished for the next optimal point.\n",
      "Time taken: 0.6780\n",
      "Function value obtained: -0.4844\n",
      "Current minimum: -0.5297\n",
      "Iteration No: 39 started. Searching for the next optimal point.\n",
      "[0.0020106602453669286, 8, 2, 0.9969721646471306, 0.1509947299037583, 652, 4, 4]\n",
      "[LightGBM] [Warning] bagging_freq is set=1, subsample_freq=0 will be ignored. Current value: bagging_freq=1\n"
     ]
    },
    {
     "name": "stderr",
     "output_type": "stream",
     "text": [
      "C:\\Users\\Guilherme Miranda\\anaconda3\\lib\\site-packages\\lightgbm\\basic.py:739: UserWarning: Converting data to scipy sparse matrix.\n",
      "  _log_warning('Converting data to scipy sparse matrix.')\n"
     ]
    },
    {
     "name": "stdout",
     "output_type": "stream",
     "text": [
      "0.6824898604318262\n",
      "Iteration No: 39 ended. Search finished for the next optimal point.\n",
      "Time taken: 1.1650\n",
      "Function value obtained: -0.5101\n",
      "Current minimum: -0.5297\n",
      "Iteration No: 40 started. Searching for the next optimal point.\n",
      "[0.006474110088919687, 8, 5, 0.7832718196264455, 0.2786334711379838, 955, 4, 4]\n",
      "[LightGBM] [Warning] bagging_freq is set=1, subsample_freq=0 will be ignored. Current value: bagging_freq=1\n"
     ]
    },
    {
     "name": "stderr",
     "output_type": "stream",
     "text": [
      "C:\\Users\\Guilherme Miranda\\anaconda3\\lib\\site-packages\\lightgbm\\basic.py:739: UserWarning: Converting data to scipy sparse matrix.\n",
      "  _log_warning('Converting data to scipy sparse matrix.')\n"
     ]
    },
    {
     "name": "stdout",
     "output_type": "stream",
     "text": [
      "0.6613160563044257\n",
      "Iteration No: 40 ended. Search finished for the next optimal point.\n",
      "Time taken: 1.1040\n",
      "Function value obtained: -0.4676\n",
      "Current minimum: -0.5297\n",
      "Iteration No: 41 started. Searching for the next optimal point.\n",
      "[0.06262226233533313, 10, 2, 0.9949120520728693, 0.21198321186254715, 532, 4, 5]\n",
      "[LightGBM] [Warning] bagging_freq is set=1, subsample_freq=0 will be ignored. Current value: bagging_freq=1\n"
     ]
    },
    {
     "name": "stderr",
     "output_type": "stream",
     "text": [
      "C:\\Users\\Guilherme Miranda\\anaconda3\\lib\\site-packages\\lightgbm\\basic.py:739: UserWarning: Converting data to scipy sparse matrix.\n",
      "  _log_warning('Converting data to scipy sparse matrix.')\n"
     ]
    },
    {
     "name": "stdout",
     "output_type": "stream",
     "text": [
      "0.6873136108791603\n",
      "Iteration No: 41 ended. Search finished for the next optimal point.\n",
      "Time taken: 1.1950\n",
      "Function value obtained: -0.4976\n",
      "Current minimum: -0.5297\n",
      "Iteration No: 42 started. Searching for the next optimal point.\n",
      "[0.02207860947758099, 10, 2, 0.88890893356089, 0.2541982325520642, 613, 4, 4]\n",
      "[LightGBM] [Warning] bagging_freq is set=1, subsample_freq=0 will be ignored. Current value: bagging_freq=1\n"
     ]
    },
    {
     "name": "stderr",
     "output_type": "stream",
     "text": [
      "C:\\Users\\Guilherme Miranda\\anaconda3\\lib\\site-packages\\lightgbm\\basic.py:739: UserWarning: Converting data to scipy sparse matrix.\n",
      "  _log_warning('Converting data to scipy sparse matrix.')\n"
     ]
    },
    {
     "name": "stdout",
     "output_type": "stream",
     "text": [
      "0.6915781939639747\n",
      "Iteration No: 42 ended. Search finished for the next optimal point.\n",
      "Time taken: 1.3570\n",
      "Function value obtained: -0.5261\n",
      "Current minimum: -0.5297\n",
      "Iteration No: 43 started. Searching for the next optimal point.\n",
      "[0.008273523782211271, 10, 2, 0.9664465525959738, 0.2350882092252728, 889, 3, 4]\n",
      "[LightGBM] [Warning] bagging_freq is set=1, subsample_freq=0 will be ignored. Current value: bagging_freq=1\n"
     ]
    },
    {
     "name": "stderr",
     "output_type": "stream",
     "text": [
      "C:\\Users\\Guilherme Miranda\\anaconda3\\lib\\site-packages\\lightgbm\\basic.py:739: UserWarning: Converting data to scipy sparse matrix.\n",
      "  _log_warning('Converting data to scipy sparse matrix.')\n"
     ]
    },
    {
     "name": "stdout",
     "output_type": "stream",
     "text": [
      "0.6890507574853871\n",
      "Iteration No: 43 ended. Search finished for the next optimal point.\n",
      "Time taken: 2.0300\n",
      "Function value obtained: -0.5087\n",
      "Current minimum: -0.5297\n",
      "Iteration No: 44 started. Searching for the next optimal point.\n",
      "[0.01648228728265271, 10, 2, 0.843808346754445, 0.19012097275423878, 854, 1, 4]\n",
      "[LightGBM] [Warning] bagging_freq is set=1, subsample_freq=0 will be ignored. Current value: bagging_freq=1\n"
     ]
    },
    {
     "name": "stderr",
     "output_type": "stream",
     "text": [
      "C:\\Users\\Guilherme Miranda\\anaconda3\\lib\\site-packages\\lightgbm\\basic.py:739: UserWarning: Converting data to scipy sparse matrix.\n",
      "  _log_warning('Converting data to scipy sparse matrix.')\n"
     ]
    },
    {
     "name": "stdout",
     "output_type": "stream",
     "text": [
      "0.6715898246451151\n",
      "Iteration No: 44 ended. Search finished for the next optimal point.\n",
      "Time taken: 2.2860\n",
      "Function value obtained: -0.4901\n",
      "Current minimum: -0.5297\n",
      "Iteration No: 45 started. Searching for the next optimal point.\n",
      "[0.06712306784509056, 10, 2, 0.9414877247247568, 0.24452366735329462, 450, 3, 3]\n",
      "[LightGBM] [Warning] bagging_freq is set=1, subsample_freq=0 will be ignored. Current value: bagging_freq=1\n"
     ]
    },
    {
     "name": "stderr",
     "output_type": "stream",
     "text": [
      "C:\\Users\\Guilherme Miranda\\anaconda3\\lib\\site-packages\\lightgbm\\basic.py:739: UserWarning: Converting data to scipy sparse matrix.\n",
      "  _log_warning('Converting data to scipy sparse matrix.')\n"
     ]
    },
    {
     "name": "stdout",
     "output_type": "stream",
     "text": [
      "0.6879175116306813\n",
      "Iteration No: 45 ended. Search finished for the next optimal point.\n",
      "Time taken: 1.1750\n",
      "Function value obtained: -0.4903\n",
      "Current minimum: -0.5297\n",
      "Iteration No: 46 started. Searching for the next optimal point.\n",
      "[0.06211190286304743, 10, 3, 0.8748377973836894, 0.28246007109001164, 993, 2, 4]\n",
      "[LightGBM] [Warning] bagging_freq is set=1, subsample_freq=0 will be ignored. Current value: bagging_freq=1\n"
     ]
    },
    {
     "name": "stderr",
     "output_type": "stream",
     "text": [
      "C:\\Users\\Guilherme Miranda\\anaconda3\\lib\\site-packages\\lightgbm\\basic.py:739: UserWarning: Converting data to scipy sparse matrix.\n",
      "  _log_warning('Converting data to scipy sparse matrix.')\n"
     ]
    },
    {
     "name": "stdout",
     "output_type": "stream",
     "text": [
      "0.6430872002862937\n",
      "Iteration No: 46 ended. Search finished for the next optimal point.\n",
      "Time taken: 2.2760\n",
      "Function value obtained: -0.4365\n",
      "Current minimum: -0.5297\n",
      "Iteration No: 47 started. Searching for the next optimal point.\n",
      "[0.001824808925633433, 10, 2, 0.644949642105115, 0.3215095949661906, 502, 4, 2]\n",
      "[LightGBM] [Warning] bagging_freq is set=1, subsample_freq=0 will be ignored. Current value: bagging_freq=1\n"
     ]
    },
    {
     "name": "stderr",
     "output_type": "stream",
     "text": [
      "C:\\Users\\Guilherme Miranda\\anaconda3\\lib\\site-packages\\lightgbm\\basic.py:739: UserWarning: Converting data to scipy sparse matrix.\n",
      "  _log_warning('Converting data to scipy sparse matrix.')\n"
     ]
    },
    {
     "name": "stdout",
     "output_type": "stream",
     "text": [
      "0.6917869497793153\n",
      "Iteration No: 47 ended. Search finished for the next optimal point.\n",
      "Time taken: 1.2160\n",
      "Function value obtained: -0.5160\n",
      "Current minimum: -0.5297\n",
      "Iteration No: 48 started. Searching for the next optimal point.\n",
      "[0.0078109534346673636, 10, 2, 0.7767694359667894, 0.3657377142034356, 281, 4, 4]\n",
      "[LightGBM] [Warning] bagging_freq is set=1, subsample_freq=0 will be ignored. Current value: bagging_freq=1\n"
     ]
    },
    {
     "name": "stderr",
     "output_type": "stream",
     "text": [
      "C:\\Users\\Guilherme Miranda\\anaconda3\\lib\\site-packages\\lightgbm\\basic.py:739: UserWarning: Converting data to scipy sparse matrix.\n",
      "  _log_warning('Converting data to scipy sparse matrix.')\n"
     ]
    },
    {
     "name": "stdout",
     "output_type": "stream",
     "text": [
      "0.6835858284623644\n",
      "Iteration No: 48 ended. Search finished for the next optimal point.\n",
      "Time taken: 0.9660\n",
      "Function value obtained: -0.5184\n",
      "Current minimum: -0.5297\n",
      "Iteration No: 49 started. Searching for the next optimal point.\n",
      "[0.0014789710262601851, 10, 2, 0.07990166589545716, 0.1524242578463617, 284, 4, 2]\n",
      "[LightGBM] [Warning] bagging_freq is set=1, subsample_freq=0 will be ignored. Current value: bagging_freq=1\n"
     ]
    },
    {
     "name": "stderr",
     "output_type": "stream",
     "text": [
      "C:\\Users\\Guilherme Miranda\\anaconda3\\lib\\site-packages\\lightgbm\\basic.py:739: UserWarning: Converting data to scipy sparse matrix.\n",
      "  _log_warning('Converting data to scipy sparse matrix.')\n"
     ]
    },
    {
     "name": "stdout",
     "output_type": "stream",
     "text": [
      "0.6140999642132887\n",
      "Iteration No: 49 ended. Search finished for the next optimal point.\n",
      "Time taken: 0.6450\n",
      "Function value obtained: -0.4516\n",
      "Current minimum: -0.5297\n",
      "Iteration No: 50 started. Searching for the next optimal point.\n",
      "[0.007984816606870932, 10, 2, 0.7333750492226216, 0.6186658494084182, 251, 4, 4]\n",
      "[LightGBM] [Warning] bagging_freq is set=1, subsample_freq=0 will be ignored. Current value: bagging_freq=1\n"
     ]
    },
    {
     "name": "stderr",
     "output_type": "stream",
     "text": [
      "C:\\Users\\Guilherme Miranda\\anaconda3\\lib\\site-packages\\lightgbm\\basic.py:739: UserWarning: Converting data to scipy sparse matrix.\n",
      "  _log_warning('Converting data to scipy sparse matrix.')\n"
     ]
    },
    {
     "name": "stdout",
     "output_type": "stream",
     "text": [
      "0.6746093284027197\n",
      "Iteration No: 50 ended. Search finished for the next optimal point.\n",
      "Time taken: 0.9270\n",
      "Function value obtained: -0.5021\n",
      "Current minimum: -0.5297\n"
     ]
    }
   ],
   "source": [
    "res = forest_minimize(tune_lgbm,space,random_state=160745,n_random_starts=20,n_calls=50,verbose=1)"
   ]
  },
  {
   "cell_type": "code",
   "execution_count": 18,
   "metadata": {},
   "outputs": [
    {
     "data": {
      "text/plain": [
       "[0.0017606961005459585,\n",
       " 10,\n",
       " 2,\n",
       " 0.7976031342753723,\n",
       " 0.23056440691282926,\n",
       " 906,\n",
       " 4,\n",
       " 5]"
      ]
     },
     "execution_count": 18,
     "metadata": {},
     "output_type": "execute_result"
    }
   ],
   "source": [
    "best = res.x\n",
    "best"
   ]
  },
  {
   "cell_type": "markdown",
   "metadata": {},
   "source": [
    "# LGBM Optimized"
   ]
  },
  {
   "cell_type": "code",
   "execution_count": 19,
   "metadata": {},
   "outputs": [],
   "source": [
    "title_vec = TfidfVectorizer(min_df = best[6] ,ngram_range = (1,best[7]))\n",
    "title_bow_train = title_vec.fit_transform(title_train)\n",
    "title_bow_val = title_vec.transform(title_val)\n",
    "\n",
    "autor_vec = TfidfVectorizer(min_df = best[6] ,ngram_range = (1,best[7]))\n",
    "autor_bow_train = autor_vec.fit_transform(autor_train)\n",
    "autor_bow_val = autor_vec.transform(autor_val)\n",
    "    \n",
    "    \n",
    "xtrain_wvec = hstack([title_bow_train,autor_bow_train,mask_train])\n",
    "xval_wvec = hstack([title_bow_val,autor_bow_val,mask_val])"
   ]
  },
  {
   "cell_type": "code",
   "execution_count": 20,
   "metadata": {},
   "outputs": [],
   "source": [
    "LGBM =  ConfusionMatrix(LGBMClassifier(learning_rate=best[0], num_leaves= 2 ** best[1], max_depth=best[1],\n",
    "                         min_child_samples=best[2], subsample=best[3],\n",
    "                         colsample_bytree=best[4], bagging_freq = 1, n_estimators=best[5], \n",
    "                         random_state = 0, class_weight ='balanced',n_jobs=6))"
   ]
  },
  {
   "cell_type": "code",
   "execution_count": 21,
   "metadata": {},
   "outputs": [
    {
     "name": "stdout",
     "output_type": "stream",
     "text": [
      "[LightGBM] [Warning] bagging_freq is set=1, subsample_freq=0 will be ignored. Current value: bagging_freq=1\n"
     ]
    },
    {
     "name": "stderr",
     "output_type": "stream",
     "text": [
      "C:\\Users\\Guilherme Miranda\\anaconda3\\lib\\site-packages\\lightgbm\\basic.py:739: UserWarning: Converting data to scipy sparse matrix.\n",
      "  _log_warning('Converting data to scipy sparse matrix.')\n"
     ]
    },
    {
     "data": {
      "image/png": "[encoded data removed]",
      "text/plain": [
       "<Figure size 576x396 with 1 Axes>"
      ]
     },
     "metadata": {},
     "output_type": "display_data"
    },
    {
     "data": {
      "text/plain": [
       "<AxesSubplot:title={'center':'LGBMClassifier Confusion Matrix'}, xlabel='Predicted Class', ylabel='True Class'>"
      ]
     },
     "execution_count": 21,
     "metadata": {},
     "output_type": "execute_result"
    }
   ],
   "source": [
    "LGBM = LGBM.fit(xtrain_wvec,ytrain)\n",
    "LGBM.score(xval_wvec, yval)\n",
    "LGBM.poof()"
   ]
  },
  {
   "cell_type": "code",
   "execution_count": 22,
   "metadata": {},
   "outputs": [],
   "source": [
    "p = LGBM.predict_proba(xval_wvec)[:,1]"
   ]
  },
  {
   "cell_type": "code",
   "execution_count": 23,
   "metadata": {},
   "outputs": [
    {
     "name": "stdout",
     "output_type": "stream",
     "text": [
      "0/0 : 83.16831683168317%\n",
      "1/1 : 41.566265060240966%\n"
     ]
    }
   ],
   "source": [
    "k = 336   #0/0\n",
    "j = 69   #1/1\n",
    "\n",
    "print(f'0/0 : {(k/((yval==0).sum()) )*100}%')\n",
    "print(f'1/1 : {(j/((yval==1).sum()))*100}%')"
   ]
  },
  {
   "cell_type": "code",
   "execution_count": 25,
   "metadata": {},
   "outputs": [
    {
     "name": "stdout",
     "output_type": "stream",
     "text": [
      "LGBM Metrics \n",
      "AVG : 0.5296939830564515 \n",
      "ROC : 0.6951121316950972\n"
     ]
    }
   ],
   "source": [
    "print(f'LGBM Metrics \\nAVG : {average_precision_score(yval,p)} \\nROC : {roc_auc_score(yval,p)}')"
   ]
  },
  {
   "cell_type": "code",
   "execution_count": null,
   "metadata": {},
   "outputs": [],
   "source": []
  }
 ],
 "metadata": {
  "kernelspec": {
   "display_name": "Python 3",
   "language": "python",
   "name": "python3"
  },
  "language_info": {
   "codemirror_mode": {
    "name": "ipython",
    "version": 3
   },
   "file_extension": ".py",
   "mimetype": "text/x-python",
   "name": "python",
   "nbconvert_exporter": "python",
   "pygments_lexer": "ipython3",
   "version": "3.8.5"
  }
 },
 "nbformat": 4,
 "nbformat_minor": 4
}
