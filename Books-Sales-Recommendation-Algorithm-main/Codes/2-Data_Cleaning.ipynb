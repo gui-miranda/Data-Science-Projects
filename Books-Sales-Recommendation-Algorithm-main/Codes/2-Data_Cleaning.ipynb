{
 "cells": [
  {
   "cell_type": "code",
   "execution_count": 1,
   "metadata": {},
   "outputs": [],
   "source": [
    "import pandas as pd\n",
    "import numpy as np"
   ]
  },
  {
   "cell_type": "code",
   "execution_count": null,
   "metadata": {},
   "outputs": [],
   "source": [
    "df = pd.read_feather('raw_data_unclean.feather').drop(['formato','language','editora'],axis=1)"
   ]
  },
  {
   "cell_type": "code",
   "execution_count": 350,
   "metadata": {},
   "outputs": [
    {
     "data": {
      "text/plain": [
       "titles    316\n",
       "price       0\n",
       "sales       6\n",
       "author    341\n",
       "dtype: int64"
      ]
     },
     "execution_count": 350,
     "metadata": {},
     "output_type": "execute_result"
    }
   ],
   "source": [
    "df.isnull().sum()"
   ]
  },
  {
   "cell_type": "code",
   "execution_count": 351,
   "metadata": {},
   "outputs": [
    {
     "data": {
      "text/plain": [
       "titles     object\n",
       "price     float64\n",
       "sales      object\n",
       "author     object\n",
       "dtype: object"
      ]
     },
     "execution_count": 351,
     "metadata": {},
     "output_type": "execute_result"
    }
   ],
   "source": [
    "df.dtypes"
   ]
  },
  {
   "cell_type": "code",
   "execution_count": 352,
   "metadata": {},
   "outputs": [],
   "source": [
    "df = df.dropna()"
   ]
  },
  {
   "cell_type": "code",
   "execution_count": 353,
   "metadata": {},
   "outputs": [],
   "source": [
    "strings = df2['sales']\n",
    "newsales = []\n",
    "for e in strings:\n",
    "    try:    \n",
    "        try:\n",
    "            k = e.replace('Novo  |  ','')\n",
    "            try:\n",
    "                newsales.append(float(k.replace('vendidos','')))\n",
    "            except:\n",
    "                newsales.append(float(k.replace('vendido','')))\n",
    "        \n",
    "        except:\n",
    "                k = e.replace('Usado  |  ','')\n",
    "                try:\n",
    "                    newsales.append(float(k.replace('vendidos','')))\n",
    "                except:\n",
    "                    newsales.append(float(k.replace('vendido','')))\n",
    "            \n",
    "           \n",
    "    except:\n",
    "        newsales.append('null')\n",
    "        continue\n",
    "               \n",
    "            \n",
    "        \n",
    "newsales = pd.DataFrame(newsales)"
   ]
  },
  {
   "cell_type": "code",
   "execution_count": 354,
   "metadata": {},
   "outputs": [],
   "source": [
    "index_names = newsales[newsales[0] == 'null'].index\n",
    "newsales = newsales.drop(index_names,axis=0)"
   ]
  },
  {
   "cell_type": "code",
   "execution_count": 355,
   "metadata": {},
   "outputs": [],
   "source": [
    "df['sales'] = newsales[0]\n",
    "df = df.dropna().reset_index().drop('index',axis=1)"
   ]
  },
  {
   "cell_type": "code",
   "execution_count": 356,
   "metadata": {},
   "outputs": [
    {
     "data": {
      "text/plain": [
       "titles    0\n",
       "price     0\n",
       "sales     0\n",
       "author    0\n",
       "dtype: int64"
      ]
     },
     "execution_count": 356,
     "metadata": {},
     "output_type": "execute_result"
    }
   ],
   "source": [
    "df.isnull().sum()"
   ]
  },
  {
   "cell_type": "code",
   "execution_count": 357,
   "metadata": {},
   "outputs": [
    {
     "data": {
      "text/plain": [
       "titles     object\n",
       "price     float64\n",
       "sales      object\n",
       "author     object\n",
       "dtype: object"
      ]
     },
     "execution_count": 357,
     "metadata": {},
     "output_type": "execute_result"
    }
   ],
   "source": [
    "df.dtypes"
   ]
  },
  {
   "cell_type": "code",
   "execution_count": null,
   "metadata": {},
   "outputs": [],
   "source": [
    "df.to_csv('raw_data_nlabels.csv')"
   ]
  }
 ],
 "metadata": {
  "kernelspec": {
   "display_name": "Python 3",
   "language": "python",
   "name": "python3"
  },
  "language_info": {
   "codemirror_mode": {
    "name": "ipython",
    "version": 3
   },
   "file_extension": ".py",
   "mimetype": "text/x-python",
   "name": "python",
   "nbconvert_exporter": "python",
   "pygments_lexer": "ipython3",
   "version": "3.8.5"
  }
 },
 "nbformat": 4,
 "nbformat_minor": 4
}
