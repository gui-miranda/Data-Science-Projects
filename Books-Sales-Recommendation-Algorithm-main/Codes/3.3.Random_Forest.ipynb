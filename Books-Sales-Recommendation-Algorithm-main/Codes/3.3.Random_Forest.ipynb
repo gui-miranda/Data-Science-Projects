{
 "cells": [
  {
   "cell_type": "code",
   "execution_count": 2,
   "metadata": {},
   "outputs": [],
   "source": [
    "import pandas as pd\n",
    "import numpy as np\n",
    "\n",
    "from sklearn.ensemble import RandomForestClassifier\n",
    "\n",
    "from sklearn.model_selection import train_test_split\n",
    "from sklearn.feature_extraction.text import TfidfVectorizer \n",
    "from scipy.sparse import hstack\n",
    "from yellowbrick.classifier import ConfusionMatrix\n",
    "from sklearn.metrics import average_precision_score , roc_auc_score\n",
    "\n",
    "\n"
   ]
  },
  {
   "cell_type": "code",
   "execution_count": 3,
   "metadata": {},
   "outputs": [],
   "source": [
    "df = pd.read_csv('raw_data_wlabels.csv').drop('Unnamed: 0',axis=1).dropna()\n",
    "\n",
    "y = df['y']\n",
    "xdata = df.drop('y',axis=1)\n",
    "\n",
    "data_train,data_val,ytrain,yval = train_test_split(xdata,\n",
    "                                                    y,\n",
    "                                                    test_size = 0.5,\n",
    "                                                    random_state=0)\n"
   ]
  },
  {
   "cell_type": "code",
   "execution_count": 4,
   "metadata": {},
   "outputs": [],
   "source": [
    "# Vetorizando os titulos\n",
    "title_train = data_train['titles']\n",
    "title_val = data_val['titles']\n",
    "\n",
    "title_vec = TfidfVectorizer(min_df = 2,ngram_range=(1,1))\n",
    "\n",
    "title_bow_train = title_vec.fit_transform(title_train)\n",
    "title_bow_val = title_vec.transform(title_val)\n",
    "\n",
    "autor_train = data_train['author']\n",
    "autor_val = data_val['author']\n",
    "\n",
    "autor_vec = TfidfVectorizer(min_df = 1,ngram_range=(1,1))\n",
    "\n",
    "autor_bow_train = title_vec.fit_transform(autor_train)\n",
    "autor_bow_val = title_vec.transform(autor_val)\n"
   ]
  },
  {
   "cell_type": "code",
   "execution_count": 5,
   "metadata": {},
   "outputs": [],
   "source": [
    "mask_train = data_train.drop(['titles','author'],axis=1)\n",
    "mask_val = data_val.drop(['titles','author'],axis=1)\n",
    "\n",
    "xtrain_wvec = hstack([title_bow_train,autor_bow_train,mask_train])\n",
    "xval_wvec = hstack([title_bow_val,autor_bow_val,mask_val])\n",
    "\n"
   ]
  },
  {
   "cell_type": "markdown",
   "metadata": {},
   "source": [
    "# Random Forest"
   ]
  },
  {
   "cell_type": "code",
   "execution_count": 6,
   "metadata": {},
   "outputs": [
    {
     "data": {
      "image/png": "[encoded data removed]",
      "text/plain": [
       "<Figure size 576x396 with 1 Axes>"
      ]
     },
     "metadata": {},
     "output_type": "display_data"
    },
    {
     "data": {
      "text/plain": [
       "<AxesSubplot:title={'center':'RandomForestClassifier Confusion Matrix'}, xlabel='Predicted Class', ylabel='True Class'>"
      ]
     },
     "execution_count": 6,
     "metadata": {},
     "output_type": "execute_result"
    }
   ],
   "source": [
    "rdf = ConfusionMatrix(RandomForestClassifier(n_estimators = 1000,random_state=0,min_samples_leaf=3,class_weight = 'balanced', n_jobs=6))\n",
    "rdf = rdf.fit(xtrain_wvec,ytrain)\n",
    "rdf.score(xval_wvec, yval)\n",
    "rdf.poof()"
   ]
  },
  {
   "cell_type": "code",
   "execution_count": 7,
   "metadata": {},
   "outputs": [],
   "source": [
    "p = rdf.predict_proba(xval_wvec)[:,1]"
   ]
  },
  {
   "cell_type": "code",
   "execution_count": 10,
   "metadata": {},
   "outputs": [
    {
     "name": "stdout",
     "output_type": "stream",
     "text": [
      "Random Forest Metrics \n",
      "AVG : 0.48340197848954136 \n",
      "ROC : 0.6663858403912681\n"
     ]
    }
   ],
   "source": [
    "print(f'Random Forest Metrics \\nAVG : {average_precision_score(yval,p)} \\nROC : {roc_auc_score(yval,p)}')"
   ]
  },
  {
   "cell_type": "code",
   "execution_count": null,
   "metadata": {},
   "outputs": [],
   "source": []
  },
  {
   "cell_type": "code",
   "execution_count": null,
   "metadata": {},
   "outputs": [],
   "source": []
  }
 ],
 "metadata": {
  "kernelspec": {
   "display_name": "Python 3",
   "language": "python",
   "name": "python3"
  },
  "language_info": {
   "codemirror_mode": {
    "name": "ipython",
    "version": 3
   },
   "file_extension": ".py",
   "mimetype": "text/x-python",
   "name": "python",
   "nbconvert_exporter": "python",
   "pygments_lexer": "ipython3",
   "version": "3.8.5"
  }
 },
 "nbformat": 4,
 "nbformat_minor": 4
}
