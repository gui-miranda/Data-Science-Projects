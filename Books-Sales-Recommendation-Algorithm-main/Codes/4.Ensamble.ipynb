{
 "cells": [
  {
   "cell_type": "code",
   "execution_count": 86,
   "metadata": {},
   "outputs": [],
   "source": [
    "import pandas as pd\n",
    "import numpy as np\n",
    "\n",
    "\n",
    "\n",
    "from sklearn.pipeline import make_pipeline\n",
    "from sklearn.preprocessing import MaxAbsScaler,StandardScaler\n",
    "from scipy.sparse import hstack,csr_matrix\n",
    "from sklearn.model_selection import train_test_split\n",
    "from sklearn.feature_extraction.text import TfidfVectorizer \n",
    "from yellowbrick.classifier import ConfusionMatrix\n",
    "from sklearn.metrics import average_precision_score , roc_auc_score"
   ]
  },
  {
   "cell_type": "code",
   "execution_count": 87,
   "metadata": {},
   "outputs": [],
   "source": [
    "df = pd.read_csv('raw_data_wlabels.csv').drop('Unnamed: 0',axis=1).dropna()\n",
    "\n",
    "y = df['y']\n",
    "xdata = df.drop('y',axis=1)\n",
    "\n",
    "data_train,data_val,ytrain,yval = train_test_split(xdata,\n",
    "                                                    y,\n",
    "                                                    test_size = 0.5,\n",
    "                                                    random_state=0)"
   ]
  },
  {
   "cell_type": "code",
   "execution_count": 88,
   "metadata": {},
   "outputs": [],
   "source": [
    "# Vetorizando as features de texto\n",
    "title_train = data_train['titles']\n",
    "title_val = data_val['titles']\n",
    "\n",
    "title_vec = TfidfVectorizer(min_df = 2,ngram_range=(1,1))\n",
    "\n",
    "title_vec3 = TfidfVectorizer(min_df = 4,ngram_range=(1,5))\n",
    "\n",
    "title_bow_train = title_vec.fit_transform(title_train)\n",
    "title_bow_val = title_vec.transform(title_val)\n",
    "\n",
    "title_bow_train3 = title_vec3.fit_transform(title_train)\n",
    "title_bow_val3 = title_vec3.transform(title_val)\n",
    "\n",
    "\n",
    "autor_train = data_train['author']\n",
    "autor_val = data_val['author']\n",
    "\n",
    "autor_vec = TfidfVectorizer(min_df = 2,ngram_range=(1,1))\n",
    "autor_vec = TfidfVectorizer(min_df = 4,ngram_range=(1,5))\n",
    "\n",
    "autor_bow_train = autor_vec.fit_transform(autor_train)\n",
    "autor_bow_val = autor_vec.transform(autor_val)\n",
    "\n",
    "autor_bow_train3 = autor_vec3.fit_transform(autor_train)\n",
    "autor_bow_val3 = autor_vec3.transform(autor_val)"
   ]
  },
  {
   "cell_type": "code",
   "execution_count": 89,
   "metadata": {},
   "outputs": [],
   "source": [
    "mask_train = data_train.drop(['titles','author'],axis=1)\n",
    "mask_val = data_val.drop(['titles','author'],axis=1)\n",
    "\n",
    "xtrain_wvec = hstack([title_bow_train,autor_bow_train,mask_train])\n",
    "xval_wvec = hstack([title_bow_val,autor_bow_val,mask_val])\n",
    "\n",
    "xtrain_wvec3 = hstack([title_bow_train3,autor_bow_train3,mask_train])\n",
    "xval_wvec3 = hstack([title_bow_val3,autor_bow_val3,mask_val])\n"
   ]
  },
  {
   "cell_type": "code",
   "execution_count": 111,
   "metadata": {},
   "outputs": [
    {
     "data": {
      "text/plain": [
       "967      66.22\n",
       "833     159.00\n",
       "109      30.00\n",
       "379      43.92\n",
       "171      48.90\n",
       "         ...  \n",
       "1035     39.90\n",
       "765      72.80\n",
       "837      41.25\n",
       "559      62.95\n",
       "686     249.90\n",
       "Name: price, Length: 569, dtype: float64"
      ]
     },
     "execution_count": 111,
     "metadata": {},
     "output_type": "execute_result"
    }
   ],
   "source": []
  },
  {
   "cell_type": "markdown",
   "metadata": {},
   "source": [
    "# Regressão Logistica"
   ]
  },
  {
   "cell_type": "code",
   "execution_count": 90,
   "metadata": {},
   "outputs": [],
   "source": [
    "xtrain_wvec2 = csr_matrix(xtrain_wvec)\n",
    "xval_wvec2 = csr_matrix(xval_wvec)"
   ]
  },
  {
   "cell_type": "code",
   "execution_count": 91,
   "metadata": {},
   "outputs": [
    {
     "data": {
      "text/plain": [
       "Pipeline(steps=[('maxabsscaler', MaxAbsScaler()),\n",
       "                ('logisticregression',\n",
       "                 LogisticRegression(C=30, n_jobs=6, random_state=0))])"
      ]
     },
     "execution_count": 91,
     "metadata": {},
     "output_type": "execute_result"
    }
   ],
   "source": [
    "from sklearn.linear_model import LogisticRegression\n",
    "lr = make_pipeline(MaxAbsScaler(),LogisticRegression(C=30,n_jobs=6,random_state=0))\n",
    "lr.fit(xtrain_wvec2,ytrain)"
   ]
  },
  {
   "cell_type": "code",
   "execution_count": 92,
   "metadata": {},
   "outputs": [
    {
     "name": "stdout",
     "output_type": "stream",
     "text": [
      "AVP: 0.524067608236109\n",
      "ROC: 0.7158684241918167\n"
     ]
    }
   ],
   "source": [
    "p_lr = lr.predict_proba(xval_wvec2)[:,1]\n",
    "print(f'AVP: {average_precision_score(yval,p_lr)}')    \n",
    "print(f'ROC: {roc_auc_score(yval,p_lr)}')"
   ]
  },
  {
   "cell_type": "markdown",
   "metadata": {},
   "source": [
    "# Random Forest\n"
   ]
  },
  {
   "cell_type": "code",
   "execution_count": 93,
   "metadata": {},
   "outputs": [],
   "source": [
    "from sklearn.ensemble import RandomForestClassifier\n",
    "rdf = RandomForestClassifier(n_estimators = 1000,random_state=0,min_samples_leaf=3,class_weight = 'balanced', n_jobs=6)\n",
    "rdf = rdf.fit(csr_matrix(xtrain_wvec),ytrain)"
   ]
  },
  {
   "cell_type": "code",
   "execution_count": 94,
   "metadata": {},
   "outputs": [
    {
     "name": "stdout",
     "output_type": "stream",
     "text": [
      "AVP: 0.48127168867962844\n",
      "ROC: 0.6562239055230824\n"
     ]
    }
   ],
   "source": [
    "p_rd = rdf.predict_proba(csr_matrix(xval_wvec))[:,1]\n",
    "print(f'AVP: {average_precision_score(yval,p_rd)}')    \n",
    "print(f'ROC: {roc_auc_score(yval,p_rd)}')"
   ]
  },
  {
   "cell_type": "markdown",
   "metadata": {},
   "source": [
    "# Árvore de Decisão"
   ]
  },
  {
   "cell_type": "code",
   "execution_count": 95,
   "metadata": {},
   "outputs": [
    {
     "data": {
      "text/plain": [
       "DecisionTreeClassifier(class_weight='balanced', max_depth=4, random_state=0)"
      ]
     },
     "execution_count": 95,
     "metadata": {},
     "output_type": "execute_result"
    }
   ],
   "source": [
    "from sklearn.tree import DecisionTreeClassifier\n",
    "dt = DecisionTreeClassifier(random_state = 0,max_depth = 4,class_weight = \"balanced\")\n",
    "dt.fit(csr_matrix(xtrain_wvec),ytrain)"
   ]
  },
  {
   "cell_type": "code",
   "execution_count": 96,
   "metadata": {},
   "outputs": [
    {
     "name": "stdout",
     "output_type": "stream",
     "text": [
      "AVP: 0.3203137553091555\n",
      "ROC: 0.563357389955863\n"
     ]
    }
   ],
   "source": [
    "p_dt = dt.predict_proba(csr_matrix(xval_wvec))[:,1]\n",
    "print(f'AVP: {average_precision_score(yval,p_dt)}')    \n",
    "print(f'ROC: {roc_auc_score(yval,p_dt)}')"
   ]
  },
  {
   "cell_type": "markdown",
   "metadata": {},
   "source": [
    "# LGBM"
   ]
  },
  {
   "cell_type": "code",
   "execution_count": 97,
   "metadata": {},
   "outputs": [],
   "source": [
    "best = [0.0017606961005459585,10,2,0.7976031342753723,0.23056440691282926,906,4,5]"
   ]
  },
  {
   "cell_type": "code",
   "execution_count": 98,
   "metadata": {},
   "outputs": [
    {
     "name": "stdout",
     "output_type": "stream",
     "text": [
      "[LightGBM] [Warning] bagging_freq is set=1, subsample_freq=0 will be ignored. Current value: bagging_freq=1\n"
     ]
    },
    {
     "data": {
      "text/plain": [
       "LGBMClassifier(bagging_freq=1, class_weight='balanced',\n",
       "               colsample_bytree=0.23056440691282926,\n",
       "               learning_rate=0.0017606961005459585, max_depth=10,\n",
       "               min_child_samples=2, n_estimators=906, n_jobs=6, num_leaves=1024,\n",
       "               random_state=0, subsample=0.7976031342753723)"
      ]
     },
     "execution_count": 98,
     "metadata": {},
     "output_type": "execute_result"
    }
   ],
   "source": [
    "from lightgbm import LGBMClassifier\n",
    "LGBM =  LGBMClassifier(learning_rate=best[0], num_leaves= 2 ** best[1], max_depth=best[1],\n",
    "                         min_child_samples=best[2], subsample=best[3],\n",
    "                         colsample_bytree=best[4], bagging_freq = 1, n_estimators=best[5], \n",
    "                         random_state = 0, class_weight ='balanced',n_jobs=6)\n",
    "LGBM.fit(csr_matrix(xtrain_wvec3),ytrain)"
   ]
  },
  {
   "cell_type": "code",
   "execution_count": 99,
   "metadata": {},
   "outputs": [],
   "source": [
    "p_lgb = LGBM.predict_proba(csr_matrix(xval_wvec3))[:,1]"
   ]
  },
  {
   "cell_type": "code",
   "execution_count": 104,
   "metadata": {},
   "outputs": [
    {
     "name": "stdout",
     "output_type": "stream",
     "text": [
      "AVP: 0.5296939830564515\n",
      "ROC: 0.6951121316950972\n"
     ]
    }
   ],
   "source": [
    "p_lgb = LGBM.predict_proba(csr_matrix(xval_wvec3))[:,1]\n",
    "print(f'AVP: {average_precision_score(yval,p_lgb)}')    \n",
    "print(f'ROC: {roc_auc_score(yval,p_lgb)}')"
   ]
  },
  {
   "cell_type": "markdown",
   "metadata": {},
   "source": [
    "# Montando o Ensamble"
   ]
  },
  {
   "cell_type": "code",
   "execution_count": 105,
   "metadata": {},
   "outputs": [
    {
     "data": {
      "text/html": [
       "<div>\n",
       "<style scoped>\n",
       "    .dataframe tbody tr th:only-of-type {\n",
       "        vertical-align: middle;\n",
       "    }\n",
       "\n",
       "    .dataframe tbody tr th {\n",
       "        vertical-align: top;\n",
       "    }\n",
       "\n",
       "    .dataframe thead th {\n",
       "        text-align: right;\n",
       "    }\n",
       "</style>\n",
       "<table border=\"1\" class=\"dataframe\">\n",
       "  <thead>\n",
       "    <tr style=\"text-align: right;\">\n",
       "      <th></th>\n",
       "      <th>LR</th>\n",
       "      <th>RDF</th>\n",
       "      <th>DCT</th>\n",
       "      <th>LGBM</th>\n",
       "    </tr>\n",
       "  </thead>\n",
       "  <tbody>\n",
       "    <tr>\n",
       "      <th>LR</th>\n",
       "      <td>1.000000</td>\n",
       "      <td>0.569184</td>\n",
       "      <td>0.279887</td>\n",
       "      <td>0.564670</td>\n",
       "    </tr>\n",
       "    <tr>\n",
       "      <th>RDF</th>\n",
       "      <td>0.569184</td>\n",
       "      <td>1.000000</td>\n",
       "      <td>0.630142</td>\n",
       "      <td>0.872227</td>\n",
       "    </tr>\n",
       "    <tr>\n",
       "      <th>DCT</th>\n",
       "      <td>0.279887</td>\n",
       "      <td>0.630142</td>\n",
       "      <td>1.000000</td>\n",
       "      <td>0.434967</td>\n",
       "    </tr>\n",
       "    <tr>\n",
       "      <th>LGBM</th>\n",
       "      <td>0.564670</td>\n",
       "      <td>0.872227</td>\n",
       "      <td>0.434967</td>\n",
       "      <td>1.000000</td>\n",
       "    </tr>\n",
       "  </tbody>\n",
       "</table>\n",
       "</div>"
      ],
      "text/plain": [
       "            LR       RDF       DCT      LGBM\n",
       "LR    1.000000  0.569184  0.279887  0.564670\n",
       "RDF   0.569184  1.000000  0.630142  0.872227\n",
       "DCT   0.279887  0.630142  1.000000  0.434967\n",
       "LGBM  0.564670  0.872227  0.434967  1.000000"
      ]
     },
     "execution_count": 105,
     "metadata": {},
     "output_type": "execute_result"
    }
   ],
   "source": [
    "pd.DataFrame({'LR': p_lr,'RDF':p_rd,'DCT':p_dt,'LGBM':p_lgb}).corr()"
   ]
  },
  {
   "cell_type": "code",
   "execution_count": 106,
   "metadata": {},
   "outputs": [],
   "source": [
    "p = (0.25*p_rd + 0.25*p_lr + 0.5*p_lgb)"
   ]
  },
  {
   "cell_type": "code",
   "execution_count": 107,
   "metadata": {},
   "outputs": [
    {
     "name": "stdout",
     "output_type": "stream",
     "text": [
      "AVG : 0.5512737816445318 \n",
      "ROC : 0.7172849815101994\n"
     ]
    }
   ],
   "source": [
    "print(f'AVG : {average_precision_score(yval,p)} \\nROC : {roc_auc_score(yval,p)}')"
   ]
  },
  {
   "cell_type": "markdown",
   "metadata": {},
   "source": [
    "# Salvando os Modelos"
   ]
  },
  {
   "cell_type": "code",
   "execution_count": 108,
   "metadata": {},
   "outputs": [
    {
     "data": {
      "text/plain": [
       "['autor_vectorizer_2021_05_20.pkl']"
      ]
     },
     "execution_count": 108,
     "metadata": {},
     "output_type": "execute_result"
    }
   ],
   "source": [
    "import joblib as jb\n",
    "jb.dump(lr,'logistic_reg_2021_05_20.pkl')\n",
    "jb.dump(rdf,'random_for_2021_05_20.pkl')\n",
    "jb.dump(LGBM,'LGBM_2021_05_20.pkl')\n",
    "\n",
    "jb.dump(title_vec,'title_vectorizer_2021_05_20.pkl')\n",
    "jb.dump(title_vec3,'title_vectorizer3_2021_05_20.pkl')\n",
    "jb.dump(autor_vec,'autor_vectorizer_2021_05_20.pkl')\n",
    "\n"
   ]
  },
  {
   "cell_type": "code",
   "execution_count": null,
   "metadata": {},
   "outputs": [],
   "source": []
  },
  {
   "cell_type": "code",
   "execution_count": null,
   "metadata": {},
   "outputs": [],
   "source": []
  }
 ],
 "metadata": {
  "kernelspec": {
   "display_name": "Python 3",
   "language": "python",
   "name": "python3"
  },
  "language_info": {
   "codemirror_mode": {
    "name": "ipython",
    "version": 3
   },
   "file_extension": ".py",
   "mimetype": "text/x-python",
   "name": "python",
   "nbconvert_exporter": "python",
   "pygments_lexer": "ipython3",
   "version": "3.8.5"
  }
 },
 "nbformat": 4,
 "nbformat_minor": 4
}
